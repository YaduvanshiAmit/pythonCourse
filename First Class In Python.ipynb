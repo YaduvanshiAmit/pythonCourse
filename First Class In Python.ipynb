{
 "cells": [
  {
   "cell_type": "markdown",
   "id": "8dae211c",
   "metadata": {},
   "source": [
    "## Basic Syntax and data type "
   ]
  },
  {
   "cell_type": "code",
   "execution_count": 2,
   "id": "704e6666",
   "metadata": {},
   "outputs": [
    {
     "name": "stdout",
     "output_type": "stream",
     "text": [
      "hello world\n"
     ]
    }
   ],
   "source": [
    "print('hello world')"
   ]
  },
  {
   "cell_type": "code",
   "execution_count": 3,
   "id": "35ec2aa3",
   "metadata": {},
   "outputs": [
    {
     "name": "stdout",
     "output_type": "stream",
     "text": [
      "5\n"
     ]
    }
   ],
   "source": [
    "print(5)"
   ]
  },
  {
   "cell_type": "code",
   "execution_count": 4,
   "id": "f5a16723",
   "metadata": {},
   "outputs": [
    {
     "name": "stdout",
     "output_type": "stream",
     "text": [
      "True\n"
     ]
    }
   ],
   "source": [
    "print(True)"
   ]
  },
  {
   "cell_type": "code",
   "execution_count": 5,
   "id": "7c0906e1",
   "metadata": {},
   "outputs": [],
   "source": [
    "# i am going to learn python"
   ]
  },
  {
   "cell_type": "code",
   "execution_count": 6,
   "id": "7e473a22",
   "metadata": {},
   "outputs": [
    {
     "data": {
      "text/plain": [
       "'\\nthis is multi line comment\\n'"
      ]
     },
     "execution_count": 6,
     "metadata": {},
     "output_type": "execute_result"
    }
   ],
   "source": [
    "\n",
    "\"\"\"\n",
    "this is multi line comment\n",
    "\n",
    "\"\"\""
   ]
  },
  {
   "cell_type": "markdown",
   "id": "15c75e73",
   "metadata": {},
   "source": [
    "## Variables:\n",
    "\n",
    "Variables are names used to store data in memory"
   ]
  },
  {
   "cell_type": "code",
   "execution_count": 10,
   "id": "63754646",
   "metadata": {},
   "outputs": [],
   "source": [
    "## variable assignment\n",
    "age = 25\n",
    "name = 'Amit'\n",
    "is_student = True\n",
    "marks = 97.8"
   ]
  },
  {
   "cell_type": "code",
   "execution_count": 8,
   "id": "1c8cdc9a",
   "metadata": {},
   "outputs": [
    {
     "data": {
      "text/plain": [
       "int"
      ]
     },
     "execution_count": 8,
     "metadata": {},
     "output_type": "execute_result"
    }
   ],
   "source": [
    "type(age)"
   ]
  },
  {
   "cell_type": "code",
   "execution_count": 9,
   "id": "3c57501f",
   "metadata": {},
   "outputs": [
    {
     "data": {
      "text/plain": [
       "str"
      ]
     },
     "execution_count": 9,
     "metadata": {},
     "output_type": "execute_result"
    }
   ],
   "source": [
    "type(name)"
   ]
  },
  {
   "cell_type": "code",
   "execution_count": 11,
   "id": "ab07b84b",
   "metadata": {},
   "outputs": [
    {
     "data": {
      "text/plain": [
       "bool"
      ]
     },
     "execution_count": 11,
     "metadata": {},
     "output_type": "execute_result"
    }
   ],
   "source": [
    "type(is_student)"
   ]
  },
  {
   "cell_type": "code",
   "execution_count": 12,
   "id": "c16aa379",
   "metadata": {},
   "outputs": [
    {
     "data": {
      "text/plain": [
       "float"
      ]
     },
     "execution_count": 12,
     "metadata": {},
     "output_type": "execute_result"
    }
   ],
   "source": [
    "type(marks)"
   ]
  },
  {
   "cell_type": "code",
   "execution_count": 13,
   "id": "4b5c28d0",
   "metadata": {},
   "outputs": [
    {
     "name": "stdout",
     "output_type": "stream",
     "text": [
      "Amit 25 True 97.8\n"
     ]
    }
   ],
   "source": [
    "print(name,age,is_student,marks)"
   ]
  },
  {
   "cell_type": "code",
   "execution_count": 15,
   "id": "ac5aae78",
   "metadata": {},
   "outputs": [
    {
     "ename": "SyntaxError",
     "evalue": "unexpected character after line continuation character (2389737497.py, line 1)",
     "output_type": "error",
     "traceback": [
      "\u001b[1;36m  Input \u001b[1;32mIn [15]\u001b[1;36m\u001b[0m\n\u001b[1;33m    print(\"Name:\", \\n name,\"Age\",age)\u001b[0m\n\u001b[1;37m                    ^\u001b[0m\n\u001b[1;31mSyntaxError\u001b[0m\u001b[1;31m:\u001b[0m unexpected character after line continuation character\n"
     ]
    }
   ],
   "source": [
    "print(\"Name:\", \\n name,\"Age\",age)"
   ]
  },
  {
   "cell_type": "code",
   "execution_count": 17,
   "id": "debfd3fb",
   "metadata": {},
   "outputs": [
    {
     "name": "stdout",
     "output_type": "stream",
     "text": [
      "Name:Amit,\n",
      "Age:25\n"
     ]
    }
   ],
   "source": [
    "print(f\"Name:{name},\\nAge:{age}\")"
   ]
  },
  {
   "cell_type": "code",
   "execution_count": 18,
   "id": "825ad93d",
   "metadata": {},
   "outputs": [
    {
     "name": "stdout",
     "output_type": "stream",
     "text": [
      "my name is Amit and my age is 25\n"
     ]
    }
   ],
   "source": [
    "print('my name is {} and my age is {}'.format(name,age))"
   ]
  },
  {
   "cell_type": "code",
   "execution_count": 19,
   "id": "de7ad429",
   "metadata": {},
   "outputs": [
    {
     "name": "stdout",
     "output_type": "stream",
     "text": [
      "my name is Amit and my age is 25\n"
     ]
    }
   ],
   "source": [
    "print('my name is {Name} and my age is {Age}'.format(Age=age,Name=name))"
   ]
  },
  {
   "cell_type": "code",
   "execution_count": 20,
   "id": "0e3b07e9",
   "metadata": {},
   "outputs": [
    {
     "name": "stdout",
     "output_type": "stream",
     "text": [
      "my name is Amit and my age is 25\n"
     ]
    }
   ],
   "source": [
    "print(f\"my name is {name} and my age is {age}\")"
   ]
  },
  {
   "cell_type": "code",
   "execution_count": 21,
   "id": "1c76fd49",
   "metadata": {},
   "outputs": [],
   "source": [
    "## Number\n",
    "complex_number = 2+3j\n"
   ]
  },
  {
   "cell_type": "code",
   "execution_count": 22,
   "id": "75796eab",
   "metadata": {},
   "outputs": [
    {
     "data": {
      "text/plain": [
       "complex"
      ]
     },
     "execution_count": 22,
     "metadata": {},
     "output_type": "execute_result"
    }
   ],
   "source": [
    "type(complex_number)"
   ]
  },
  {
   "cell_type": "code",
   "execution_count": 27,
   "id": "d916737e",
   "metadata": {},
   "outputs": [
    {
     "name": "stdout",
     "output_type": "stream",
     "text": [
      "Enter your age25\n"
     ]
    }
   ],
   "source": [
    "user_imput = int(input(\"Enter your age\"))"
   ]
  },
  {
   "cell_type": "code",
   "execution_count": 28,
   "id": "634e56e8",
   "metadata": {},
   "outputs": [
    {
     "name": "stdout",
     "output_type": "stream",
     "text": [
      "25\n"
     ]
    }
   ],
   "source": [
    "print(user_imput)"
   ]
  },
  {
   "cell_type": "code",
   "execution_count": 29,
   "id": "966f1ff5",
   "metadata": {},
   "outputs": [
    {
     "data": {
      "text/plain": [
       "int"
      ]
     },
     "execution_count": 29,
     "metadata": {},
     "output_type": "execute_result"
    }
   ],
   "source": [
    "type(user_imput)"
   ]
  },
  {
   "cell_type": "code",
   "execution_count": 40,
   "id": "96455e12",
   "metadata": {},
   "outputs": [
    {
     "name": "stdout",
     "output_type": "stream",
     "text": [
      "Enter your First subject Marks25\n",
      "Enter your second subject Marks56\n",
      "Your Total Marks is 81 and your Percentage is 40.500 and Sorry You are Fail\n"
     ]
    }
   ],
   "source": [
    "### fun Example\n",
    "sub1 = int(input(\"Enter your First subject Marks\"))\n",
    "sub2 = int(input(\"Enter your second subject Marks\"))\n",
    "\n",
    "## add this marks \n",
    "\n",
    "final_marks = sub1 + sub2\n",
    "\n",
    "# print(final_marks)\n",
    "## calculate Percentage\n",
    "percentage = (final_marks/200)*100\n",
    "\n",
    "##3 Chech Condition To passs and Fail\n",
    "\n",
    "if percentage >= 50:\n",
    "    print(f\"Your Total Marks is {final_marks} and your Percentage is {percentage:.3f} and Wola You Passed\")\n",
    "else:\n",
    "    print(f\"Your Total Marks is {final_marks} and your Percentage is {percentage:.3f} and Sorry You are Fail\")\n",
    "    \n",
    "\n",
    "\n"
   ]
  },
  {
   "cell_type": "code",
   "execution_count": 69,
   "id": "d444f7d6",
   "metadata": {},
   "outputs": [
    {
     "name": "stdout",
     "output_type": "stream",
     "text": [
      "Enter the number of subject: bbdhsbdhbshbd\n"
     ]
    },
    {
     "ename": "ValueError",
     "evalue": "invalid literal for int() with base 10: 'bbdhsbdhbshbd'",
     "output_type": "error",
     "traceback": [
      "\u001b[1;31m---------------------------------------------------------------------------\u001b[0m",
      "\u001b[1;31mValueError\u001b[0m                                Traceback (most recent call last)",
      "Input \u001b[1;32mIn [69]\u001b[0m, in \u001b[0;36m<cell line: 19>\u001b[1;34m()\u001b[0m\n\u001b[0;32m     16\u001b[0m     \u001b[38;5;28;01melse\u001b[39;00m:\n\u001b[0;32m     17\u001b[0m         \u001b[38;5;28;01mreturn\u001b[39;00m \u001b[38;5;124m'\u001b[39m\u001b[38;5;124mFail\u001b[39m\u001b[38;5;124m'\u001b[39m\n\u001b[1;32m---> 19\u001b[0m result \u001b[38;5;241m=\u001b[39m \u001b[43mcalculate_result\u001b[49m\u001b[43m(\u001b[49m\u001b[43m)\u001b[49m\n\u001b[0;32m     20\u001b[0m \u001b[38;5;28mprint\u001b[39m(result)\n",
      "Input \u001b[1;32mIn [69]\u001b[0m, in \u001b[0;36mcalculate_result\u001b[1;34m()\u001b[0m\n\u001b[0;32m      1\u001b[0m \u001b[38;5;28;01mdef\u001b[39;00m \u001b[38;5;21mcalculate_result\u001b[39m():\n\u001b[1;32m----> 2\u001b[0m     num_subject \u001b[38;5;241m=\u001b[39m \u001b[38;5;28;43mint\u001b[39;49m\u001b[43m(\u001b[49m\u001b[38;5;28;43minput\u001b[39;49m\u001b[43m(\u001b[49m\u001b[38;5;124;43m'\u001b[39;49m\u001b[38;5;124;43mEnter the number of subject: \u001b[39;49m\u001b[38;5;124;43m'\u001b[39;49m\u001b[43m)\u001b[49m\u001b[43m)\u001b[49m\n\u001b[0;32m      4\u001b[0m     total_marks \u001b[38;5;241m=\u001b[39m \u001b[38;5;241m0\u001b[39m\n\u001b[0;32m      5\u001b[0m     \u001b[38;5;28;01mfor\u001b[39;00m i \u001b[38;5;129;01min\u001b[39;00m \u001b[38;5;28mrange\u001b[39m(\u001b[38;5;241m1\u001b[39m,num_subject\u001b[38;5;241m+\u001b[39m\u001b[38;5;241m1\u001b[39m):\n",
      "\u001b[1;31mValueError\u001b[0m: invalid literal for int() with base 10: 'bbdhsbdhbshbd'"
     ]
    }
   ],
   "source": [
    "def calculate_result():\n",
    "    num_subject = int(input('Enter the number of subject: '))\n",
    "    \n",
    "    total_marks = 0\n",
    "    for i in range(1,num_subject+1):\n",
    "        subject_marks = int(input(f'Enter marks for Subject {i}:'))\n",
    "#         total_marks = total_marks + subject_marks\n",
    "        total_marks += subject_marks\n",
    "    ## percentage \n",
    "    percentage = (total_marks/ (num_subject*100))*100\n",
    "    print(f\"Total marks : {total_marks}\")\n",
    "    print(f\"Percentahe :{percentage:.2f}%\")\n",
    "    \n",
    "    if percentage >= 50:\n",
    "        return 'Pass'\n",
    "    else:\n",
    "        return 'Fail'\n",
    "    \n",
    "result = calculate_result()\n",
    "print(result)"
   ]
  },
  {
   "cell_type": "code",
   "execution_count": null,
   "id": "6a072881",
   "metadata": {},
   "outputs": [],
   "source": [
    "num_subject = int(input('Enter the number of subject: '))\n",
    "# print(num_subject)\n",
    "total_marks = 0\n",
    "# print('smallTotal',total_marks)\n",
    "for i in range(1,num_subject+1):\n",
    "    subject_marks = int(input(f'Enter marks for Subject {i}:'))\n",
    "    total_marks = total_marks + subject_marks\n",
    "#     print('TotalMarks',total_marks)"
   ]
  },
  {
   "cell_type": "code",
   "execution_count": 63,
   "id": "2d21ec25",
   "metadata": {},
   "outputs": [],
   "source": [
    "def sum(a,b):\n",
    "    print(a+b)"
   ]
  },
  {
   "cell_type": "code",
   "execution_count": 64,
   "id": "e5f531c6",
   "metadata": {},
   "outputs": [],
   "source": [
    "def sumr(a,b):\n",
    "    return a+b"
   ]
  },
  {
   "cell_type": "code",
   "execution_count": 65,
   "id": "e5fe8c5b",
   "metadata": {},
   "outputs": [
    {
     "name": "stdout",
     "output_type": "stream",
     "text": [
      "6\n",
      "None\n"
     ]
    }
   ],
   "source": [
    "total = sum(2,4)\n",
    "print(total)"
   ]
  },
  {
   "cell_type": "code",
   "execution_count": 66,
   "id": "b83decaf",
   "metadata": {},
   "outputs": [
    {
     "name": "stdout",
     "output_type": "stream",
     "text": [
      "6\n"
     ]
    }
   ],
   "source": [
    "total = sumr(2,4)\n",
    "print(total)"
   ]
  },
  {
   "cell_type": "code",
   "execution_count": 73,
   "id": "f5a8dbe0",
   "metadata": {},
   "outputs": [],
   "source": [
    "### Fun\n",
    "string = \"yaduvanshi amit\""
   ]
  },
  {
   "cell_type": "code",
   "execution_count": 71,
   "id": "1677fccc",
   "metadata": {},
   "outputs": [
    {
     "data": {
      "text/plain": [
       "'yaduvanshi amit'"
      ]
     },
     "execution_count": 71,
     "metadata": {},
     "output_type": "execute_result"
    }
   ],
   "source": [
    "string.lower()"
   ]
  },
  {
   "cell_type": "code",
   "execution_count": 72,
   "id": "f0a352cd",
   "metadata": {},
   "outputs": [
    {
     "data": {
      "text/plain": [
       "'YADUVANSHI AMIT'"
      ]
     },
     "execution_count": 72,
     "metadata": {},
     "output_type": "execute_result"
    }
   ],
   "source": [
    "string.upper()"
   ]
  },
  {
   "cell_type": "code",
   "execution_count": 74,
   "id": "9045d1c2",
   "metadata": {},
   "outputs": [
    {
     "data": {
      "text/plain": [
       "'Yaduvanshi Amit'"
      ]
     },
     "execution_count": 74,
     "metadata": {},
     "output_type": "execute_result"
    }
   ],
   "source": [
    "string.title()"
   ]
  },
  {
   "cell_type": "code",
   "execution_count": 75,
   "id": "238d6965",
   "metadata": {},
   "outputs": [
    {
     "data": {
      "text/plain": [
       "False"
      ]
     },
     "execution_count": 75,
     "metadata": {},
     "output_type": "execute_result"
    }
   ],
   "source": [
    "string.isdigit()"
   ]
  },
  {
   "cell_type": "code",
   "execution_count": 76,
   "id": "7ef15275",
   "metadata": {},
   "outputs": [
    {
     "data": {
      "text/plain": [
       "True"
      ]
     },
     "execution_count": 76,
     "metadata": {},
     "output_type": "execute_result"
    }
   ],
   "source": [
    "string.endswith('t')"
   ]
  },
  {
   "cell_type": "code",
   "execution_count": 78,
   "id": "6d7b448c",
   "metadata": {},
   "outputs": [
    {
     "data": {
      "text/plain": [
       "True"
      ]
     },
     "execution_count": 78,
     "metadata": {},
     "output_type": "execute_result"
    }
   ],
   "source": [
    "string.startswith('y')"
   ]
  },
  {
   "cell_type": "code",
   "execution_count": 79,
   "id": "274b4c90",
   "metadata": {},
   "outputs": [
    {
     "data": {
      "text/plain": [
       "'ad'"
      ]
     },
     "execution_count": 79,
     "metadata": {},
     "output_type": "execute_result"
    }
   ],
   "source": [
    "string[1:3]"
   ]
  },
  {
   "cell_type": "code",
   "execution_count": 80,
   "id": "f2a71cdb",
   "metadata": {},
   "outputs": [
    {
     "ename": "TypeError",
     "evalue": "'int' object is not subscriptable",
     "output_type": "error",
     "traceback": [
      "\u001b[1;31m---------------------------------------------------------------------------\u001b[0m",
      "\u001b[1;31mTypeError\u001b[0m                                 Traceback (most recent call last)",
      "Input \u001b[1;32mIn [80]\u001b[0m, in \u001b[0;36m<cell line: 2>\u001b[1;34m()\u001b[0m\n\u001b[0;32m      1\u001b[0m number \u001b[38;5;241m=\u001b[39m \u001b[38;5;241m56\u001b[39m\n\u001b[1;32m----> 2\u001b[0m \u001b[43mnumber\u001b[49m\u001b[43m[\u001b[49m\u001b[38;5;241;43m0\u001b[39;49m\u001b[43m:\u001b[49m\u001b[38;5;241;43m1\u001b[39;49m\u001b[43m]\u001b[49m\n",
      "\u001b[1;31mTypeError\u001b[0m: 'int' object is not subscriptable"
     ]
    }
   ],
   "source": [
    "number = \n",
    "number[0:1]"
   ]
  },
  {
   "cell_type": "code",
   "execution_count": 81,
   "id": "f408d7de",
   "metadata": {},
   "outputs": [
    {
     "data": {
      "text/plain": [
       "'tima ihsnavuday'"
      ]
     },
     "execution_count": 81,
     "metadata": {},
     "output_type": "execute_result"
    }
   ],
   "source": [
    "string[::-1]"
   ]
  },
  {
   "cell_type": "code",
   "execution_count": 95,
   "id": "a90520e4",
   "metadata": {},
   "outputs": [
    {
     "data": {
      "text/plain": [
       "'ce'"
      ]
     },
     "execution_count": 95,
     "metadata": {},
     "output_type": "execute_result"
    }
   ],
   "source": [
    "string = 'abcdefghijklmnopq'\n",
    "string[2:6:2]"
   ]
  },
  {
   "cell_type": "code",
   "execution_count": null,
   "id": "f4d97acc",
   "metadata": {},
   "outputs": [],
   "source": [
    "radar"
   ]
  },
  {
   "cell_type": "code",
   "execution_count": 97,
   "id": "749780c1",
   "metadata": {},
   "outputs": [
    {
     "name": "stdout",
     "output_type": "stream",
     "text": [
      "Enter a word :amit\n"
     ]
    },
    {
     "data": {
      "text/plain": [
       "'This is Not Plaindrome'"
      ]
     },
     "execution_count": 97,
     "metadata": {},
     "output_type": "execute_result"
    }
   ],
   "source": [
    "def is_palindrome():\n",
    "    word = input(\"Enter a word :\")\n",
    "    cleaned_word = word.lower()\n",
    "    reversed_word = cleaned_word[::-1]\n",
    "    if cleaned_word == reversed_word:\n",
    "        return \"This is Palindrome\"\n",
    "    else:\n",
    "        return \"This is Not Plaindrome\"\n",
    "    \n",
    "is_palindrome()"
   ]
  },
  {
   "cell_type": "code",
   "execution_count": null,
   "id": "4542dc52",
   "metadata": {},
   "outputs": [],
   "source": []
  }
 ],
 "metadata": {
  "kernelspec": {
   "display_name": "Python 3 (ipykernel)",
   "language": "python",
   "name": "python3"
  },
  "language_info": {
   "codemirror_mode": {
    "name": "ipython",
    "version": 3
   },
   "file_extension": ".py",
   "mimetype": "text/x-python",
   "name": "python",
   "nbconvert_exporter": "python",
   "pygments_lexer": "ipython3",
   "version": "3.9.12"
  }
 },
 "nbformat": 4,
 "nbformat_minor": 5
}
