{
 "cells": [
  {
   "cell_type": "markdown",
   "id": "ff964f48",
   "metadata": {},
   "source": [
    "## Data Structures"
   ]
  },
  {
   "cell_type": "markdown",
   "id": "92a7fa08",
   "metadata": {},
   "source": [
    "## Lists \n",
    "\n",
    "Lists are Ordered collection of element that can hold items of different data types.\n",
    "\n",
    "Lists are Mutable,Meaning their elements can be changed after creation"
   ]
  },
  {
   "cell_type": "code",
   "execution_count": 4,
   "id": "a1e16c33",
   "metadata": {},
   "outputs": [
    {
     "data": {
      "text/plain": [
       "['apple', 'mango', 'grapes', 5, 5.6, True]"
      ]
     },
     "execution_count": 4,
     "metadata": {},
     "output_type": "execute_result"
    }
   ],
   "source": [
    "## Creating \n",
    "\n",
    "Fruits = ['apple','mango','grapes',5,5.6,True]\n",
    "Fruits\n",
    "\n",
    "# type(Fruits)"
   ]
  },
  {
   "cell_type": "code",
   "execution_count": 5,
   "id": "c12554e1",
   "metadata": {},
   "outputs": [
    {
     "data": {
      "text/plain": [
       "'apple'"
      ]
     },
     "execution_count": 5,
     "metadata": {},
     "output_type": "execute_result"
    }
   ],
   "source": [
    "### Accesing \n",
    "Fruits[0]"
   ]
  },
  {
   "cell_type": "code",
   "execution_count": 6,
   "id": "36f43425",
   "metadata": {},
   "outputs": [
    {
     "data": {
      "text/plain": [
       "'grapes'"
      ]
     },
     "execution_count": 6,
     "metadata": {},
     "output_type": "execute_result"
    }
   ],
   "source": [
    "Fruits[2]"
   ]
  },
  {
   "cell_type": "code",
   "execution_count": 7,
   "id": "d868de34",
   "metadata": {},
   "outputs": [
    {
     "data": {
      "text/plain": [
       "['Orange', 'mango', 'grapes', 5, 5.6, True]"
      ]
     },
     "execution_count": 7,
     "metadata": {},
     "output_type": "execute_result"
    }
   ],
   "source": [
    "Fruits[0] = 'Orange'\n",
    "Fruits"
   ]
  },
  {
   "cell_type": "code",
   "execution_count": 8,
   "id": "ad7b4adf",
   "metadata": {},
   "outputs": [
    {
     "data": {
      "text/plain": [
       "['Orange', 'mango', 'apple', 5, 5.6, True]"
      ]
     },
     "execution_count": 8,
     "metadata": {},
     "output_type": "execute_result"
    }
   ],
   "source": [
    "Fruits[2] = 'apple'\n",
    "Fruits"
   ]
  },
  {
   "cell_type": "code",
   "execution_count": 9,
   "id": "74e58d90",
   "metadata": {},
   "outputs": [
    {
     "data": {
      "text/plain": [
       "['Orange', 'mango', 'apple', 5, 5.6, True, 'grapes']"
      ]
     },
     "execution_count": 9,
     "metadata": {},
     "output_type": "execute_result"
    }
   ],
   "source": [
    "### Add a element in a list\n",
    "\n",
    "Fruits.append('grapes')\n",
    "Fruits"
   ]
  },
  {
   "cell_type": "code",
   "execution_count": 10,
   "id": "820c89eb",
   "metadata": {},
   "outputs": [
    {
     "data": {
      "text/plain": [
       "['grapes', 'Orange', 'mango', 'apple', 5, 5.6, True, 'grapes']"
      ]
     },
     "execution_count": 10,
     "metadata": {},
     "output_type": "execute_result"
    }
   ],
   "source": [
    "###  if we want to add element on any index\n",
    "Fruits.insert(0,'grapes')\n",
    "Fruits"
   ]
  },
  {
   "cell_type": "code",
   "execution_count": 11,
   "id": "a7a5e18d",
   "metadata": {},
   "outputs": [
    {
     "data": {
      "text/plain": [
       "['grapes', 'Orange', 'Watermelon', 'mango', 'apple', 5, 5.6, True, 'grapes']"
      ]
     },
     "execution_count": 11,
     "metadata": {},
     "output_type": "execute_result"
    }
   ],
   "source": [
    "## \n",
    "Fruits.insert(2,'Watermelon')\n",
    "Fruits"
   ]
  },
  {
   "cell_type": "code",
   "execution_count": 12,
   "id": "11bcef3c",
   "metadata": {},
   "outputs": [
    {
     "data": {
      "text/plain": [
       "9"
      ]
     },
     "execution_count": 12,
     "metadata": {},
     "output_type": "execute_result"
    }
   ],
   "source": [
    "### Check Length\n",
    "len(Fruits)"
   ]
  },
  {
   "cell_type": "code",
   "execution_count": 13,
   "id": "2dae2780",
   "metadata": {},
   "outputs": [
    {
     "data": {
      "text/plain": [
       "['grapes', 'Orange', 'Watermelon', 'mango', 'apple', 5.6, True, 'grapes']"
      ]
     },
     "execution_count": 13,
     "metadata": {},
     "output_type": "execute_result"
    }
   ],
   "source": [
    "Fruits.pop(5)\n",
    "Fruits"
   ]
  },
  {
   "cell_type": "code",
   "execution_count": 14,
   "id": "fd150440",
   "metadata": {},
   "outputs": [
    {
     "data": {
      "text/plain": [
       "['grapes', 'Orange', 'Watermelon', 'mango', 'apple', True, 'grapes']"
      ]
     },
     "execution_count": 14,
     "metadata": {},
     "output_type": "execute_result"
    }
   ],
   "source": [
    "Fruits.remove(5.6)\n",
    "Fruits"
   ]
  },
  {
   "cell_type": "raw",
   "id": "d023c024",
   "metadata": {},
   "source": [
    "### Indexing\n",
    "Fruits"
   ]
  },
  {
   "cell_type": "raw",
   "id": "ca09bc29",
   "metadata": {},
   "source": []
  }
 ],
 "metadata": {
  "kernelspec": {
   "display_name": "Python 3 (ipykernel)",
   "language": "python",
   "name": "python3"
  },
  "language_info": {
   "codemirror_mode": {
    "name": "ipython",
    "version": 3
   },
   "file_extension": ".py",
   "mimetype": "text/x-python",
   "name": "python",
   "nbconvert_exporter": "python",
   "pygments_lexer": "ipython3",
   "version": "3.9.12"
  }
 },
 "nbformat": 4,
 "nbformat_minor": 5
}
