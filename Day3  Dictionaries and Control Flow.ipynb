{
 "cells": [
  {
   "cell_type": "markdown",
   "id": "b21658eb",
   "metadata": {},
   "source": [
    "## Dictionary and Control Flow\n"
   ]
  },
  {
   "cell_type": "code",
   "execution_count": 1,
   "id": "37ec0932",
   "metadata": {},
   "outputs": [
    {
     "data": {
      "text/plain": [
       "{'vegs': 'potato', 'fruit': 'apple,mango', 'season': 'winter,summer'}"
      ]
     },
     "execution_count": 1,
     "metadata": {},
     "output_type": "execute_result"
    }
   ],
   "source": [
    "my_dict = {\"vegs\":\"potato\",\"fruit\":\"apple,mango\",\"season\":\"winter,summer\"}\n",
    "my_dict"
   ]
  },
  {
   "cell_type": "code",
   "execution_count": 3,
   "id": "95592c82",
   "metadata": {},
   "outputs": [
    {
     "data": {
      "text/plain": [
       "'apple,mango'"
      ]
     },
     "execution_count": 3,
     "metadata": {},
     "output_type": "execute_result"
    }
   ],
   "source": [
    "my_dict['fruit']"
   ]
  },
  {
   "cell_type": "code",
   "execution_count": 4,
   "id": "673e5ba8",
   "metadata": {},
   "outputs": [
    {
     "name": "stdout",
     "output_type": "stream",
     "text": [
      "vegs\n",
      "fruit\n",
      "season\n"
     ]
    }
   ],
   "source": [
    "for x in my_dict:\n",
    "    print(x)"
   ]
  },
  {
   "cell_type": "code",
   "execution_count": 5,
   "id": "2d921bd6",
   "metadata": {},
   "outputs": [
    {
     "name": "stdout",
     "output_type": "stream",
     "text": [
      "('vegs', 'potato')\n",
      "('fruit', 'apple,mango')\n",
      "('season', 'winter,summer')\n"
     ]
    }
   ],
   "source": [
    "for x in my_dict.items():\n",
    "    print(x)"
   ]
  },
  {
   "cell_type": "code",
   "execution_count": 6,
   "id": "9222c715",
   "metadata": {},
   "outputs": [
    {
     "name": "stdout",
     "output_type": "stream",
     "text": [
      "potato\n",
      "apple,mango\n",
      "winter,summer\n"
     ]
    }
   ],
   "source": [
    "for x in my_dict.values():\n",
    "    print(x)"
   ]
  },
  {
   "cell_type": "code",
   "execution_count": 7,
   "id": "5c2e4979",
   "metadata": {},
   "outputs": [
    {
     "data": {
      "text/plain": [
       "{'vegs': 'potato',\n",
       " 'fruit': 'apple,mango',\n",
       " 'season': 'winter,summer',\n",
       " 'lang': 'eng,hindi'}"
      ]
     },
     "execution_count": 7,
     "metadata": {},
     "output_type": "execute_result"
    }
   ],
   "source": [
    "### my_dict\n",
    "my_dict.update({'lang':'eng,hindi'})\n",
    "my_dict"
   ]
  },
  {
   "cell_type": "code",
   "execution_count": 8,
   "id": "caa2ea2c",
   "metadata": {},
   "outputs": [
    {
     "data": {
      "text/plain": [
       "{'vegs': 'potato',\n",
       " 'fruit': 'apple,mango',\n",
       " 'season': 'winter,summer',\n",
       " 'lang': 'eng,hindi',\n",
       " 'cour': 'india'}"
      ]
     },
     "execution_count": 8,
     "metadata": {},
     "output_type": "execute_result"
    }
   ],
   "source": [
    "my_dict['cour'] = 'india'\n",
    "my_dict"
   ]
  },
  {
   "cell_type": "code",
   "execution_count": 11,
   "id": "9b45fa7e",
   "metadata": {},
   "outputs": [
    {
     "data": {
      "text/plain": [
       "{'vegs': 'potato',\n",
       " 'fruit': 'apple,mango',\n",
       " 'season': 'winter,summer',\n",
       " 'lang': 'eng,hindi',\n",
       " 'cour': 'india'}"
      ]
     },
     "execution_count": 11,
     "metadata": {},
     "output_type": "execute_result"
    }
   ],
   "source": [
    "dict1 = my_dict.copy()\n",
    "dict1"
   ]
  },
  {
   "cell_type": "code",
   "execution_count": 13,
   "id": "946d7bb8",
   "metadata": {},
   "outputs": [
    {
     "data": {
      "text/plain": [
       "{}"
      ]
     },
     "execution_count": 13,
     "metadata": {},
     "output_type": "execute_result"
    }
   ],
   "source": [
    "## clear\n",
    "dict1.clear()\n",
    "dict1"
   ]
  },
  {
   "cell_type": "code",
   "execution_count": 15,
   "id": "a8107e07",
   "metadata": {},
   "outputs": [
    {
     "data": {
      "text/plain": [
       "{'vegs': 'potato',\n",
       " 'fruit': 'apple,mango',\n",
       " 'season': 'winter,summer',\n",
       " 'lang': 'eng,hindi',\n",
       " 'cour': 'india'}"
      ]
     },
     "execution_count": 15,
     "metadata": {},
     "output_type": "execute_result"
    }
   ],
   "source": [
    "my_dict"
   ]
  },
  {
   "cell_type": "code",
   "execution_count": 16,
   "id": "9a0c8b65",
   "metadata": {},
   "outputs": [
    {
     "data": {
      "text/plain": [
       "{'vegs': 'Tomato',\n",
       " 'fruit': 'apple,mango',\n",
       " 'season': 'winter,summer',\n",
       " 'lang': 'eng,hindi',\n",
       " 'cour': 'india'}"
      ]
     },
     "execution_count": 16,
     "metadata": {},
     "output_type": "execute_result"
    }
   ],
   "source": [
    "my_dict['vegs'] = 'Tomato'\n",
    "my_dict"
   ]
  },
  {
   "cell_type": "code",
   "execution_count": 17,
   "id": "ec9ebeaf",
   "metadata": {},
   "outputs": [],
   "source": [
    "### Nested Dictionary\n",
    "\n",
    "car1_model = {'Mercedes':1960}\n",
    "car2_model = {'Audi':1970}\n",
    "car3_model = {'Ambassador':1980}\n"
   ]
  },
  {
   "cell_type": "code",
   "execution_count": 18,
   "id": "5b695474",
   "metadata": {},
   "outputs": [
    {
     "data": {
      "text/plain": [
       "{'car1': {'Mercedes': 1960},\n",
       " 'car2': {'Audi': 1970},\n",
       " 'car3': {'Ambassador': 1980}}"
      ]
     },
     "execution_count": 18,
     "metadata": {},
     "output_type": "execute_result"
    }
   ],
   "source": [
    "car_type = {'car1':car1_model,'car2':car2_model,'car3':car3_model}\n",
    "car_type"
   ]
  },
  {
   "cell_type": "code",
   "execution_count": 19,
   "id": "64a9475c",
   "metadata": {},
   "outputs": [
    {
     "data": {
      "text/plain": [
       "{'Mercedes': 1960}"
      ]
     },
     "execution_count": 19,
     "metadata": {},
     "output_type": "execute_result"
    }
   ],
   "source": [
    "car_type['car1']"
   ]
  },
  {
   "cell_type": "code",
   "execution_count": 20,
   "id": "4ea91248",
   "metadata": {},
   "outputs": [
    {
     "data": {
      "text/plain": [
       "1960"
      ]
     },
     "execution_count": 20,
     "metadata": {},
     "output_type": "execute_result"
    }
   ],
   "source": [
    "car_type['car1']['Mercedes']"
   ]
  },
  {
   "cell_type": "code",
   "execution_count": 21,
   "id": "b3c7d5df",
   "metadata": {},
   "outputs": [
    {
     "data": {
      "text/plain": [
       "{'car1': {'Mercedes': 1980},\n",
       " 'car2': {'Audi': 1970},\n",
       " 'car3': {'Ambassador': 1980}}"
      ]
     },
     "execution_count": 21,
     "metadata": {},
     "output_type": "execute_result"
    }
   ],
   "source": [
    "car_type['car1']['Mercedes'] = 1980\n",
    "car_type"
   ]
  },
  {
   "cell_type": "code",
   "execution_count": 22,
   "id": "4a00058c",
   "metadata": {},
   "outputs": [
    {
     "data": {
      "text/plain": [
       "{'car1': {'Mercedes': 1980},\n",
       " 'car2': {'Audi': 1970},\n",
       " 'car3': {'Ambassador': 1980},\n",
       " 'car4': {'BMW': 1940}}"
      ]
     },
     "execution_count": 22,
     "metadata": {},
     "output_type": "execute_result"
    }
   ],
   "source": [
    "## added \n",
    "car_type['car4'] = {'BMW':1940}\n",
    "car_type"
   ]
  },
  {
   "cell_type": "code",
   "execution_count": 23,
   "id": "db3193f3",
   "metadata": {},
   "outputs": [
    {
     "data": {
      "text/plain": [
       "dict_keys(['car1', 'car2', 'car3', 'car4'])"
      ]
     },
     "execution_count": 23,
     "metadata": {},
     "output_type": "execute_result"
    }
   ],
   "source": [
    "car_type.keys()"
   ]
  },
  {
   "cell_type": "code",
   "execution_count": 24,
   "id": "e75aca51",
   "metadata": {},
   "outputs": [
    {
     "data": {
      "text/plain": [
       "dict_values([{'Mercedes': 1980}, {'Audi': 1970}, {'Ambassador': 1980}, {'BMW': 1940}])"
      ]
     },
     "execution_count": 24,
     "metadata": {},
     "output_type": "execute_result"
    }
   ],
   "source": [
    "car_type.values()"
   ]
  },
  {
   "cell_type": "code",
   "execution_count": 26,
   "id": "74a1be21",
   "metadata": {},
   "outputs": [
    {
     "data": {
      "text/plain": [
       "dict_items([('car1', {'Mercedes': 1980}), ('car2', {'Audi': 1970}), ('car3', {'Ambassador': 1980}), ('car4', {'BMW': 1940})])"
      ]
     },
     "execution_count": 26,
     "metadata": {},
     "output_type": "execute_result"
    }
   ],
   "source": [
    "car_type.items()"
   ]
  },
  {
   "cell_type": "code",
   "execution_count": 27,
   "id": "029cf48d",
   "metadata": {},
   "outputs": [
    {
     "data": {
      "text/plain": [
       "{'car1': {'Mercedes': 1980},\n",
       " 'car2': {'Audi': 1970},\n",
       " 'car3': {'Ambassador': 1980}}"
      ]
     },
     "execution_count": 27,
     "metadata": {},
     "output_type": "execute_result"
    }
   ],
   "source": [
    "## delete \n",
    "car_type.pop('car4')\n",
    "car_type"
   ]
  },
  {
   "cell_type": "markdown",
   "id": "1a3a7625",
   "metadata": {},
   "source": [
    "### Control Flow"
   ]
  },
  {
   "cell_type": "code",
   "execution_count": 28,
   "id": "2feabac1",
   "metadata": {},
   "outputs": [
    {
     "name": "stdout",
     "output_type": "stream",
     "text": [
      "x is not greater than 10\n"
     ]
    }
   ],
   "source": [
    "x = 5\n",
    "\n",
    "if x > 10:\n",
    "    print(\"x is greater than 10\")\n",
    "else:\n",
    "    print(\"x is not greater than 10\")"
   ]
  },
  {
   "cell_type": "code",
   "execution_count": 29,
   "id": "719c1a62",
   "metadata": {},
   "outputs": [
    {
     "name": "stdout",
     "output_type": "stream",
     "text": [
      "x is less than 10\n"
     ]
    }
   ],
   "source": [
    "x = 5\n",
    "\n",
    "if x > 10:\n",
    "    print(\"x is greater than 10\")\n",
    "elif x < 10:\n",
    "    print(\"x is less than 10\")\n",
    "else:\n",
    "    print(\"x is equal to 10\")"
   ]
  },
  {
   "cell_type": "code",
   "execution_count": 30,
   "id": "330e133d",
   "metadata": {},
   "outputs": [
    {
     "name": "stdout",
     "output_type": "stream",
     "text": [
      "apple\n",
      "banana\n",
      "cherry\n"
     ]
    }
   ],
   "source": [
    "## For Loops\n",
    "fruits = [\"apple\", \"banana\", \"cherry\"]\n",
    "\n",
    "for fruit in fruits:\n",
    "    print(fruit)"
   ]
  },
  {
   "cell_type": "code",
   "execution_count": 31,
   "id": "2db8143d",
   "metadata": {},
   "outputs": [
    {
     "name": "stdout",
     "output_type": "stream",
     "text": [
      "Count: 0\n",
      "Count: 1\n",
      "Count: 2\n",
      "Count: 3\n",
      "Count: 4\n"
     ]
    }
   ],
   "source": [
    "count = 0\n",
    "\n",
    "while count < 5:\n",
    "    print(\"Count:\", count)\n",
    "    count += 1"
   ]
  },
  {
   "cell_type": "code",
   "execution_count": 32,
   "id": "2cbd06e0",
   "metadata": {},
   "outputs": [
    {
     "name": "stdout",
     "output_type": "stream",
     "text": [
      "G\n",
      "e\n",
      "e\n",
      "k\n",
      "s\n"
     ]
    }
   ],
   "source": [
    "s = \"Geeks\"\n",
    "for i in s:\n",
    "    print(i)"
   ]
  },
  {
   "cell_type": "code",
   "execution_count": 33,
   "id": "1317470d",
   "metadata": {},
   "outputs": [
    {
     "name": "stdout",
     "output_type": "stream",
     "text": [
      "0\n",
      "1\n",
      "2\n",
      "3\n",
      "4\n",
      "5\n",
      "6\n",
      "7\n",
      "8\n",
      "9\n"
     ]
    }
   ],
   "source": [
    "for i in range(10):\n",
    "    print(i)"
   ]
  },
  {
   "cell_type": "code",
   "execution_count": 35,
   "id": "6cf3fbda",
   "metadata": {},
   "outputs": [
    {
     "name": "stdout",
     "output_type": "stream",
     "text": [
      "5\n",
      "6\n",
      "7\n",
      "8\n",
      "9\n",
      "10\n"
     ]
    }
   ],
   "source": [
    "for i in range(5,11):\n",
    "    print(i)"
   ]
  },
  {
   "cell_type": "code",
   "execution_count": 41,
   "id": "6d8ca03f",
   "metadata": {},
   "outputs": [
    {
     "name": "stdout",
     "output_type": "stream",
     "text": [
      "10\n",
      "13\n",
      "16\n",
      "19\n"
     ]
    }
   ],
   "source": [
    "for i in range(10,20,3):\n",
    "    print(i)"
   ]
  },
  {
   "cell_type": "code",
   "execution_count": 42,
   "id": "fba23790",
   "metadata": {},
   "outputs": [
    {
     "name": "stdout",
     "output_type": "stream",
     "text": [
      "apple is red\n",
      "banana is yellow\n",
      "cherry is green\n"
     ]
    }
   ],
   "source": [
    "fruits = [\"apple\", \"banana\", \"cherry\"]\n",
    "colors = [\"red\", \"yellow\", \"green\"]\n",
    "#apple is red\n",
    "for fruit,color in zip(fruits,colors):\n",
    "    print(fruit,\"is\",color)"
   ]
  },
  {
   "cell_type": "code",
   "execution_count": 44,
   "id": "2d1faaf1",
   "metadata": {},
   "outputs": [
    {
     "name": "stdout",
     "output_type": "stream",
     "text": [
      "0\n",
      "1\n",
      "2\n",
      "3\n",
      "4\n",
      "5\n",
      "6\n",
      "7\n",
      "8\n",
      "9\n",
      "45\n"
     ]
    }
   ],
   "source": [
    "## first 10 number plus\n",
    "sum = 0\n",
    "for i in range(10):\n",
    "    print(i)\n",
    "    sum = sum + i\n",
    "print(sum)"
   ]
  },
  {
   "cell_type": "code",
   "execution_count": 45,
   "id": "37930523",
   "metadata": {},
   "outputs": [
    {
     "name": "stdout",
     "output_type": "stream",
     "text": [
      "apple\n",
      "apple\n",
      "banana\n",
      "cherry\n"
     ]
    }
   ],
   "source": [
    "fruits = [\"apple\", \"banana\", \"cherry\", \"orange\", \"kiwi\"]\n",
    "\n",
    "for fruit in fruits:\n",
    "    print(fruit)\n",
    "    if fruit == \"cherry\":\n",
    "        break\n",
    "    if fruit == \"banana\":\n",
    "        continue\n",
    "    print(fruit)\n"
   ]
  },
  {
   "cell_type": "code",
   "execution_count": null,
   "id": "e0fd1a3e",
   "metadata": {},
   "outputs": [],
   "source": [
    "## Nested if -else\n",
    "### Nested if -else\n",
    "\n",
    "x = 5\n",
    "y = 10\n",
    "\n",
    "if x > 0:\n",
    "    if y > 0:\n",
    "        print(\"Both x and y are positive\")\n",
    "    else:\n",
    "        print(\"x is positive, but y is not\")\n",
    "else:\n",
    "    print(\"x is not positive\")"
   ]
  },
  {
   "cell_type": "code",
   "execution_count": 46,
   "id": "5cf65632",
   "metadata": {},
   "outputs": [
    {
     "name": "stdout",
     "output_type": "stream",
     "text": [
      "15\n"
     ]
    }
   ],
   "source": [
    "x = 5\n",
    "y = 10\n",
    "\n",
    "if x > 0:\n",
    "    if y > 0:\n",
    "        print(x+y)\n",
    "    else:\n",
    "        print(\"x is positive, but y is not\")\n",
    "else:\n",
    "    print(\"x is not positive\")\n"
   ]
  },
  {
   "cell_type": "code",
   "execution_count": 59,
   "id": "e6f6f751",
   "metadata": {},
   "outputs": [
    {
     "name": "stdout",
     "output_type": "stream",
     "text": [
      "Index: 0 Fruit: apple\n",
      "Index: 1 Fruit: banana\n",
      "Index: 2 Fruit: cherry\n"
     ]
    }
   ],
   "source": [
    "### enumerate\n",
    "fruits = [\"apple\", \"banana\", \"cherry\"]\n",
    "\n",
    "for index, fruit in enumerate(fruits):\n",
    "    print(\"Index:\", index, \"Fruit:\", fruit)\n",
    "    \n",
    "    \n",
    "    \n",
    "        \n"
   ]
  },
  {
   "cell_type": "code",
   "execution_count": 60,
   "id": "babea2b4",
   "metadata": {},
   "outputs": [
    {
     "name": "stdout",
     "output_type": "stream",
     "text": [
      "Even\n"
     ]
    }
   ],
   "source": [
    "x = 10\n",
    "result = \"Even\" if x % 2 == 0 else \"Odd\"\n",
    "print(result)"
   ]
  },
  {
   "cell_type": "code",
   "execution_count": 61,
   "id": "c24e6ab2",
   "metadata": {},
   "outputs": [
    {
     "name": "stdout",
     "output_type": "stream",
     "text": [
      "Even\n"
     ]
    }
   ],
   "source": [
    "x = 10\n",
    "if x%2 == 0:\n",
    "    print('Even')\n",
    "else:\n",
    "    print('Odd')"
   ]
  },
  {
   "cell_type": "code",
   "execution_count": 65,
   "id": "0ce60a5c",
   "metadata": {},
   "outputs": [
    {
     "name": "stdout",
     "output_type": "stream",
     "text": [
      "1 5\n",
      "1 6\n",
      "1 7\n",
      "2 5\n",
      "2 6\n",
      "2 7\n",
      "3 5\n",
      "3 6\n",
      "3 7\n"
     ]
    }
   ],
   "source": [
    "for i in range(1, 4):\n",
    "#     print(i)\n",
    "    for j in range(5, 8):\n",
    "        print(i, j)"
   ]
  },
  {
   "cell_type": "code",
   "execution_count": 66,
   "id": "74e36399",
   "metadata": {},
   "outputs": [
    {
     "name": "stdout",
     "output_type": "stream",
     "text": [
      "x is a single-digit positive number\n"
     ]
    }
   ],
   "source": [
    "x = 5\n",
    "\n",
    "if x > 0 and x < 10:\n",
    "    print(\"x is a single-digit positive number\")\n",
    "elif x <= 0 or x >= 10:\n",
    "    print(\"x is either non-positive or double-digit or greater\")\n",
    "else:\n",
    "    print(\"x is within the range of 1 to 9\")"
   ]
  },
  {
   "cell_type": "code",
   "execution_count": 81,
   "id": "a01e5931",
   "metadata": {},
   "outputs": [
    {
     "name": "stdout",
     "output_type": "stream",
     "text": [
      "5.0\n",
      "10.0\n",
      "No error occurred\n",
      "This will always be executed\n"
     ]
    }
   ],
   "source": [
    "try:\n",
    "    x = 10 /2\n",
    "    print(x)\n",
    "except ZeroDivisionError:\n",
    "    print(\"Error: Division by zero\")\n",
    "else:\n",
    "    y = 5\n",
    "    print(x+y)\n",
    "    print(\"No error occurred\")\n",
    "finally:\n",
    "    print(\"This will always be executed\")"
   ]
  },
  {
   "cell_type": "code",
   "execution_count": 72,
   "id": "70e3b48a",
   "metadata": {},
   "outputs": [
    {
     "ename": "ZeroDivisionError",
     "evalue": "division by zero",
     "output_type": "error",
     "traceback": [
      "\u001b[1;31m---------------------------------------------------------------------------\u001b[0m",
      "\u001b[1;31mZeroDivisionError\u001b[0m                         Traceback (most recent call last)",
      "Input \u001b[1;32mIn [72]\u001b[0m, in \u001b[0;36m<cell line: 1>\u001b[1;34m()\u001b[0m\n\u001b[1;32m----> 1\u001b[0m \u001b[38;5;241;43m10\u001b[39;49m\u001b[38;5;241;43m/\u001b[39;49m\u001b[38;5;241;43m0\u001b[39;49m\n",
      "\u001b[1;31mZeroDivisionError\u001b[0m: division by zero"
     ]
    }
   ],
   "source": [
    "10/0"
   ]
  }
 ],
 "metadata": {
  "kernelspec": {
   "display_name": "Python 3 (ipykernel)",
   "language": "python",
   "name": "python3"
  },
  "language_info": {
   "codemirror_mode": {
    "name": "ipython",
    "version": 3
   },
   "file_extension": ".py",
   "mimetype": "text/x-python",
   "name": "python",
   "nbconvert_exporter": "python",
   "pygments_lexer": "ipython3",
   "version": "3.9.12"
  }
 },
 "nbformat": 4,
 "nbformat_minor": 5
}
