{
 "cells": [
  {
   "cell_type": "markdown",
   "id": "96ae8b0f",
   "metadata": {},
   "source": [
    "## Data Structures"
   ]
  },
  {
   "cell_type": "markdown",
   "id": "8665cf55",
   "metadata": {},
   "source": [
    "## Lists \n",
    "\n",
    "Lists are Ordered collection of element that can hold items of different data types.\n",
    "\n",
    "Lists are Mutable,Meaning their elements can be changed after creation"
   ]
  },
  {
   "cell_type": "code",
   "execution_count": 4,
   "id": "32be9590",
   "metadata": {},
   "outputs": [
    {
     "data": {
      "text/plain": [
       "['apple', 'mango', 'grapes', 5, 5.6, True]"
      ]
     },
     "execution_count": 4,
     "metadata": {},
     "output_type": "execute_result"
    }
   ],
   "source": [
    "## Creating \n",
    "\n",
    "Fruits = ['apple','mango','grapes',5,5.6,True]\n",
    "Fruits\n",
    "\n",
    "# type(Fruits)"
   ]
  },
  {
   "cell_type": "code",
   "execution_count": 5,
   "id": "5998a88d",
   "metadata": {},
   "outputs": [
    {
     "data": {
      "text/plain": [
       "'apple'"
      ]
     },
     "execution_count": 5,
     "metadata": {},
     "output_type": "execute_result"
    }
   ],
   "source": [
    "### Accesing \n",
    "Fruits[0]"
   ]
  },
  {
   "cell_type": "code",
   "execution_count": 6,
   "id": "0af68f00",
   "metadata": {},
   "outputs": [
    {
     "data": {
      "text/plain": [
       "'grapes'"
      ]
     },
     "execution_count": 6,
     "metadata": {},
     "output_type": "execute_result"
    }
   ],
   "source": [
    "Fruits[2]"
   ]
  },
  {
   "cell_type": "code",
   "execution_count": 7,
   "id": "02f9d5c7",
   "metadata": {},
   "outputs": [
    {
     "data": {
      "text/plain": [
       "['Orange', 'mango', 'grapes', 5, 5.6, True]"
      ]
     },
     "execution_count": 7,
     "metadata": {},
     "output_type": "execute_result"
    }
   ],
   "source": [
    "Fruits[0] = 'Orange'\n",
    "Fruits"
   ]
  },
  {
   "cell_type": "code",
   "execution_count": 8,
   "id": "434d44d8",
   "metadata": {},
   "outputs": [
    {
     "data": {
      "text/plain": [
       "['Orange', 'mango', 'apple', 5, 5.6, True]"
      ]
     },
     "execution_count": 8,
     "metadata": {},
     "output_type": "execute_result"
    }
   ],
   "source": [
    "Fruits[2] = 'apple'\n",
    "Fruits"
   ]
  },
  {
   "cell_type": "code",
   "execution_count": 9,
   "id": "0f270c4f",
   "metadata": {},
   "outputs": [
    {
     "data": {
      "text/plain": [
       "['Orange', 'mango', 'apple', 5, 5.6, True, 'grapes']"
      ]
     },
     "execution_count": 9,
     "metadata": {},
     "output_type": "execute_result"
    }
   ],
   "source": [
    "### Add a element in a list\n",
    "\n",
    "Fruits.append('grapes')\n",
    "Fruits"
   ]
  },
  {
   "cell_type": "code",
   "execution_count": 10,
   "id": "02ec0a22",
   "metadata": {},
   "outputs": [
    {
     "data": {
      "text/plain": [
       "['grapes', 'Orange', 'mango', 'apple', 5, 5.6, True, 'grapes']"
      ]
     },
     "execution_count": 10,
     "metadata": {},
     "output_type": "execute_result"
    }
   ],
   "source": [
    "###  if we want to add element on any index\n",
    "Fruits.insert(0,'grapes')\n",
    "Fruits"
   ]
  },
  {
   "cell_type": "code",
   "execution_count": 11,
   "id": "4fd88ad1",
   "metadata": {},
   "outputs": [
    {
     "data": {
      "text/plain": [
       "['grapes', 'Orange', 'Watermelon', 'mango', 'apple', 5, 5.6, True, 'grapes']"
      ]
     },
     "execution_count": 11,
     "metadata": {},
     "output_type": "execute_result"
    }
   ],
   "source": [
    "## \n",
    "Fruits.insert(2,'Watermelon')\n",
    "Fruits"
   ]
  },
  {
   "cell_type": "code",
   "execution_count": 28,
   "id": "4a7cdcf2",
   "metadata": {},
   "outputs": [
    {
     "data": {
      "text/plain": [
       "['grapes',\n",
       " 'Orange',\n",
       " 'Watermelon',\n",
       " 'mango',\n",
       " 'apple',\n",
       " True,\n",
       " 'grapes',\n",
       " 'mango',\n",
       " 'sugar']"
      ]
     },
     "execution_count": 28,
     "metadata": {},
     "output_type": "execute_result"
    }
   ],
   "source": [
    "### Extend\n",
    "Fruits.extend(['mango','sugar'])\n",
    "Fruits"
   ]
  },
  {
   "cell_type": "code",
   "execution_count": 30,
   "id": "69aa356e",
   "metadata": {},
   "outputs": [
    {
     "data": {
      "text/plain": [
       "2"
      ]
     },
     "execution_count": 30,
     "metadata": {},
     "output_type": "execute_result"
    }
   ],
   "source": [
    "Fruits.count('mango')"
   ]
  },
  {
   "cell_type": "code",
   "execution_count": 12,
   "id": "34a6914e",
   "metadata": {},
   "outputs": [
    {
     "data": {
      "text/plain": [
       "9"
      ]
     },
     "execution_count": 12,
     "metadata": {},
     "output_type": "execute_result"
    }
   ],
   "source": [
    "### Check Length\n",
    "len(Fruits)"
   ]
  },
  {
   "cell_type": "code",
   "execution_count": 13,
   "id": "6d3bc274",
   "metadata": {},
   "outputs": [
    {
     "data": {
      "text/plain": [
       "['grapes', 'Orange', 'Watermelon', 'mango', 'apple', 5.6, True, 'grapes']"
      ]
     },
     "execution_count": 13,
     "metadata": {},
     "output_type": "execute_result"
    }
   ],
   "source": [
    "Fruits.pop(5)\n",
    "Fruits"
   ]
  },
  {
   "cell_type": "code",
   "execution_count": 14,
   "id": "c312f742",
   "metadata": {},
   "outputs": [
    {
     "data": {
      "text/plain": [
       "['grapes', 'Orange', 'Watermelon', 'mango', 'apple', True, 'grapes']"
      ]
     },
     "execution_count": 14,
     "metadata": {},
     "output_type": "execute_result"
    }
   ],
   "source": [
    "Fruits.remove(5.6)\n",
    "Fruits"
   ]
  },
  {
   "cell_type": "code",
   "execution_count": 17,
   "id": "625e88b7",
   "metadata": {},
   "outputs": [
    {
     "data": {
      "text/plain": [
       "['Orange', 'Watermelon', 'mango']"
      ]
     },
     "execution_count": 17,
     "metadata": {},
     "output_type": "execute_result"
    }
   ],
   "source": [
    "### Indexing\n",
    "Fruits[1:4]"
   ]
  },
  {
   "cell_type": "code",
   "execution_count": 18,
   "id": "131e41b2",
   "metadata": {},
   "outputs": [
    {
     "data": {
      "text/plain": [
       "['grapes', 'Orange', 'Watermelon', 'mango', 'apple', True, 'grapes']"
      ]
     },
     "execution_count": 18,
     "metadata": {},
     "output_type": "execute_result"
    }
   ],
   "source": [
    " Fruits"
   ]
  },
  {
   "cell_type": "code",
   "execution_count": 19,
   "id": "8ae9cf0b",
   "metadata": {},
   "outputs": [
    {
     "data": {
      "text/plain": [
       "['grapes', True, 'apple', 'mango', 'Watermelon', 'Orange', 'grapes']"
      ]
     },
     "execution_count": 19,
     "metadata": {},
     "output_type": "execute_result"
    }
   ],
   "source": [
    "Fruits[::-1]"
   ]
  },
  {
   "cell_type": "code",
   "execution_count": 20,
   "id": "d9805098",
   "metadata": {},
   "outputs": [
    {
     "data": {
      "text/plain": [
       "['grapes', 'Watermelon', 'apple']"
      ]
     },
     "execution_count": 20,
     "metadata": {},
     "output_type": "execute_result"
    }
   ],
   "source": [
    "Fruits[0:5:2]"
   ]
  },
  {
   "cell_type": "code",
   "execution_count": 22,
   "id": "c4f01a22",
   "metadata": {},
   "outputs": [
    {
     "name": "stdout",
     "output_type": "stream",
     "text": [
      "No\n"
     ]
    }
   ],
   "source": [
    "if 'sugar' in Fruits:\n",
    "    print('yes')\n",
    "else:\n",
    "    print('No')"
   ]
  },
  {
   "cell_type": "code",
   "execution_count": 23,
   "id": "306b0650",
   "metadata": {},
   "outputs": [
    {
     "name": "stdout",
     "output_type": "stream",
     "text": [
      "grapes\n",
      "Orange\n",
      "Watermelon\n",
      "mango\n",
      "apple\n",
      "True\n",
      "grapes\n"
     ]
    }
   ],
   "source": [
    "for i in Fruits:\n",
    "    print(i)"
   ]
  },
  {
   "cell_type": "code",
   "execution_count": 24,
   "id": "56d893f4",
   "metadata": {},
   "outputs": [
    {
     "name": "stdout",
     "output_type": "stream",
     "text": [
      "0\n",
      "1\n",
      "2\n",
      "3\n",
      "4\n",
      "5\n",
      "6\n"
     ]
    }
   ],
   "source": [
    "for i in range(len(Fruits)):\n",
    "    print(i)"
   ]
  },
  {
   "cell_type": "code",
   "execution_count": 27,
   "id": "87ddd7be",
   "metadata": {},
   "outputs": [
    {
     "name": "stdout",
     "output_type": "stream",
     "text": [
      "Index 0 : grapes\n",
      "Index 1 : Orange\n",
      "Index 2 : Watermelon\n",
      "Index 3 : mango\n",
      "Index 4 : apple\n",
      "Index 5 : True\n",
      "Index 6 : grapes\n"
     ]
    }
   ],
   "source": [
    "for ind,fru in enumerate(Fruits):\n",
    "    print(f\"Index {ind} : {fru}\")"
   ]
  },
  {
   "cell_type": "code",
   "execution_count": 31,
   "id": "75435b77",
   "metadata": {},
   "outputs": [
    {
     "data": {
      "text/plain": [
       "['grapes',\n",
       " 'Orange',\n",
       " 'Watermelon',\n",
       " 'mango',\n",
       " 'apple',\n",
       " True,\n",
       " 'grapes',\n",
       " 'mango',\n",
       " 'sugar']"
      ]
     },
     "execution_count": 31,
     "metadata": {},
     "output_type": "execute_result"
    }
   ],
   "source": [
    "Fruits"
   ]
  },
  {
   "cell_type": "code",
   "execution_count": 32,
   "id": "a223c7b4",
   "metadata": {},
   "outputs": [],
   "source": [
    "Fruits.clear()"
   ]
  },
  {
   "cell_type": "code",
   "execution_count": 33,
   "id": "d95120cd",
   "metadata": {},
   "outputs": [
    {
     "data": {
      "text/plain": [
       "[]"
      ]
     },
     "execution_count": 33,
     "metadata": {},
     "output_type": "execute_result"
    }
   ],
   "source": [
    "Fruits"
   ]
  },
  {
   "cell_type": "code",
   "execution_count": 37,
   "id": "e75685cd",
   "metadata": {},
   "outputs": [
    {
     "data": {
      "text/plain": [
       "[3, 7, 4, 2, 5]"
      ]
     },
     "execution_count": 37,
     "metadata": {},
     "output_type": "execute_result"
    }
   ],
   "source": [
    "number = [3,7,4,2,5]\n",
    "number"
   ]
  },
  {
   "cell_type": "code",
   "execution_count": 38,
   "id": "d45d1194",
   "metadata": {},
   "outputs": [],
   "source": [
    "number.sort()"
   ]
  },
  {
   "cell_type": "code",
   "execution_count": 39,
   "id": "b0fb4663",
   "metadata": {},
   "outputs": [
    {
     "data": {
      "text/plain": [
       "[2, 3, 4, 5, 7]"
      ]
     },
     "execution_count": 39,
     "metadata": {},
     "output_type": "execute_result"
    }
   ],
   "source": [
    "number"
   ]
  },
  {
   "cell_type": "code",
   "execution_count": 40,
   "id": "0db025e6",
   "metadata": {},
   "outputs": [],
   "source": [
    "x,y,z,a,b = number"
   ]
  },
  {
   "cell_type": "code",
   "execution_count": 41,
   "id": "a739451b",
   "metadata": {},
   "outputs": [
    {
     "name": "stdout",
     "output_type": "stream",
     "text": [
      "2\n"
     ]
    }
   ],
   "source": [
    "print(x)"
   ]
  },
  {
   "cell_type": "code",
   "execution_count": 42,
   "id": "671d9ac7",
   "metadata": {},
   "outputs": [],
   "source": [
    "x = number[0]"
   ]
  },
  {
   "cell_type": "code",
   "execution_count": 43,
   "id": "2124845e",
   "metadata": {},
   "outputs": [
    {
     "name": "stdout",
     "output_type": "stream",
     "text": [
      "2\n"
     ]
    }
   ],
   "source": [
    "print(x)"
   ]
  },
  {
   "cell_type": "code",
   "execution_count": 44,
   "id": "dcde299f",
   "metadata": {},
   "outputs": [
    {
     "data": {
      "text/plain": [
       "[7, 5, 4, 3, 2]"
      ]
     },
     "execution_count": 44,
     "metadata": {},
     "output_type": "execute_result"
    }
   ],
   "source": [
    "list(reversed(number))"
   ]
  },
  {
   "cell_type": "code",
   "execution_count": 45,
   "id": "fb5a488c",
   "metadata": {},
   "outputs": [
    {
     "name": "stdout",
     "output_type": "stream",
     "text": [
      "[1, 2, 3, 4, 5, 5, 6]\n"
     ]
    }
   ],
   "source": [
    "list1 = [1,2,3,4]\n",
    "list2 = [5,5,6]\n",
    "\n",
    "list3 = list1 + list2\n",
    "print(list3)"
   ]
  },
  {
   "cell_type": "markdown",
   "id": "638255ef",
   "metadata": {},
   "source": [
    "### Tuples\n",
    "\n",
    "Tuples are ordered collections of elements, similar to lists, but they are immutable, meaning their elements cannot be changed after creation."
   ]
  },
  {
   "cell_type": "code",
   "execution_count": 46,
   "id": "0392e4ef",
   "metadata": {},
   "outputs": [],
   "source": [
    "## Ceating a  Tuple\n",
    "cordinates = (10,20)"
   ]
  },
  {
   "cell_type": "code",
   "execution_count": 47,
   "id": "7417f0e6",
   "metadata": {},
   "outputs": [
    {
     "data": {
      "text/plain": [
       "tuple"
      ]
     },
     "execution_count": 47,
     "metadata": {},
     "output_type": "execute_result"
    }
   ],
   "source": [
    "type(cordinates)"
   ]
  },
  {
   "cell_type": "code",
   "execution_count": 48,
   "id": "6a83d1b2",
   "metadata": {},
   "outputs": [
    {
     "data": {
      "text/plain": [
       "(10, 20)"
      ]
     },
     "execution_count": 48,
     "metadata": {},
     "output_type": "execute_result"
    }
   ],
   "source": [
    "cordinates"
   ]
  },
  {
   "cell_type": "code",
   "execution_count": 49,
   "id": "3de7bff2",
   "metadata": {},
   "outputs": [
    {
     "data": {
      "text/plain": [
       "10"
      ]
     },
     "execution_count": 49,
     "metadata": {},
     "output_type": "execute_result"
    }
   ],
   "source": [
    "cordinates[0]"
   ]
  },
  {
   "cell_type": "code",
   "execution_count": 50,
   "id": "516d92b3",
   "metadata": {},
   "outputs": [
    {
     "ename": "TypeError",
     "evalue": "'tuple' object does not support item assignment",
     "output_type": "error",
     "traceback": [
      "\u001b[1;31m---------------------------------------------------------------------------\u001b[0m",
      "\u001b[1;31mTypeError\u001b[0m                                 Traceback (most recent call last)",
      "Input \u001b[1;32mIn [50]\u001b[0m, in \u001b[0;36m<cell line: 1>\u001b[1;34m()\u001b[0m\n\u001b[1;32m----> 1\u001b[0m cordinates[\u001b[38;5;241m0\u001b[39m] \u001b[38;5;241m=\u001b[39m \u001b[38;5;241m30\u001b[39m\n",
      "\u001b[1;31mTypeError\u001b[0m: 'tuple' object does not support item assignment"
     ]
    }
   ],
   "source": [
    "cordinates[0] = 30"
   ]
  },
  {
   "cell_type": "code",
   "execution_count": 51,
   "id": "fa71dcc4",
   "metadata": {},
   "outputs": [
    {
     "data": {
      "text/plain": [
       "list"
      ]
     },
     "execution_count": 51,
     "metadata": {},
     "output_type": "execute_result"
    }
   ],
   "source": [
    "###\n",
    "listconrd = list(cordinates)\n",
    "type(listconrd)"
   ]
  },
  {
   "cell_type": "code",
   "execution_count": 52,
   "id": "b9d13870",
   "metadata": {},
   "outputs": [
    {
     "data": {
      "text/plain": [
       "[10, 20]"
      ]
     },
     "execution_count": 52,
     "metadata": {},
     "output_type": "execute_result"
    }
   ],
   "source": [
    "listconrd"
   ]
  },
  {
   "cell_type": "code",
   "execution_count": 53,
   "id": "fd074f41",
   "metadata": {},
   "outputs": [
    {
     "data": {
      "text/plain": [
       "[30, 20]"
      ]
     },
     "execution_count": 53,
     "metadata": {},
     "output_type": "execute_result"
    }
   ],
   "source": [
    "listconrd[0] = 30\n",
    "listconrd"
   ]
  },
  {
   "cell_type": "markdown",
   "id": "818434b6",
   "metadata": {},
   "source": [
    "### Sets \n",
    "\n",
    "Sets are unordered collections of unique elements. They do not allow duplicate values."
   ]
  },
  {
   "cell_type": "code",
   "execution_count": 54,
   "id": "b71772e7",
   "metadata": {},
   "outputs": [
    {
     "data": {
      "text/plain": [
       "{'apple', 'banana', 'orange'}"
      ]
     },
     "execution_count": 54,
     "metadata": {},
     "output_type": "execute_result"
    }
   ],
   "source": [
    "## Creating Set\n",
    "\n",
    "fruits_set = {'apple','banana','orange','apple'}\n",
    "fruits_set"
   ]
  },
  {
   "cell_type": "code",
   "execution_count": 55,
   "id": "30fca3fc",
   "metadata": {},
   "outputs": [
    {
     "data": {
      "text/plain": [
       "set"
      ]
     },
     "execution_count": 55,
     "metadata": {},
     "output_type": "execute_result"
    }
   ],
   "source": [
    "type(fruits_set)"
   ]
  },
  {
   "cell_type": "code",
   "execution_count": 56,
   "id": "ba03145f",
   "metadata": {},
   "outputs": [
    {
     "data": {
      "text/plain": [
       "{'apple', 'banana', 'grapes', 'orange'}"
      ]
     },
     "execution_count": 56,
     "metadata": {},
     "output_type": "execute_result"
    }
   ],
   "source": [
    "fruits_set.add('grapes')\n",
    "fruits_set"
   ]
  },
  {
   "cell_type": "code",
   "execution_count": 57,
   "id": "f27e3b2c",
   "metadata": {},
   "outputs": [
    {
     "name": "stdout",
     "output_type": "stream",
     "text": [
      "{1, 2, 3, 4, 5}\n"
     ]
    }
   ],
   "source": [
    "set1 = {1,2,3}\n",
    "set2 = {3,4,5}\n",
    "\n",
    "union_set = set1 | set2\n",
    "print(union_set)"
   ]
  },
  {
   "cell_type": "code",
   "execution_count": 58,
   "id": "7e931fba",
   "metadata": {},
   "outputs": [
    {
     "name": "stdout",
     "output_type": "stream",
     "text": [
      "{3}\n"
     ]
    }
   ],
   "source": [
    "instersection_set = set1 & set2\n",
    "print(instersection_set)"
   ]
  },
  {
   "cell_type": "code",
   "execution_count": 59,
   "id": "f4b674da",
   "metadata": {},
   "outputs": [
    {
     "name": "stdout",
     "output_type": "stream",
     "text": [
      "{'john.doe@example.com', 'jane.smith@example.com', 'user@example.com'}\n"
     ]
    }
   ],
   "source": [
    "## \n",
    "email_list = [\n",
    "    'user@example.com',\n",
    "    'john.doe@example.com',\n",
    "    'user@example.com',\n",
    "    'jane.smith@example.com',\n",
    "    'john.doe@example.com'\n",
    "]\n",
    "\n",
    "unique_email_set = set(email_list)\n",
    "print(unique_email_set)"
   ]
  },
  {
   "cell_type": "markdown",
   "id": "f7925949",
   "metadata": {},
   "source": [
    "## Dictionaries\n",
    "\n",
    "Definition: Dictionaries are collections of key-value pairs, allowing you to store and retrieve data using unique keys."
   ]
  },
  {
   "cell_type": "code",
   "execution_count": 60,
   "id": "9e6d2088",
   "metadata": {},
   "outputs": [
    {
     "data": {
      "text/plain": [
       "{'name': 'Amit', 'age': 25, 'is_student': True}"
      ]
     },
     "execution_count": 60,
     "metadata": {},
     "output_type": "execute_result"
    }
   ],
   "source": [
    "### Creating a Dictinories\n",
    "\n",
    "students = {'name':'Amit','age':25,'is_student':True}\n",
    "students"
   ]
  },
  {
   "cell_type": "code",
   "execution_count": 61,
   "id": "b1d2cbb5",
   "metadata": {},
   "outputs": [
    {
     "data": {
      "text/plain": [
       "{'fruits': 'apple', 'vegetable': 'carrot'}"
      ]
     },
     "execution_count": 61,
     "metadata": {},
     "output_type": "execute_result"
    }
   ],
   "source": [
    "dictionaries = {'fruits':'apple','vegetable':'carrot'}\n",
    "dictionaries"
   ]
  },
  {
   "cell_type": "code",
   "execution_count": 62,
   "id": "870b5c58",
   "metadata": {},
   "outputs": [
    {
     "data": {
      "text/plain": [
       "{'name': 'Amit', 'age': 25, 'is_student': True}"
      ]
     },
     "execution_count": 62,
     "metadata": {},
     "output_type": "execute_result"
    }
   ],
   "source": [
    "\n",
    "students = {'name':'Amit','age':25,'is_student':True}\n",
    "students"
   ]
  },
  {
   "cell_type": "code",
   "execution_count": 63,
   "id": "06009ec9",
   "metadata": {},
   "outputs": [
    {
     "data": {
      "text/plain": [
       "'Amit'"
      ]
     },
     "execution_count": 63,
     "metadata": {},
     "output_type": "execute_result"
    }
   ],
   "source": [
    "### Access \n",
    "students['name']"
   ]
  },
  {
   "cell_type": "code",
   "execution_count": 64,
   "id": "e59aa23b",
   "metadata": {},
   "outputs": [
    {
     "data": {
      "text/plain": [
       "25"
      ]
     },
     "execution_count": 64,
     "metadata": {},
     "output_type": "execute_result"
    }
   ],
   "source": [
    "students['age']"
   ]
  },
  {
   "cell_type": "code",
   "execution_count": 65,
   "id": "8d1427f4",
   "metadata": {},
   "outputs": [
    {
     "data": {
      "text/plain": [
       "{'name': 'Amit', 'age': 26, 'is_student': True}"
      ]
     },
     "execution_count": 65,
     "metadata": {},
     "output_type": "execute_result"
    }
   ],
   "source": [
    "students['age'] = 26\n",
    "students"
   ]
  },
  {
   "cell_type": "code",
   "execution_count": 66,
   "id": "c64fdca3",
   "metadata": {},
   "outputs": [
    {
     "data": {
      "text/plain": [
       "{'name': 'Anil', 'age': 26, 'is_student': True}"
      ]
     },
     "execution_count": 66,
     "metadata": {},
     "output_type": "execute_result"
    }
   ],
   "source": [
    "students['name'] = 'Anil'\n",
    "students"
   ]
  },
  {
   "cell_type": "code",
   "execution_count": 67,
   "id": "e5f55a2d",
   "metadata": {},
   "outputs": [],
   "source": [
    "key_list = students.keys()"
   ]
  },
  {
   "cell_type": "code",
   "execution_count": 68,
   "id": "f0cd61ba",
   "metadata": {},
   "outputs": [
    {
     "data": {
      "text/plain": [
       "dict_keys(['name', 'age', 'is_student'])"
      ]
     },
     "execution_count": 68,
     "metadata": {},
     "output_type": "execute_result"
    }
   ],
   "source": [
    "key_list\n"
   ]
  },
  {
   "cell_type": "code",
   "execution_count": 69,
   "id": "b153005e",
   "metadata": {},
   "outputs": [
    {
     "data": {
      "text/plain": [
       "dict_values(['Anil', 26, True])"
      ]
     },
     "execution_count": 69,
     "metadata": {},
     "output_type": "execute_result"
    }
   ],
   "source": [
    "values = students.values()\n",
    "values"
   ]
  },
  {
   "cell_type": "code",
   "execution_count": 70,
   "id": "d81062a0",
   "metadata": {},
   "outputs": [
    {
     "data": {
      "text/plain": [
       "dict_items([('name', 'Anil'), ('age', 26), ('is_student', True)])"
      ]
     },
     "execution_count": 70,
     "metadata": {},
     "output_type": "execute_result"
    }
   ],
   "source": [
    "item = students.items()\n",
    "item"
   ]
  },
  {
   "cell_type": "code",
   "execution_count": 71,
   "id": "8deca91d",
   "metadata": {},
   "outputs": [
    {
     "data": {
      "text/plain": [
       "{'name': 'Anil', 'age': 26, 'is_student': True, 'Working': 'True'}"
      ]
     },
     "execution_count": 71,
     "metadata": {},
     "output_type": "execute_result"
    }
   ],
   "source": [
    "students.update({'Working':'True'})\n",
    "students"
   ]
  },
  {
   "cell_type": "code",
   "execution_count": 73,
   "id": "0ff7f12b",
   "metadata": {},
   "outputs": [
    {
     "data": {
      "text/plain": [
       "list"
      ]
     },
     "execution_count": 73,
     "metadata": {},
     "output_type": "execute_result"
    }
   ],
   "source": [
    "### Function\n",
    "\n",
    "students = [\n",
    "    \n",
    "    {'name': 'John Doe', 'age': 25, 'gender': 'Male'},\n",
    "    {'name': 'Alice Smith', 'age': 22, 'gender': 'Female'},\n",
    "    {'name': 'Bob Johnson', 'age': 30, 'gender': 'Male'}\n",
    "]\n",
    "\n",
    "type(students)"
   ]
  },
  {
   "cell_type": "code",
   "execution_count": 75,
   "id": "817493c9",
   "metadata": {},
   "outputs": [
    {
     "data": {
      "text/plain": [
       "dict"
      ]
     },
     "execution_count": 75,
     "metadata": {},
     "output_type": "execute_result"
    }
   ],
   "source": [
    "type(students[0])"
   ]
  },
  {
   "cell_type": "code",
   "execution_count": 78,
   "id": "cc14b281",
   "metadata": {},
   "outputs": [
    {
     "data": {
      "text/plain": [
       "'Female'"
      ]
     },
     "execution_count": 78,
     "metadata": {},
     "output_type": "execute_result"
    }
   ],
   "source": [
    "students[1]['gender']"
   ]
  },
  {
   "cell_type": "code",
   "execution_count": null,
   "id": "24519023",
   "metadata": {},
   "outputs": [],
   "source": []
  }
 ],
 "metadata": {
  "kernelspec": {
   "display_name": "Python 3 (ipykernel)",
   "language": "python",
   "name": "python3"
  },
  "language_info": {
   "codemirror_mode": {
    "name": "ipython",
    "version": 3
   },
   "file_extension": ".py",
   "mimetype": "text/x-python",
   "name": "python",
   "nbconvert_exporter": "python",
   "pygments_lexer": "ipython3",
   "version": "3.9.12"
  }
 },
 "nbformat": 4,
 "nbformat_minor": 5
}
