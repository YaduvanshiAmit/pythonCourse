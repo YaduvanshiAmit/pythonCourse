{
 "cells": [
  {
   "cell_type": "markdown",
   "id": "96ae8b0f",
   "metadata": {},
   "source": [
    "## Data Structures"
   ]
  },
  {
   "cell_type": "markdown",
   "id": "8665cf55",
   "metadata": {},
   "source": [
    "## Lists \n",
    "\n",
    "Lists are Ordered collection of element that can hold items of different data types.\n",
    "\n",
    "Lists are Mutable,Meaning their elements can be changed after creation"
   ]
  },
  {
   "cell_type": "code",
   "execution_count": 4,
   "id": "32be9590",
   "metadata": {},
   "outputs": [
    {
     "data": {
      "text/plain": [
       "['apple', 'mango', 'grapes', 5, 5.6, True]"
      ]
     },
     "execution_count": 4,
     "metadata": {},
     "output_type": "execute_result"
    }
   ],
   "source": [
    "## Creating \n",
    "\n",
    "Fruits = ['apple','mango','grapes',5,5.6,True]\n",
    "Fruits\n",
    "\n",
    "# type(Fruits)"
   ]
  },
  {
   "cell_type": "code",
   "execution_count": 5,
   "id": "5998a88d",
   "metadata": {},
   "outputs": [
    {
     "data": {
      "text/plain": [
       "'apple'"
      ]
     },
     "execution_count": 5,
     "metadata": {},
     "output_type": "execute_result"
    }
   ],
   "source": [
    "### Accesing \n",
    "Fruits[0]"
   ]
  },
  {
   "cell_type": "code",
   "execution_count": 6,
   "id": "0af68f00",
   "metadata": {},
   "outputs": [
    {
     "data": {
      "text/plain": [
       "'grapes'"
      ]
     },
     "execution_count": 6,
     "metadata": {},
     "output_type": "execute_result"
    }
   ],
   "source": [
    "Fruits[2]"
   ]
  },
  {
   "cell_type": "code",
   "execution_count": 7,
   "id": "02f9d5c7",
   "metadata": {},
   "outputs": [
    {
     "data": {
      "text/plain": [
       "['Orange', 'mango', 'grapes', 5, 5.6, True]"
      ]
     },
     "execution_count": 7,
     "metadata": {},
     "output_type": "execute_result"
    }
   ],
   "source": [
    "Fruits[0] = 'Orange'\n",
    "Fruits"
   ]
  },
  {
   "cell_type": "code",
   "execution_count": 8,
   "id": "434d44d8",
   "metadata": {},
   "outputs": [
    {
     "data": {
      "text/plain": [
       "['Orange', 'mango', 'apple', 5, 5.6, True]"
      ]
     },
     "execution_count": 8,
     "metadata": {},
     "output_type": "execute_result"
    }
   ],
   "source": [
    "Fruits[2] = 'apple'\n",
    "Fruits"
   ]
  },
  {
   "cell_type": "code",
   "execution_count": 9,
   "id": "0f270c4f",
   "metadata": {},
   "outputs": [
    {
     "data": {
      "text/plain": [
       "['Orange', 'mango', 'apple', 5, 5.6, True, 'grapes']"
      ]
     },
     "execution_count": 9,
     "metadata": {},
     "output_type": "execute_result"
    }
   ],
   "source": [
    "### Add a element in a list\n",
    "\n",
    "Fruits.append('grapes')\n",
    "Fruits"
   ]
  },
  {
   "cell_type": "code",
   "execution_count": 10,
   "id": "02ec0a22",
   "metadata": {},
   "outputs": [
    {
     "data": {
      "text/plain": [
       "['grapes', 'Orange', 'mango', 'apple', 5, 5.6, True, 'grapes']"
      ]
     },
     "execution_count": 10,
     "metadata": {},
     "output_type": "execute_result"
    }
   ],
   "source": [
    "###  if we want to add element on any index\n",
    "Fruits.insert(0,'grapes')\n",
    "Fruits"
   ]
  },
  {
   "cell_type": "code",
   "execution_count": 11,
   "id": "4fd88ad1",
   "metadata": {},
   "outputs": [
    {
     "data": {
      "text/plain": [
       "['grapes', 'Orange', 'Watermelon', 'mango', 'apple', 5, 5.6, True, 'grapes']"
      ]
     },
     "execution_count": 11,
     "metadata": {},
     "output_type": "execute_result"
    }
   ],
   "source": [
    "## \n",
    "Fruits.insert(2,'Watermelon')\n",
    "Fruits"
   ]
  },
  {
   "cell_type": "code",
   "execution_count": 28,
   "id": "4a7cdcf2",
   "metadata": {},
   "outputs": [
    {
     "data": {
      "text/plain": [
       "['grapes',\n",
       " 'Orange',\n",
       " 'Watermelon',\n",
       " 'mango',\n",
       " 'apple',\n",
       " True,\n",
       " 'grapes',\n",
       " 'mango',\n",
       " 'sugar']"
      ]
     },
     "execution_count": 28,
     "metadata": {},
     "output_type": "execute_result"
    }
   ],
   "source": [
    "### Extend\n",
    "Fruits.extend(['mango','sugar'])\n",
    "Fruits"
   ]
  },
  {
   "cell_type": "code",
   "execution_count": 30,
   "id": "69aa356e",
   "metadata": {},
   "outputs": [
    {
     "data": {
      "text/plain": [
       "2"
      ]
     },
     "execution_count": 30,
     "metadata": {},
     "output_type": "execute_result"
    }
   ],
   "source": [
    "Fruits.count('mango')"
   ]
  },
  {
   "cell_type": "code",
   "execution_count": 12,
   "id": "34a6914e",
   "metadata": {},
   "outputs": [
    {
     "data": {
      "text/plain": [
       "9"
      ]
     },
     "execution_count": 12,
     "metadata": {},
     "output_type": "execute_result"
    }
   ],
   "source": [
    "### Check Length\n",
    "len(Fruits)"
   ]
  },
  {
   "cell_type": "code",
   "execution_count": 13,
   "id": "6d3bc274",
   "metadata": {},
   "outputs": [
    {
     "data": {
      "text/plain": [
       "['grapes', 'Orange', 'Watermelon', 'mango', 'apple', 5.6, True, 'grapes']"
      ]
     },
     "execution_count": 13,
     "metadata": {},
     "output_type": "execute_result"
    }
   ],
   "source": [
    "Fruits.pop(5)\n",
    "Fruits"
   ]
  },
  {
   "cell_type": "code",
   "execution_count": 14,
   "id": "c312f742",
   "metadata": {},
   "outputs": [
    {
     "data": {
      "text/plain": [
       "['grapes', 'Orange', 'Watermelon', 'mango', 'apple', True, 'grapes']"
      ]
     },
     "execution_count": 14,
     "metadata": {},
     "output_type": "execute_result"
    }
   ],
   "source": [
    "Fruits.remove(5.6)\n",
    "Fruits"
   ]
  },
  {
   "cell_type": "code",
   "execution_count": 17,
   "id": "625e88b7",
   "metadata": {},
   "outputs": [
    {
     "data": {
      "text/plain": [
       "['Orange', 'Watermelon', 'mango']"
      ]
     },
     "execution_count": 17,
     "metadata": {},
     "output_type": "execute_result"
    }
   ],
   "source": [
    "### Indexing\n",
    "Fruits[1:4]"
   ]
  },
  {
   "cell_type": "code",
   "execution_count": 18,
   "id": "131e41b2",
   "metadata": {},
   "outputs": [
    {
     "data": {
      "text/plain": [
       "['grapes', 'Orange', 'Watermelon', 'mango', 'apple', True, 'grapes']"
      ]
     },
     "execution_count": 18,
     "metadata": {},
     "output_type": "execute_result"
    }
   ],
   "source": [
    " Fruits"
   ]
  },
  {
   "cell_type": "code",
   "execution_count": 19,
   "id": "8ae9cf0b",
   "metadata": {},
   "outputs": [
    {
     "data": {
      "text/plain": [
       "['grapes', True, 'apple', 'mango', 'Watermelon', 'Orange', 'grapes']"
      ]
     },
     "execution_count": 19,
     "metadata": {},
     "output_type": "execute_result"
    }
   ],
   "source": [
    "Fruits[::-1]"
   ]
  },
  {
   "cell_type": "code",
   "execution_count": 20,
   "id": "d9805098",
   "metadata": {},
   "outputs": [
    {
     "data": {
      "text/plain": [
       "['grapes', 'Watermelon', 'apple']"
      ]
     },
     "execution_count": 20,
     "metadata": {},
     "output_type": "execute_result"
    }
   ],
   "source": [
    "Fruits[0:5:2]"
   ]
  },
  {
   "cell_type": "code",
   "execution_count": 22,
   "id": "c4f01a22",
   "metadata": {},
   "outputs": [
    {
     "name": "stdout",
     "output_type": "stream",
     "text": [
      "No\n"
     ]
    }
   ],
   "source": [
    "if 'sugar' in Fruits:\n",
    "    print('yes')\n",
    "else:\n",
    "    print('No')"
   ]
  },
  {
   "cell_type": "code",
   "execution_count": 23,
   "id": "306b0650",
   "metadata": {},
   "outputs": [
    {
     "name": "stdout",
     "output_type": "stream",
     "text": [
      "grapes\n",
      "Orange\n",
      "Watermelon\n",
      "mango\n",
      "apple\n",
      "True\n",
      "grapes\n"
     ]
    }
   ],
   "source": [
    "for i in Fruits:\n",
    "    print(i)"
   ]
  },
  {
   "cell_type": "code",
   "execution_count": 24,
   "id": "56d893f4",
   "metadata": {},
   "outputs": [
    {
     "name": "stdout",
     "output_type": "stream",
     "text": [
      "0\n",
      "1\n",
      "2\n",
      "3\n",
      "4\n",
      "5\n",
      "6\n"
     ]
    }
   ],
   "source": [
    "for i in range(len(Fruits)):\n",
    "    print(i)"
   ]
  },
  {
   "cell_type": "code",
   "execution_count": 27,
   "id": "87ddd7be",
   "metadata": {},
   "outputs": [
    {
     "name": "stdout",
     "output_type": "stream",
     "text": [
      "Index 0 : grapes\n",
      "Index 1 : Orange\n",
      "Index 2 : Watermelon\n",
      "Index 3 : mango\n",
      "Index 4 : apple\n",
      "Index 5 : True\n",
      "Index 6 : grapes\n"
     ]
    }
   ],
   "source": [
    "for ind,fru in enumerate(Fruits):\n",
    "    print(f\"Index {ind} : {fru}\")"
   ]
  },
  {
   "cell_type": "code",
   "execution_count": 31,
   "id": "75435b77",
   "metadata": {},
   "outputs": [
    {
     "data": {
      "text/plain": [
       "['grapes',\n",
       " 'Orange',\n",
       " 'Watermelon',\n",
       " 'mango',\n",
       " 'apple',\n",
       " True,\n",
       " 'grapes',\n",
       " 'mango',\n",
       " 'sugar']"
      ]
     },
     "execution_count": 31,
     "metadata": {},
     "output_type": "execute_result"
    }
   ],
   "source": [
    "Fruits"
   ]
  },
  {
   "cell_type": "code",
   "execution_count": 32,
   "id": "a223c7b4",
   "metadata": {},
   "outputs": [],
   "source": [
    "Fruits.clear()"
   ]
  },
  {
   "cell_type": "code",
   "execution_count": 33,
   "id": "d95120cd",
   "metadata": {},
   "outputs": [
    {
     "data": {
      "text/plain": [
       "[]"
      ]
     },
     "execution_count": 33,
     "metadata": {},
     "output_type": "execute_result"
    }
   ],
   "source": [
    "Fruits"
   ]
  },
  {
   "cell_type": "code",
   "execution_count": 37,
   "id": "e75685cd",
   "metadata": {},
   "outputs": [
    {
     "data": {
      "text/plain": [
       "[3, 7, 4, 2, 5]"
      ]
     },
     "execution_count": 37,
     "metadata": {},
     "output_type": "execute_result"
    }
   ],
   "source": [
    "number = [3,7,4,2,5]\n",
    "number"
   ]
  },
  {
   "cell_type": "code",
   "execution_count": 38,
   "id": "d45d1194",
   "metadata": {},
   "outputs": [],
   "source": [
    "number.sort()"
   ]
  },
  {
   "cell_type": "code",
   "execution_count": 39,
   "id": "b0fb4663",
   "metadata": {},
   "outputs": [
    {
     "data": {
      "text/plain": [
       "[2, 3, 4, 5, 7]"
      ]
     },
     "execution_count": 39,
     "metadata": {},
     "output_type": "execute_result"
    }
   ],
   "source": [
    "number"
   ]
  },
  {
   "cell_type": "code",
   "execution_count": 40,
   "id": "0db025e6",
   "metadata": {},
   "outputs": [],
   "source": [
    "x,y,z,a,b = number"
   ]
  },
  {
   "cell_type": "code",
   "execution_count": 41,
   "id": "a739451b",
   "metadata": {},
   "outputs": [
    {
     "name": "stdout",
     "output_type": "stream",
     "text": [
      "2\n"
     ]
    }
   ],
   "source": [
    "print(x)"
   ]
  },
  {
   "cell_type": "code",
   "execution_count": 42,
   "id": "671d9ac7",
   "metadata": {},
   "outputs": [],
   "source": [
    "x = number[0]"
   ]
  },
  {
   "cell_type": "code",
   "execution_count": 43,
   "id": "2124845e",
   "metadata": {},
   "outputs": [
    {
     "name": "stdout",
     "output_type": "stream",
     "text": [
      "2\n"
     ]
    }
   ],
   "source": [
    "print(x)"
   ]
  },
  {
   "cell_type": "code",
   "execution_count": 44,
   "id": "dcde299f",
   "metadata": {},
   "outputs": [
    {
     "data": {
      "text/plain": [
       "[7, 5, 4, 3, 2]"
      ]
     },
     "execution_count": 44,
     "metadata": {},
     "output_type": "execute_result"
    }
   ],
   "source": [
    "list(reversed(number))"
   ]
  },
  {
   "cell_type": "code",
   "execution_count": 45,
   "id": "fb5a488c",
   "metadata": {},
   "outputs": [
    {
     "name": "stdout",
     "output_type": "stream",
     "text": [
      "[1, 2, 3, 4, 5, 5, 6]\n"
     ]
    }
   ],
   "source": [
    "list1 = [1,2,3,4]\n",
    "list2 = [5,5,6]\n",
    "\n",
    "list3 = list1 + list2\n",
    "print(list3)"
   ]
  },
  {
   "cell_type": "markdown",
   "id": "638255ef",
   "metadata": {},
   "source": [
    "### Tuples\n",
    "\n",
    "Tuples are ordered collections of elements, similar to lists, but they are immutable, meaning their elements cannot be changed after creation."
   ]
  },
  {
   "cell_type": "code",
   "execution_count": 46,
   "id": "0392e4ef",
   "metadata": {},
   "outputs": [],
   "source": [
    "## Ceating a  Tuple\n",
    "cordinates = (10,20)"
   ]
  },
  {
   "cell_type": "code",
   "execution_count": 1,
   "id": "f8e076de",
   "metadata": {},
   "outputs": [
    {
     "data": {
      "text/plain": [
       "(1, 'amie', 2.5)"
      ]
     },
     "execution_count": 1,
     "metadata": {},
     "output_type": "execute_result"
    }
   ],
   "source": [
    "tuples = (1,'amie',2.5)\n",
    "tuples"
   ]
  },
  {
   "cell_type": "code",
   "execution_count": 47,
   "id": "7417f0e6",
   "metadata": {},
   "outputs": [
    {
     "data": {
      "text/plain": [
       "tuple"
      ]
     },
     "execution_count": 47,
     "metadata": {},
     "output_type": "execute_result"
    }
   ],
   "source": [
    "type(cordinates)"
   ]
  },
  {
   "cell_type": "code",
   "execution_count": 48,
   "id": "6a83d1b2",
   "metadata": {},
   "outputs": [
    {
     "data": {
      "text/plain": [
       "(10, 20)"
      ]
     },
     "execution_count": 48,
     "metadata": {},
     "output_type": "execute_result"
    }
   ],
   "source": [
    "cordinates"
   ]
  },
  {
   "cell_type": "code",
   "execution_count": 49,
   "id": "3de7bff2",
   "metadata": {},
   "outputs": [
    {
     "data": {
      "text/plain": [
       "10"
      ]
     },
     "execution_count": 49,
     "metadata": {},
     "output_type": "execute_result"
    }
   ],
   "source": [
    "cordinates[0]"
   ]
  },
  {
   "cell_type": "code",
   "execution_count": 50,
   "id": "516d92b3",
   "metadata": {},
   "outputs": [
    {
     "ename": "TypeError",
     "evalue": "'tuple' object does not support item assignment",
     "output_type": "error",
     "traceback": [
      "\u001b[1;31m---------------------------------------------------------------------------\u001b[0m",
      "\u001b[1;31mTypeError\u001b[0m                                 Traceback (most recent call last)",
      "Input \u001b[1;32mIn [50]\u001b[0m, in \u001b[0;36m<cell line: 1>\u001b[1;34m()\u001b[0m\n\u001b[1;32m----> 1\u001b[0m cordinates[\u001b[38;5;241m0\u001b[39m] \u001b[38;5;241m=\u001b[39m \u001b[38;5;241m30\u001b[39m\n",
      "\u001b[1;31mTypeError\u001b[0m: 'tuple' object does not support item assignment"
     ]
    }
   ],
   "source": [
    "cordinates[0] = 30"
   ]
  },
  {
   "cell_type": "code",
   "execution_count": 51,
   "id": "fa71dcc4",
   "metadata": {},
   "outputs": [
    {
     "data": {
      "text/plain": [
       "list"
      ]
     },
     "execution_count": 51,
     "metadata": {},
     "output_type": "execute_result"
    }
   ],
   "source": [
    "###\n",
    "listconrd = list(cordinates)\n",
    "type(listconrd)"
   ]
  },
  {
   "cell_type": "code",
   "execution_count": 52,
   "id": "b9d13870",
   "metadata": {},
   "outputs": [
    {
     "data": {
      "text/plain": [
       "[10, 20]"
      ]
     },
     "execution_count": 52,
     "metadata": {},
     "output_type": "execute_result"
    }
   ],
   "source": [
    "listconrd"
   ]
  },
  {
   "cell_type": "code",
   "execution_count": 53,
   "id": "fd074f41",
   "metadata": {},
   "outputs": [
    {
     "data": {
      "text/plain": [
       "[30, 20]"
      ]
     },
     "execution_count": 53,
     "metadata": {},
     "output_type": "execute_result"
    }
   ],
   "source": [
    "listconrd[0] = 30\n",
    "listconrd"
   ]
  },
  {
   "cell_type": "markdown",
   "id": "818434b6",
   "metadata": {},
   "source": [
    "### Sets \n",
    "\n",
    "Sets are unordered collections of unique elements. They do not allow duplicate values."
   ]
  },
  {
   "cell_type": "code",
   "execution_count": 54,
   "id": "b71772e7",
   "metadata": {},
   "outputs": [
    {
     "data": {
      "text/plain": [
       "{'apple', 'banana', 'orange'}"
      ]
     },
     "execution_count": 54,
     "metadata": {},
     "output_type": "execute_result"
    }
   ],
   "source": [
    "## Creating Set\n",
    "\n",
    "fruits_set = {'apple','banana','orange','apple'}\n",
    "fruits_set"
   ]
  },
  {
   "cell_type": "code",
   "execution_count": 5,
   "id": "380e2ab8",
   "metadata": {},
   "outputs": [
    {
     "data": {
      "text/plain": [
       "{1, 5.6, 'apple', 'banana', 'orange'}"
      ]
     },
     "execution_count": 5,
     "metadata": {},
     "output_type": "execute_result"
    }
   ],
   "source": [
    "fruits_set = {'apple','banana','orange','apple',1,5.6,True}\n",
    "fruits_set"
   ]
  },
  {
   "cell_type": "code",
   "execution_count": 55,
   "id": "30fca3fc",
   "metadata": {},
   "outputs": [
    {
     "data": {
      "text/plain": [
       "set"
      ]
     },
     "execution_count": 55,
     "metadata": {},
     "output_type": "execute_result"
    }
   ],
   "source": [
    "type(fruits_set)"
   ]
  },
  {
   "cell_type": "code",
   "execution_count": 56,
   "id": "ba03145f",
   "metadata": {},
   "outputs": [
    {
     "data": {
      "text/plain": [
       "{'apple', 'banana', 'grapes', 'orange'}"
      ]
     },
     "execution_count": 56,
     "metadata": {},
     "output_type": "execute_result"
    }
   ],
   "source": [
    "fruits_set.add('grapes')\n",
    "fruits_set"
   ]
  },
  {
   "cell_type": "code",
   "execution_count": 57,
   "id": "f27e3b2c",
   "metadata": {},
   "outputs": [
    {
     "name": "stdout",
     "output_type": "stream",
     "text": [
      "{1, 2, 3, 4, 5}\n"
     ]
    }
   ],
   "source": [
    "set1 = {1,2,3}\n",
    "set2 = {3,4,5}\n",
    "\n",
    "union_set = set1 | set2\n",
    "print(union_set)"
   ]
  },
  {
   "cell_type": "code",
   "execution_count": 58,
   "id": "7e931fba",
   "metadata": {},
   "outputs": [
    {
     "name": "stdout",
     "output_type": "stream",
     "text": [
      "{3}\n"
     ]
    }
   ],
   "source": [
    "instersection_set = set1 & set2\n",
    "print(instersection_set)"
   ]
  },
  {
   "cell_type": "code",
   "execution_count": 59,
   "id": "f4b674da",
   "metadata": {},
   "outputs": [
    {
     "name": "stdout",
     "output_type": "stream",
     "text": [
      "{'john.doe@example.com', 'jane.smith@example.com', 'user@example.com'}\n"
     ]
    }
   ],
   "source": [
    "## \n",
    "email_list = [\n",
    "    'user@example.com',\n",
    "    'john.doe@example.com',\n",
    "    'user@example.com',\n",
    "    'jane.smith@example.com',\n",
    "    'john.doe@example.com'\n",
    "]\n",
    "\n",
    "unique_email_set = set(email_list)\n",
    "print(unique_email_set)"
   ]
  },
  {
   "cell_type": "markdown",
   "id": "f7925949",
   "metadata": {},
   "source": [
    "## Dictionaries\n",
    "\n",
    "Definition: Dictionaries are collections of key-value pairs, allowing you to store and retrieve data using unique keys."
   ]
  },
  {
   "cell_type": "code",
   "execution_count": 60,
   "id": "9e6d2088",
   "metadata": {},
   "outputs": [
    {
     "data": {
      "text/plain": [
       "{'name': 'Amit', 'age': 25, 'is_student': True}"
      ]
     },
     "execution_count": 60,
     "metadata": {},
     "output_type": "execute_result"
    }
   ],
   "source": [
    "### Creating a Dictinories\n",
    "\n",
    "students = {'name':'Amit','age':25,'is_student':True}\n",
    "students"
   ]
  },
  {
   "cell_type": "code",
   "execution_count": 61,
   "id": "b1d2cbb5",
   "metadata": {},
   "outputs": [
    {
     "data": {
      "text/plain": [
       "{'fruits': 'apple', 'vegetable': 'carrot'}"
      ]
     },
     "execution_count": 61,
     "metadata": {},
     "output_type": "execute_result"
    }
   ],
   "source": [
    "dictionaries = {'fruits':'apple','vegetable':'carrot'}\n",
    "dictionaries"
   ]
  },
  {
   "cell_type": "code",
   "execution_count": 62,
   "id": "870b5c58",
   "metadata": {},
   "outputs": [
    {
     "data": {
      "text/plain": [
       "{'name': 'Amit', 'age': 25, 'is_student': True}"
      ]
     },
     "execution_count": 62,
     "metadata": {},
     "output_type": "execute_result"
    }
   ],
   "source": [
    "\n",
    "students = {'name':'Amit','age':25,'is_student':True}\n",
    "students"
   ]
  },
  {
   "cell_type": "code",
   "execution_count": 63,
   "id": "06009ec9",
   "metadata": {},
   "outputs": [
    {
     "data": {
      "text/plain": [
       "'Amit'"
      ]
     },
     "execution_count": 63,
     "metadata": {},
     "output_type": "execute_result"
    }
   ],
   "source": [
    "### Access \n",
    "students['name']"
   ]
  },
  {
   "cell_type": "code",
   "execution_count": 64,
   "id": "e59aa23b",
   "metadata": {},
   "outputs": [
    {
     "data": {
      "text/plain": [
       "25"
      ]
     },
     "execution_count": 64,
     "metadata": {},
     "output_type": "execute_result"
    }
   ],
   "source": [
    "students['age']"
   ]
  },
  {
   "cell_type": "code",
   "execution_count": 65,
   "id": "8d1427f4",
   "metadata": {},
   "outputs": [
    {
     "data": {
      "text/plain": [
       "{'name': 'Amit', 'age': 26, 'is_student': True}"
      ]
     },
     "execution_count": 65,
     "metadata": {},
     "output_type": "execute_result"
    }
   ],
   "source": [
    "students['age'] = 26\n",
    "students"
   ]
  },
  {
   "cell_type": "code",
   "execution_count": 66,
   "id": "c64fdca3",
   "metadata": {},
   "outputs": [
    {
     "data": {
      "text/plain": [
       "{'name': 'Anil', 'age': 26, 'is_student': True}"
      ]
     },
     "execution_count": 66,
     "metadata": {},
     "output_type": "execute_result"
    }
   ],
   "source": [
    "students['name'] = 'Anil'\n",
    "students"
   ]
  },
  {
   "cell_type": "code",
   "execution_count": 67,
   "id": "e5f55a2d",
   "metadata": {},
   "outputs": [],
   "source": [
    "key_list = students.keys()"
   ]
  },
  {
   "cell_type": "code",
   "execution_count": 68,
   "id": "f0cd61ba",
   "metadata": {},
   "outputs": [
    {
     "data": {
      "text/plain": [
       "dict_keys(['name', 'age', 'is_student'])"
      ]
     },
     "execution_count": 68,
     "metadata": {},
     "output_type": "execute_result"
    }
   ],
   "source": [
    "key_list\n"
   ]
  },
  {
   "cell_type": "code",
   "execution_count": 69,
   "id": "b153005e",
   "metadata": {},
   "outputs": [
    {
     "data": {
      "text/plain": [
       "dict_values(['Anil', 26, True])"
      ]
     },
     "execution_count": 69,
     "metadata": {},
     "output_type": "execute_result"
    }
   ],
   "source": [
    "values = students.values()\n",
    "values"
   ]
  },
  {
   "cell_type": "code",
   "execution_count": 70,
   "id": "d81062a0",
   "metadata": {},
   "outputs": [
    {
     "data": {
      "text/plain": [
       "dict_items([('name', 'Anil'), ('age', 26), ('is_student', True)])"
      ]
     },
     "execution_count": 70,
     "metadata": {},
     "output_type": "execute_result"
    }
   ],
   "source": [
    "item = students.items()\n",
    "item"
   ]
  },
  {
   "cell_type": "code",
   "execution_count": 71,
   "id": "8deca91d",
   "metadata": {},
   "outputs": [
    {
     "data": {
      "text/plain": [
       "{'name': 'Anil', 'age': 26, 'is_student': True, 'Working': 'True'}"
      ]
     },
     "execution_count": 71,
     "metadata": {},
     "output_type": "execute_result"
    }
   ],
   "source": [
    "students.update({'Working':'True'})\n",
    "students"
   ]
  },
  {
   "cell_type": "code",
   "execution_count": 73,
   "id": "0ff7f12b",
   "metadata": {},
   "outputs": [
    {
     "data": {
      "text/plain": [
       "list"
      ]
     },
     "execution_count": 73,
     "metadata": {},
     "output_type": "execute_result"
    }
   ],
   "source": [
    "### Function\n",
    "\n",
    "students = [\n",
    "    \n",
    "    {'name': 'John Doe', 'age': 25, 'gender': 'Male'},\n",
    "    {'name': 'Alice Smith', 'age': 22, 'gender': 'Female'},\n",
    "    {'name': 'Bob Johnson', 'age': 30, 'gender': 'Male'}\n",
    "]\n",
    "\n",
    "type(students)"
   ]
  },
  {
   "cell_type": "code",
   "execution_count": 75,
   "id": "817493c9",
   "metadata": {},
   "outputs": [
    {
     "data": {
      "text/plain": [
       "dict"
      ]
     },
     "execution_count": 75,
     "metadata": {},
     "output_type": "execute_result"
    }
   ],
   "source": [
    "type(students[0])"
   ]
  },
  {
   "cell_type": "code",
   "execution_count": 78,
   "id": "cc14b281",
   "metadata": {},
   "outputs": [
    {
     "data": {
      "text/plain": [
       "'Female'"
      ]
     },
     "execution_count": 78,
     "metadata": {},
     "output_type": "execute_result"
    }
   ],
   "source": [
    "students[1]['gender']"
   ]
  },
  {
   "cell_type": "markdown",
   "id": "9237842c",
   "metadata": {},
   "source": [
    "## Nested Disctionaries"
   ]
  },
  {
   "cell_type": "code",
   "execution_count": 4,
   "id": "4067853d",
   "metadata": {},
   "outputs": [
    {
     "data": {
      "text/plain": [
       "dict"
      ]
     },
     "execution_count": 4,
     "metadata": {},
     "output_type": "execute_result"
    }
   ],
   "source": [
    "car1_model = {'Mercedes':1980}\n",
    "car2_model = {'Audi':1970}\n",
    "car3_model = {'Ambassodor':1980}\n",
    "type(car1_model)"
   ]
  },
  {
   "cell_type": "code",
   "execution_count": 3,
   "id": "b01f17a4",
   "metadata": {},
   "outputs": [
    {
     "data": {
      "text/plain": [
       "dict_values([1980])"
      ]
     },
     "execution_count": 3,
     "metadata": {},
     "output_type": "execute_result"
    }
   ],
   "source": [
    "car1_model.values()"
   ]
  },
  {
   "cell_type": "code",
   "execution_count": 5,
   "id": "3a56f963",
   "metadata": {},
   "outputs": [
    {
     "data": {
      "text/plain": [
       "dict"
      ]
     },
     "execution_count": 5,
     "metadata": {},
     "output_type": "execute_result"
    }
   ],
   "source": [
    "car_type= {'car1':car1_model,'car2':car2_model,'car3':car3_model}\n",
    "type(car_type)"
   ]
  },
  {
   "cell_type": "code",
   "execution_count": 62,
   "id": "b906bf1b",
   "metadata": {},
   "outputs": [
    {
     "data": {
      "text/plain": [
       "{'Mercedes': 1985}"
      ]
     },
     "execution_count": 62,
     "metadata": {},
     "output_type": "execute_result"
    }
   ],
   "source": [
    "car_type['car1']"
   ]
  },
  {
   "cell_type": "code",
   "execution_count": 9,
   "id": "5275913a",
   "metadata": {},
   "outputs": [],
   "source": [
    "car_type['car1']['Mercedes'] = 1985"
   ]
  },
  {
   "cell_type": "code",
   "execution_count": 10,
   "id": "6fb936ab",
   "metadata": {},
   "outputs": [
    {
     "data": {
      "text/plain": [
       "1985"
      ]
     },
     "execution_count": 10,
     "metadata": {},
     "output_type": "execute_result"
    }
   ],
   "source": [
    "car_type['car1']['Mercedes']"
   ]
  },
  {
   "cell_type": "code",
   "execution_count": 25,
   "id": "9b5ee971",
   "metadata": {},
   "outputs": [
    {
     "name": "stdout",
     "output_type": "stream",
     "text": [
      "Enter the nymber of students: 5\n",
      "enter marks for student 1: 45\n",
      "enter marks for student 2: 45\n",
      "enter marks for student 3: 78\n",
      "enter marks for student 4: 75\n",
      "enter marks for student 5: 85\n",
      "Marks List: [45, 45, 78, 75, 85]\n",
      "Maximum Marks: 85\n",
      "Minimum Marks: 45\n",
      "Average Marks: 65.6\n",
      "Student with Highest Marks: Student 5\n",
      "Student with Lowest Marks: Student 1\n"
     ]
    }
   ],
   "source": [
    "#### Fun Example\n",
    "\n",
    "def student_marks_analysis():\n",
    "    num_students = int(input(\"Enter the nymber of students: \"))\n",
    "    marks_list = []\n",
    "    \n",
    "    # input marks for each students and store in the list\n",
    "    for i in range(num_students):\n",
    "        marks = int(input(f\"enter marks for student {i+1}: \"))\n",
    "        marks_list.append(marks)\n",
    "    \n",
    "    # Calculate and display maximum, minimum, and average marks\n",
    "    max_marks = max(marks_list)\n",
    "    min_marks = min(marks_list)\n",
    "    total_marks = sum(marks_list)\n",
    "    average_marks = total_marks / num_students\n",
    "    \n",
    "     # Find the index of the student with the highest and lowest marks\n",
    "    highest_index = marks_list.index(max_marks)\n",
    "    lowest_index = marks_list.index(min_marks)\n",
    "\n",
    "    print(\"Marks List:\", marks_list)\n",
    "    print(\"Maximum Marks:\", max_marks)\n",
    "    print(\"Minimum Marks:\", min_marks)\n",
    "    print(\"Average Marks:\", average_marks)\n",
    "    \n",
    "    # Display the students who scored the highest and lowest marks\n",
    "    print(\"Student with Highest Marks:\", f\"Student {highest_index + 1}\")\n",
    "    print(\"Student with Lowest Marks:\", f\"Student {lowest_index + 1}\")\n",
    "    \n",
    "\n",
    "student_marks_analysis()   "
   ]
  },
  {
   "cell_type": "code",
   "execution_count": 24,
   "id": "a2e43a45",
   "metadata": {},
   "outputs": [
    {
     "name": "stdout",
     "output_type": "stream",
     "text": [
      "Enter the nymber of students: 5\n",
      "enter marks for student 1: 56\n",
      "enter marks for student 2: 89\n",
      "enter marks for student 3: 75\n",
      "enter marks for student 4: 45\n",
      "enter marks for student 5: 56\n",
      "[56, 89, 75, 45, 56]\n",
      "89\n",
      "45\n",
      "321\n",
      "64.2\n",
      "2\n",
      "4\n"
     ]
    }
   ],
   "source": [
    "## practise\n",
    "num_students = int(input(\"Enter the nymber of students: \"))\n",
    "marks_list = []  ## empty list\n",
    "for i in range(num_students):\n",
    "    marks = int(input(f\"enter marks for student {i+1}: \"))\n",
    "    marks_list.append(marks)\n",
    "    \n",
    "print(marks_list)\n",
    "\n",
    "### max \n",
    "max_marks = max(marks_list)\n",
    "print(max_marks)\n",
    "\n",
    "## min \n",
    "min_marks = min(marks_list)\n",
    "print(min_marks)\n",
    "\n",
    "## total_marks\n",
    "total_marks = sum(marks_list)\n",
    "print(total_marks)\n",
    "\n",
    "## percentage \n",
    "percentage = (total_marks/(len(marks_list)*100))*100\n",
    "print(percentage)\n",
    "\n",
    "### Display the students highest and lowest marks\n",
    "\n",
    "highest_marks = marks_list.index(max_marks)\n",
    "print(highest_marks+1)\n",
    "\n",
    "lowest_marks = marks_list.index(min_marks)\n",
    "print(lowest_marks +1)\n",
    "\n"
   ]
  },
  {
   "cell_type": "code",
   "execution_count": 21,
   "id": "613187b7",
   "metadata": {},
   "outputs": [],
   "source": [
    "abc = [33,4,4,5,6,44,55]"
   ]
  },
  {
   "cell_type": "code",
   "execution_count": 22,
   "id": "c89d47ca",
   "metadata": {},
   "outputs": [
    {
     "data": {
      "text/plain": [
       "3"
      ]
     },
     "execution_count": 22,
     "metadata": {},
     "output_type": "execute_result"
    }
   ],
   "source": [
    "abc.index(5)"
   ]
  },
  {
   "cell_type": "code",
   "execution_count": 43,
   "id": "f950e864",
   "metadata": {},
   "outputs": [
    {
     "name": "stdout",
     "output_type": "stream",
     "text": [
      "Enter student Id: 101\n",
      "Enter student name: Amit\n",
      "Enter student age: 25\n",
      "enter sttudent grades (comma-separated): 42,56,89,78,45\n",
      "[42, 56, 89, 78, 45]\n",
      "Enter student subjects (comma-separated): sst,sci,eng,hindi,gk\n",
      "['sst', 'sci', 'eng', 'hindi', 'gk']\n",
      "{101: {'name': 'Amit', 'age': 25, 'grades': ['42', '56', '89', '78', '45'], 'subject': ['sst', 'sci', 'eng', 'hindi', 'gk']}}\n"
     ]
    }
   ],
   "source": [
    "#### Fun Example\n",
    "\n",
    "students = {}\n",
    "\n",
    "\n",
    "student_id = int(input('Enter student Id: '))\n",
    "name = input('Enter student name: ')\n",
    "age = int(input('Enter student age: '))\n",
    "grades = input(\"enter sttudent grades (comma-separated): \").split(\",\")\n",
    "# grad = grades.split(\",\")\n",
    "gradeslist = []\n",
    "for i in grades:\n",
    "    gradeslist.append(int(i))\n",
    "print(gradeslist)\n",
    "subject = input(\"Enter student subjects (comma-separated): \").split(\",\")\n",
    "print(subject)\n",
    "\n",
    "students[student_id ] = {'name':name,\n",
    "                        'age':age,\n",
    "                        'grades':grades,\n",
    "                        'subject':subject}\n",
    "\n",
    "print(students)"
   ]
  },
  {
   "cell_type": "code",
   "execution_count": null,
   "id": "bab3b5c2",
   "metadata": {},
   "outputs": [],
   "source": [
    "grades = [int(x) for x in input(\"Enter student grades (comma-separated): \").split(\",\")]"
   ]
  },
  {
   "cell_type": "code",
   "execution_count": 32,
   "id": "fd694a35",
   "metadata": {},
   "outputs": [
    {
     "name": "stdout",
     "output_type": "stream",
     "text": [
      "enter sttudent grades (comma-separated): 45/56/89/56/45\n",
      "45/56/89/56/45\n"
     ]
    }
   ],
   "source": [
    "grades = input(\"enter sttudent grades (comma-separated): \")\n",
    "print(grades)"
   ]
  },
  {
   "cell_type": "code",
   "execution_count": 33,
   "id": "ec608cc4",
   "metadata": {},
   "outputs": [
    {
     "data": {
      "text/plain": [
       "str"
      ]
     },
     "execution_count": 33,
     "metadata": {},
     "output_type": "execute_result"
    }
   ],
   "source": [
    "type(grades)"
   ]
  },
  {
   "cell_type": "code",
   "execution_count": 34,
   "id": "627bb835",
   "metadata": {},
   "outputs": [
    {
     "name": "stdout",
     "output_type": "stream",
     "text": [
      "['45', '56', '89', '56', '45']\n"
     ]
    }
   ],
   "source": [
    "grad = grades.split(\"/\")\n",
    "print(grad)"
   ]
  },
  {
   "cell_type": "code",
   "execution_count": 35,
   "id": "7a93f9be",
   "metadata": {},
   "outputs": [
    {
     "data": {
      "text/plain": [
       "list"
      ]
     },
     "execution_count": 35,
     "metadata": {},
     "output_type": "execute_result"
    }
   ],
   "source": [
    "type(grad)"
   ]
  },
  {
   "cell_type": "code",
   "execution_count": 36,
   "id": "6a78ff7a",
   "metadata": {},
   "outputs": [
    {
     "name": "stdout",
     "output_type": "stream",
     "text": [
      "45\n"
     ]
    }
   ],
   "source": [
    "value = grad[0]\n",
    "print(value)"
   ]
  },
  {
   "cell_type": "code",
   "execution_count": 37,
   "id": "92ed02d2",
   "metadata": {},
   "outputs": [
    {
     "data": {
      "text/plain": [
       "str"
      ]
     },
     "execution_count": 37,
     "metadata": {},
     "output_type": "execute_result"
    }
   ],
   "source": [
    "type(value)"
   ]
  },
  {
   "cell_type": "code",
   "execution_count": 38,
   "id": "6e7a97f3",
   "metadata": {},
   "outputs": [
    {
     "data": {
      "text/plain": [
       "[45, 56, 89, 56, 45]"
      ]
     },
     "execution_count": 38,
     "metadata": {},
     "output_type": "execute_result"
    }
   ],
   "source": [
    "newlist = []\n",
    "for i in grad:\n",
    "    newlist.append(int(i))\n",
    "    \n",
    "newlist"
   ]
  },
  {
   "cell_type": "code",
   "execution_count": 39,
   "id": "cc8b9919",
   "metadata": {},
   "outputs": [],
   "source": [
    "valueww = newlist[0]"
   ]
  },
  {
   "cell_type": "code",
   "execution_count": 40,
   "id": "13ae35a9",
   "metadata": {},
   "outputs": [
    {
     "data": {
      "text/plain": [
       "int"
      ]
     },
     "execution_count": 40,
     "metadata": {},
     "output_type": "execute_result"
    }
   ],
   "source": [
    "type(valueww)"
   ]
  },
  {
   "cell_type": "code",
   "execution_count": 41,
   "id": "4207cf74",
   "metadata": {},
   "outputs": [
    {
     "ename": "KeyboardInterrupt",
     "evalue": "Interrupted by user",
     "output_type": "error",
     "traceback": [
      "\u001b[1;31m---------------------------------------------------------------------------\u001b[0m",
      "\u001b[1;31mKeyboardInterrupt\u001b[0m                         Traceback (most recent call last)",
      "Input \u001b[1;32mIn [41]\u001b[0m, in \u001b[0;36m<cell line: 1>\u001b[1;34m()\u001b[0m\n\u001b[1;32m----> 1\u001b[0m [\u001b[38;5;28mint\u001b[39m(x) \u001b[38;5;28;01mfor\u001b[39;00m x \u001b[38;5;129;01min\u001b[39;00m \u001b[38;5;28;43minput\u001b[39;49m\u001b[43m(\u001b[49m\u001b[38;5;124;43m\"\u001b[39;49m\u001b[38;5;124;43mEnter student grades (comma-separated): \u001b[39;49m\u001b[38;5;124;43m\"\u001b[39;49m\u001b[43m)\u001b[49m\u001b[38;5;241m.\u001b[39msplit(\u001b[38;5;124m\"\u001b[39m\u001b[38;5;124m,\u001b[39m\u001b[38;5;124m\"\u001b[39m)]\n",
      "File \u001b[1;32m~\\anaconda3\\lib\\site-packages\\ipykernel\\kernelbase.py:1075\u001b[0m, in \u001b[0;36mKernel.raw_input\u001b[1;34m(self, prompt)\u001b[0m\n\u001b[0;32m   1071\u001b[0m \u001b[38;5;28;01mif\u001b[39;00m \u001b[38;5;129;01mnot\u001b[39;00m \u001b[38;5;28mself\u001b[39m\u001b[38;5;241m.\u001b[39m_allow_stdin:\n\u001b[0;32m   1072\u001b[0m     \u001b[38;5;28;01mraise\u001b[39;00m StdinNotImplementedError(\n\u001b[0;32m   1073\u001b[0m         \u001b[38;5;124m\"\u001b[39m\u001b[38;5;124mraw_input was called, but this frontend does not support input requests.\u001b[39m\u001b[38;5;124m\"\u001b[39m\n\u001b[0;32m   1074\u001b[0m     )\n\u001b[1;32m-> 1075\u001b[0m \u001b[38;5;28;01mreturn\u001b[39;00m \u001b[38;5;28;43mself\u001b[39;49m\u001b[38;5;241;43m.\u001b[39;49m\u001b[43m_input_request\u001b[49m\u001b[43m(\u001b[49m\n\u001b[0;32m   1076\u001b[0m \u001b[43m    \u001b[49m\u001b[38;5;28;43mstr\u001b[39;49m\u001b[43m(\u001b[49m\u001b[43mprompt\u001b[49m\u001b[43m)\u001b[49m\u001b[43m,\u001b[49m\n\u001b[0;32m   1077\u001b[0m \u001b[43m    \u001b[49m\u001b[38;5;28;43mself\u001b[39;49m\u001b[38;5;241;43m.\u001b[39;49m\u001b[43m_parent_ident\u001b[49m\u001b[43m[\u001b[49m\u001b[38;5;124;43m\"\u001b[39;49m\u001b[38;5;124;43mshell\u001b[39;49m\u001b[38;5;124;43m\"\u001b[39;49m\u001b[43m]\u001b[49m\u001b[43m,\u001b[49m\n\u001b[0;32m   1078\u001b[0m \u001b[43m    \u001b[49m\u001b[38;5;28;43mself\u001b[39;49m\u001b[38;5;241;43m.\u001b[39;49m\u001b[43mget_parent\u001b[49m\u001b[43m(\u001b[49m\u001b[38;5;124;43m\"\u001b[39;49m\u001b[38;5;124;43mshell\u001b[39;49m\u001b[38;5;124;43m\"\u001b[39;49m\u001b[43m)\u001b[49m\u001b[43m,\u001b[49m\n\u001b[0;32m   1079\u001b[0m \u001b[43m    \u001b[49m\u001b[43mpassword\u001b[49m\u001b[38;5;241;43m=\u001b[39;49m\u001b[38;5;28;43;01mFalse\u001b[39;49;00m\u001b[43m,\u001b[49m\n\u001b[0;32m   1080\u001b[0m \u001b[43m\u001b[49m\u001b[43m)\u001b[49m\n",
      "File \u001b[1;32m~\\anaconda3\\lib\\site-packages\\ipykernel\\kernelbase.py:1120\u001b[0m, in \u001b[0;36mKernel._input_request\u001b[1;34m(self, prompt, ident, parent, password)\u001b[0m\n\u001b[0;32m   1117\u001b[0m             \u001b[38;5;28;01mbreak\u001b[39;00m\n\u001b[0;32m   1118\u001b[0m \u001b[38;5;28;01mexcept\u001b[39;00m \u001b[38;5;167;01mKeyboardInterrupt\u001b[39;00m:\n\u001b[0;32m   1119\u001b[0m     \u001b[38;5;66;03m# re-raise KeyboardInterrupt, to truncate traceback\u001b[39;00m\n\u001b[1;32m-> 1120\u001b[0m     \u001b[38;5;28;01mraise\u001b[39;00m \u001b[38;5;167;01mKeyboardInterrupt\u001b[39;00m(\u001b[38;5;124m\"\u001b[39m\u001b[38;5;124mInterrupted by user\u001b[39m\u001b[38;5;124m\"\u001b[39m) \u001b[38;5;28;01mfrom\u001b[39;00m \u001b[38;5;28mNone\u001b[39m\n\u001b[0;32m   1121\u001b[0m \u001b[38;5;28;01mexcept\u001b[39;00m \u001b[38;5;167;01mException\u001b[39;00m:\n\u001b[0;32m   1122\u001b[0m     \u001b[38;5;28mself\u001b[39m\u001b[38;5;241m.\u001b[39mlog\u001b[38;5;241m.\u001b[39mwarning(\u001b[38;5;124m\"\u001b[39m\u001b[38;5;124mInvalid Message:\u001b[39m\u001b[38;5;124m\"\u001b[39m, exc_info\u001b[38;5;241m=\u001b[39m\u001b[38;5;28;01mTrue\u001b[39;00m)\n",
      "\u001b[1;31mKeyboardInterrupt\u001b[0m: Interrupted by user"
     ]
    }
   ],
   "source": [
    "[int(x) for x in input(\"Enter student grades (comma-separated): \").split(\",\")]"
   ]
  },
  {
   "cell_type": "code",
   "execution_count": null,
   "id": "8feddcfa",
   "metadata": {},
   "outputs": [],
   "source": [
    "{101: \n",
    " {'name': 'Amit',\n",
    "  'age': 25,\n",
    "  'grades': ['42', '56', '89', '78', '45'], \n",
    "  'subject': ['sst', 'sci', 'eng', 'hindi', 'gk']}}"
   ]
  },
  {
   "cell_type": "code",
   "execution_count": 80,
   "id": "0d1bc989",
   "metadata": {},
   "outputs": [
    {
     "name": "stdout",
     "output_type": "stream",
     "text": [
      "1. Display Student Details\n",
      "2. Add New Student\n",
      "3. Exit\n",
      "Enter your choice (1, 2, or 3): 2\n",
      "Enter student Id: 103\n",
      "Enter student name: Amit\n",
      "Enter student age: 45\n",
      "enter sttudent grades (comma-separated): 45,56,78\n",
      "[45, 56, 78]\n",
      "Enter student subjects (comma-separated): ssc,sst,dvv\n",
      "['ssc', 'sst', 'dvv']\n",
      "Student added to the database.\n",
      "1. Display Student Details\n",
      "2. Add New Student\n",
      "3. Exit\n",
      "Enter your choice (1, 2, or 3): 2\n",
      "Enter student Id: 159\n",
      "Enter student name: Amitdbhdeb\n",
      "Enter student age: 45\n",
      "enter sttudent grades (comma-separated): 45,89,78\n",
      "[45, 89, 78]\n",
      "Enter student subjects (comma-separated): ss,dd,cc\n",
      "['ss', 'dd', 'cc']\n",
      "Student added to the database.\n",
      "1. Display Student Details\n",
      "2. Add New Student\n",
      "3. Exit\n",
      "Enter your choice (1, 2, or 3): 1\n",
      "Enter student ID: 159\n",
      "Student ID: 159\n",
      "Name: Amitdbhdeb\n",
      "Age: 45\n",
      "Grades: [45, 89, 78]\n",
      "1. Display Student Details\n",
      "2. Add New Student\n",
      "3. Exit\n",
      "Enter your choice (1, 2, or 3): 3\n",
      "Exiting program.\n"
     ]
    }
   ],
   "source": [
    "### \n",
    "students = {}\n",
    "\n",
    "\n",
    "def display_student_details(student_id):\n",
    "    \n",
    "    if student_id in students:\n",
    "        student = students[student_id]\n",
    "        print(f\"Student ID: {student_id}\")\n",
    "        print(f\"Name: {student['name']}\")\n",
    "        print(f\"Age: {student['age']}\")\n",
    "        print(\"Grades:\", student['grades'])\n",
    "        \n",
    "        \n",
    "    else:\n",
    "        print(f\"Student with ID {student_id} not found in the database.\")\n",
    "        print()\n",
    "        \n",
    "    \n",
    "\n",
    "def add_student():\n",
    "    student_id = int(input('Enter student Id: '))\n",
    "    name = input('Enter student name: ')\n",
    "    age = int(input('Enter student age: '))\n",
    "    grades = input(\"enter sttudent grades (comma-separated): \").split(\",\")\n",
    "    # grad = grades.split(\",\")\n",
    "    gradeslist = []\n",
    "    for i in grades:\n",
    "        gradeslist.append(int(i))\n",
    "    print(gradeslist)\n",
    "    subject = input(\"Enter student subjects (comma-separated): \").split(\",\")\n",
    "    print(subject)\n",
    "\n",
    "    students[student_id ] = {'name':name,\n",
    "                            'age':age,\n",
    "                            'grades':gradeslist,\n",
    "                            'subject':subject}\n",
    "    \n",
    "\n",
    "# Main program loop\n",
    "while True:\n",
    "    print(\"1. Display Student Details\")\n",
    "    print(\"2. Add New Student\")\n",
    "    print(\"3. Exit\")\n",
    "    choice = int(input(\"Enter your choice (1, 2, or 3): \"))\n",
    "\n",
    "    if choice == 1:\n",
    "        student_id = int(input(\"Enter student ID: \"))\n",
    "        display_student_details(student_id)\n",
    "    elif choice == 2:\n",
    "        add_student()\n",
    "        print(\"Student added to the database.\")\n",
    "    elif choice == 3:\n",
    "        print(\"Exiting program.\")\n",
    "        break\n",
    "    else:\n",
    "        print(\"Invalid choice. Please try again.\")\n",
    "        \n"
   ]
  },
  {
   "cell_type": "code",
   "execution_count": 55,
   "id": "ede2aef0",
   "metadata": {},
   "outputs": [
    {
     "data": {
      "text/plain": [
       "{101: {'name': 'Amit',\n",
       "  'age': 45,\n",
       "  'grades': ['45', '56', '78'],\n",
       "  'subject': ['sst', 'sci', 'eng']},\n",
       " 102: {'name': 'anil',\n",
       "  'age': 89,\n",
       "  'grades': ['45', '78', '75'],\n",
       "  'subject': ['sci', 'eng', 'hindi']}}"
      ]
     },
     "execution_count": 55,
     "metadata": {},
     "output_type": "execute_result"
    }
   ],
   "source": [
    "students"
   ]
  },
  {
   "cell_type": "code",
   "execution_count": 50,
   "id": "51558c0e",
   "metadata": {},
   "outputs": [
    {
     "name": "stdout",
     "output_type": "stream",
     "text": [
      "Enter your choice (1, 2, or 3): 5\n"
     ]
    }
   ],
   "source": [
    "num = 6\n",
    "while (num>5):\n",
    "    num= int(input(\"Enter your choice (1, 2, or 3): \"))"
   ]
  },
  {
   "cell_type": "code",
   "execution_count": 58,
   "id": "c9d568b5",
   "metadata": {},
   "outputs": [],
   "source": [
    "### passing parameter in a function\n",
    "def add(a,b):\n",
    "    return a+b"
   ]
  },
  {
   "cell_type": "code",
   "execution_count": 60,
   "id": "9da55706",
   "metadata": {},
   "outputs": [
    {
     "data": {
      "text/plain": [
       "5"
      ]
     },
     "execution_count": 60,
     "metadata": {},
     "output_type": "execute_result"
    }
   ],
   "source": [
    "add(2,3)"
   ]
  },
  {
   "cell_type": "code",
   "execution_count": 70,
   "id": "54bfb903",
   "metadata": {},
   "outputs": [
    {
     "data": {
      "text/plain": [
       "{101: {'name': 'amit',\n",
       "  'age': 45,\n",
       "  'grades': [45, 56, 78],\n",
       "  'subject': ['sst', 'eng', 'hindi']},\n",
       " 102: {'name': 'Amit',\n",
       "  'age': 56,\n",
       "  'grades': [78, 78],\n",
       "  'subject': ['sst', 'eng']}}"
      ]
     },
     "execution_count": 70,
     "metadata": {},
     "output_type": "execute_result"
    }
   ],
   "source": [
    "###\n",
    "# display students\n",
    "students"
   ]
  },
  {
   "cell_type": "code",
   "execution_count": 74,
   "id": "3d9d13d9",
   "metadata": {},
   "outputs": [
    {
     "ename": "KeyError",
     "evalue": "103",
     "output_type": "error",
     "traceback": [
      "\u001b[1;31m---------------------------------------------------------------------------\u001b[0m",
      "\u001b[1;31mKeyError\u001b[0m                                  Traceback (most recent call last)",
      "Input \u001b[1;32mIn [74]\u001b[0m, in \u001b[0;36m<cell line: 1>\u001b[1;34m()\u001b[0m\n\u001b[1;32m----> 1\u001b[0m \u001b[43mstudents\u001b[49m\u001b[43m[\u001b[49m\u001b[38;5;241;43m103\u001b[39;49m\u001b[43m]\u001b[49m\n",
      "\u001b[1;31mKeyError\u001b[0m: 103"
     ]
    }
   ],
   "source": [
    "students[103]"
   ]
  },
  {
   "cell_type": "code",
   "execution_count": 71,
   "id": "9d0dc270",
   "metadata": {},
   "outputs": [
    {
     "data": {
      "text/plain": [
       "'amit'"
      ]
     },
     "execution_count": 71,
     "metadata": {},
     "output_type": "execute_result"
    }
   ],
   "source": [
    "students[101]['name']"
   ]
  },
  {
   "cell_type": "code",
   "execution_count": 72,
   "id": "85b2ff41",
   "metadata": {},
   "outputs": [
    {
     "data": {
      "text/plain": [
       "45"
      ]
     },
     "execution_count": 72,
     "metadata": {},
     "output_type": "execute_result"
    }
   ],
   "source": [
    "students[101]['age']"
   ]
  },
  {
   "cell_type": "code",
   "execution_count": 73,
   "id": "453ea3fd",
   "metadata": {},
   "outputs": [
    {
     "data": {
      "text/plain": [
       "[45, 56, 78]"
      ]
     },
     "execution_count": 73,
     "metadata": {},
     "output_type": "execute_result"
    }
   ],
   "source": [
    "students[101]['grades']"
   ]
  },
  {
   "cell_type": "code",
   "execution_count": 78,
   "id": "f3117f8d",
   "metadata": {},
   "outputs": [
    {
     "name": "stdout",
     "output_type": "stream",
     "text": [
      "it valid\n"
     ]
    }
   ],
   "source": [
    "student_id = 101\n",
    "if student_id in students:\n",
    "    print('it valid')\n",
    "else:\n",
    "    print('Not Valid')"
   ]
  },
  {
   "cell_type": "code",
   "execution_count": null,
   "id": "4cb50d63",
   "metadata": {},
   "outputs": [],
   "source": []
  }
 ],
 "metadata": {
  "kernelspec": {
   "display_name": "Python 3 (ipykernel)",
   "language": "python",
   "name": "python3"
  },
  "language_info": {
   "codemirror_mode": {
    "name": "ipython",
    "version": 3
   },
   "file_extension": ".py",
   "mimetype": "text/x-python",
   "name": "python",
   "nbconvert_exporter": "python",
   "pygments_lexer": "ipython3",
   "version": "3.9.12"
  }
 },
 "nbformat": 4,
 "nbformat_minor": 5
}
