{
 "cells": [
  {
   "cell_type": "code",
   "execution_count": 9,
   "id": "e2f0cf1f",
   "metadata": {},
   "outputs": [
    {
     "name": "stdout",
     "output_type": "stream",
     "text": [
      "Namste, amit!\n"
     ]
    }
   ],
   "source": [
    "def Hello(name,message='Hello'):\n",
    "    \n",
    "    print(message + \", \" + name + \"!\")\n",
    "    \n",
    "Hello('amit','Namste')"
   ]
  },
  {
   "cell_type": "markdown",
   "id": "3aab6b37",
   "metadata": {},
   "source": [
    "Function Parameters\n",
    "Function Parameters:\n",
    "\n",
    "Functions can accept parameters, which are variables that hold values passed to the function. Parameters are specified within the parentheses during function definition. There are different types of parameters:\n",
    "\n",
    "- Required Parameters: These parameters must be provided during function call.\n",
    "- Default Parameters: These parameters have predefined default values and are optional to provide during function call.\n",
    "- Variable-Length Parameters: Functions can accept a variable number of arguments using args (for positional arguments) and *kwargs (for keyword arguments)."
   ]
  },
  {
   "cell_type": "code",
   "execution_count": 13,
   "id": "e2b0e0fc",
   "metadata": {},
   "outputs": [],
   "source": [
    "def multiply(a, b):\n",
    "    \"\"\"\n",
    "    This function multiplies two numbers and returns the result.\n",
    "    Parameters:\n",
    "        a (int): The first number.\n",
    "        b (int): The second number.\n",
    "    Returns:\n",
    "        int: The product of the two numbers.\n",
    "    \"\"\"\n",
    "    return a * b"
   ]
  },
  {
   "cell_type": "code",
   "execution_count": 14,
   "id": "fa8e6730",
   "metadata": {},
   "outputs": [
    {
     "data": {
      "text/plain": [
       "'\\n    This function multiplies two numbers and returns the result.\\n    Parameters:\\n        a (int): The first number.\\n        b (int): The second number.\\n    Returns:\\n        int: The product of the two numbers.\\n    '"
      ]
     },
     "execution_count": 14,
     "metadata": {},
     "output_type": "execute_result"
    }
   ],
   "source": [
    "multiply.__doc__"
   ]
  },
  {
   "cell_type": "code",
   "execution_count": 18,
   "id": "adf2a504",
   "metadata": {},
   "outputs": [
    {
     "name": "stdout",
     "output_type": "stream",
     "text": [
      "Hello\n",
      "Wellome\n",
      "To\n"
     ]
    }
   ],
   "source": [
    "def myFun(*args):\n",
    "    for arg in args:\n",
    "        print(arg)\n",
    "        \n",
    "myFun('Hello','Wellome','To')"
   ]
  },
  {
   "cell_type": "code",
   "execution_count": 22,
   "id": "eab05f1f",
   "metadata": {},
   "outputs": [
    {
     "name": "stdout",
     "output_type": "stream",
     "text": [
      "first == Amit\n",
      "mid == Aman\n",
      "last == Aman\n"
     ]
    }
   ],
   "source": [
    "def myFun(**kwargs):\n",
    "    for key,value in kwargs.items():\n",
    "        print(\"%s == %s\" % (key, value))\n",
    "        \n",
    "myFun(first='Amit',mid='Aman',last='Aman')"
   ]
  },
  {
   "cell_type": "code",
   "execution_count": 23,
   "id": "3161a3fe",
   "metadata": {},
   "outputs": [],
   "source": [
    "def log_message(*args, **kwargs):\n",
    "    level = kwargs.get('level', 'info')\n",
    "    message = ' '.join(args)\n",
    "    if level == 'info':\n",
    "        print(f'[INFO] {message}')\n",
    "    elif level == 'warning':\n",
    "        print(f'[WARNING] {message}')\n",
    "    elif level == 'error':\n",
    "        print(f'[ERROR] {message}')\n",
    "\n"
   ]
  },
  {
   "cell_type": "code",
   "execution_count": 24,
   "id": "87226bc5",
   "metadata": {},
   "outputs": [
    {
     "name": "stdout",
     "output_type": "stream",
     "text": [
      "[INFO] This is a informational message\n"
     ]
    }
   ],
   "source": [
    "log_message('This is a informational message')"
   ]
  },
  {
   "cell_type": "code",
   "execution_count": 25,
   "id": "3b6dc27d",
   "metadata": {},
   "outputs": [
    {
     "name": "stdout",
     "output_type": "stream",
     "text": [
      "[WARNING] Warning: Invalid input.\n"
     ]
    }
   ],
   "source": [
    "log_message('Warning: Invalid input.', level='warning')"
   ]
  },
  {
   "cell_type": "code",
   "execution_count": 38,
   "id": "ecb6cfc9",
   "metadata": {},
   "outputs": [
    {
     "name": "stdout",
     "output_type": "stream",
     "text": [
      "[ERROR] An error occurred!\n"
     ]
    }
   ],
   "source": [
    "log_message('An error occurred!', level='error')"
   ]
  },
  {
   "cell_type": "code",
   "execution_count": 39,
   "id": "23a805c2",
   "metadata": {},
   "outputs": [
    {
     "name": "stdout",
     "output_type": "stream",
     "text": [
      "[INFO] Custom message 1. Custom message 2.\n"
     ]
    }
   ],
   "source": [
    "log_message('Custom message 1.', 'Custom message 2.', level='info')"
   ]
  },
  {
   "cell_type": "code",
   "execution_count": 37,
   "id": "a10ed565",
   "metadata": {},
   "outputs": [
    {
     "name": "stdout",
     "output_type": "stream",
     "text": [
      "arg1: Hello\n",
      "arg2: World\n",
      "args: ('Python', 'java')\n",
      "kwarg1: Keyword\n",
      "kwargs: {'key1': 'Value', 'key2': 'Another Value'}\n"
     ]
    }
   ],
   "source": [
    "def example_function(arg1,arg2,*args, kwarg1=None, **kwargs):\n",
    "    print(\"arg1:\", arg1)\n",
    "    print(\"arg2:\", arg2)\n",
    "    print(\"args:\", args)\n",
    "    print(\"kwarg1:\", kwarg1)\n",
    "    print(\"kwargs:\", kwargs)\n",
    "\n",
    "# Calling the function with different arguments\n",
    "example_function(\"Hello\", \"World\", \"Python\", \"java\",kwarg1=\"Keyword\", key1=\"Value\", key2=\"Another Value\")\n"
   ]
  },
  {
   "cell_type": "code",
   "execution_count": 26,
   "id": "05ad3907",
   "metadata": {},
   "outputs": [
    {
     "name": "stdout",
     "output_type": "stream",
     "text": [
      "Hello\n"
     ]
    }
   ],
   "source": [
    "def example_function(arg1):\n",
    "    print(arg1)\n",
    "    \n",
    "example_function(\"Hello\")"
   ]
  },
  {
   "cell_type": "code",
   "execution_count": 40,
   "id": "45d2b02f",
   "metadata": {},
   "outputs": [
    {
     "name": "stdout",
     "output_type": "stream",
     "text": [
      "Total Cost: 79.57499999999999\n"
     ]
    }
   ],
   "source": [
    "##example\n",
    "\n",
    "def calculate_total_cost(discount_rate, *args, **kwargs):\n",
    "    total = sum(args)  # Summing up the prices in args\n",
    "    \n",
    "    # Applying discounts from kwargs\n",
    "    for item, price in kwargs.items():\n",
    "        total -= price * (discount_rate / 100)\n",
    "    \n",
    "    return total\n",
    "\n",
    "# Calculating the total cost with discounts\n",
    "total_cost = calculate_total_cost(10, 50, 30, apple=1.5, banana=0.75, orange=2.0)\n",
    "\n",
    "print(\"Total Cost:\", total_cost)"
   ]
  },
  {
   "cell_type": "code",
   "execution_count": 50,
   "id": "4e57aa9d",
   "metadata": {},
   "outputs": [
    {
     "name": "stdout",
     "output_type": "stream",
     "text": [
      "(10, 50, 82, 89, 85)\n",
      "10\n",
      "50\n",
      "82\n",
      "89\n",
      "85\n"
     ]
    },
    {
     "data": {
      "text/plain": [
       "316"
      ]
     },
     "execution_count": 50,
     "metadata": {},
     "output_type": "execute_result"
    }
   ],
   "source": [
    "def caluclate_total_cost(*args):\n",
    "    print(args)\n",
    "    for arg in args:\n",
    "        print(arg)\n",
    "    total = sum(args)\n",
    "    return total\n",
    "\n",
    "caluclate_total_cost(10,50,82,89,85)"
   ]
  },
  {
   "cell_type": "code",
   "execution_count": 1,
   "id": "aaa089cf",
   "metadata": {},
   "outputs": [
    {
     "name": "stdout",
     "output_type": "stream",
     "text": [
      "Before function execution\n",
      "Hello, World!\n",
      "After function execution\n"
     ]
    }
   ],
   "source": [
    "### Decorator\n",
    "\n",
    "def decorator(func):\n",
    "    def wrapper():\n",
    "        print(\"Before function execution\")\n",
    "        func()\n",
    "        print(\"After function execution\")\n",
    "    return wrapper\n",
    "\n",
    "@decorator\n",
    "def hello():\n",
    "    print(\"Hello, World!\")\n",
    "    \n",
    "hello()"
   ]
  },
  {
   "cell_type": "code",
   "execution_count": 2,
   "id": "05abc229",
   "metadata": {},
   "outputs": [],
   "source": [
    "def uppercase_decorator(function):\n",
    "    def wrapper():\n",
    "        result = function()\n",
    "        print(result)\n",
    "        return result.upper()\n",
    "    return wrapper"
   ]
  },
  {
   "cell_type": "code",
   "execution_count": 6,
   "id": "f9f488f1",
   "metadata": {},
   "outputs": [],
   "source": [
    "@uppercase_decorator\n",
    "def geet():\n",
    "    return \"Hello,World\""
   ]
  },
  {
   "cell_type": "code",
   "execution_count": 7,
   "id": "dbb353c4",
   "metadata": {},
   "outputs": [
    {
     "name": "stdout",
     "output_type": "stream",
     "text": [
      "Hello,World\n"
     ]
    },
    {
     "data": {
      "text/plain": [
       "'HELLO,WORLD'"
      ]
     },
     "execution_count": 7,
     "metadata": {},
     "output_type": "execute_result"
    }
   ],
   "source": [
    "geet()"
   ]
  },
  {
   "cell_type": "code",
   "execution_count": 8,
   "id": "3264965a",
   "metadata": {},
   "outputs": [],
   "source": [
    "def timer_decorator(func):\n",
    "    import time\n",
    "\n",
    "    def wrapper(*args, **kwargs):\n",
    "        start_time = time.time()\n",
    "        result = func(*args, **kwargs)\n",
    "        end_time = time.time()\n",
    "        execution_time = end_time - start_time\n",
    "        print(f\"Execution time: {execution_time:.2f} seconds\")\n",
    "        return result\n",
    "\n",
    "    return wrapper"
   ]
  },
  {
   "cell_type": "code",
   "execution_count": 9,
   "id": "7fd8b190",
   "metadata": {},
   "outputs": [],
   "source": [
    "@timer_decorator\n",
    "def geet():\n",
    "    return \"Hello,World\""
   ]
  },
  {
   "cell_type": "code",
   "execution_count": 10,
   "id": "12f372c7",
   "metadata": {},
   "outputs": [
    {
     "name": "stdout",
     "output_type": "stream",
     "text": [
      "Execution time: 0.00 seconds\n"
     ]
    },
    {
     "data": {
      "text/plain": [
       "'Hello,World'"
      ]
     },
     "execution_count": 10,
     "metadata": {},
     "output_type": "execute_result"
    }
   ],
   "source": [
    "geet()"
   ]
  },
  {
   "cell_type": "code",
   "execution_count": 12,
   "id": "7d172b27",
   "metadata": {},
   "outputs": [],
   "source": [
    "@timer_decorator\n",
    "def calculate_sum(number):\n",
    "    return sum(number)"
   ]
  },
  {
   "cell_type": "code",
   "execution_count": 13,
   "id": "ad5d533a",
   "metadata": {},
   "outputs": [
    {
     "name": "stdout",
     "output_type": "stream",
     "text": [
      "Execution time: 0.00 seconds\n"
     ]
    },
    {
     "data": {
      "text/plain": [
       "38"
      ]
     },
     "execution_count": 13,
     "metadata": {},
     "output_type": "execute_result"
    }
   ],
   "source": [
    "number_list = [1,2,5,6,7,8,9]\n",
    "calculate_sum(number_list)"
   ]
  },
  {
   "cell_type": "code",
   "execution_count": 14,
   "id": "88071264",
   "metadata": {},
   "outputs": [],
   "source": [
    "### Iterables vs Iterators \n",
    "\n",
    "def num(lst):\n",
    "    for i in lst:\n",
    "        return lst"
   ]
  },
  {
   "cell_type": "code",
   "execution_count": 15,
   "id": "b4881a6f",
   "metadata": {},
   "outputs": [
    {
     "data": {
      "text/plain": [
       "[1, 2, 3, 4, 5]"
      ]
     },
     "execution_count": 15,
     "metadata": {},
     "output_type": "execute_result"
    }
   ],
   "source": [
    "lst=[1,2,3,4,5]\n",
    "num(lst)"
   ]
  },
  {
   "cell_type": "code",
   "execution_count": 16,
   "id": "17545017",
   "metadata": {},
   "outputs": [],
   "source": [
    "val = iter(lst)"
   ]
  },
  {
   "cell_type": "code",
   "execution_count": 17,
   "id": "9c8348f8",
   "metadata": {},
   "outputs": [
    {
     "data": {
      "text/plain": [
       "1"
      ]
     },
     "execution_count": 17,
     "metadata": {},
     "output_type": "execute_result"
    }
   ],
   "source": [
    "next(val)"
   ]
  },
  {
   "cell_type": "code",
   "execution_count": 18,
   "id": "07da2fc0",
   "metadata": {},
   "outputs": [
    {
     "data": {
      "text/plain": [
       "2"
      ]
     },
     "execution_count": 18,
     "metadata": {},
     "output_type": "execute_result"
    }
   ],
   "source": [
    "next(val)"
   ]
  },
  {
   "cell_type": "code",
   "execution_count": 19,
   "id": "0ddc18fb",
   "metadata": {},
   "outputs": [
    {
     "data": {
      "text/plain": [
       "3"
      ]
     },
     "execution_count": 19,
     "metadata": {},
     "output_type": "execute_result"
    }
   ],
   "source": [
    "next(val)"
   ]
  },
  {
   "cell_type": "code",
   "execution_count": 20,
   "id": "ced1dba4",
   "metadata": {},
   "outputs": [
    {
     "data": {
      "text/plain": [
       "4"
      ]
     },
     "execution_count": 20,
     "metadata": {},
     "output_type": "execute_result"
    }
   ],
   "source": [
    "next(val)"
   ]
  },
  {
   "cell_type": "code",
   "execution_count": 21,
   "id": "bf66abfe",
   "metadata": {},
   "outputs": [
    {
     "data": {
      "text/plain": [
       "5"
      ]
     },
     "execution_count": 21,
     "metadata": {},
     "output_type": "execute_result"
    }
   ],
   "source": [
    "next(val)"
   ]
  },
  {
   "cell_type": "code",
   "execution_count": 22,
   "id": "aa89d477",
   "metadata": {},
   "outputs": [
    {
     "ename": "StopIteration",
     "evalue": "",
     "output_type": "error",
     "traceback": [
      "\u001b[1;31m---------------------------------------------------------------------------\u001b[0m",
      "\u001b[1;31mStopIteration\u001b[0m                             Traceback (most recent call last)",
      "Input \u001b[1;32mIn [22]\u001b[0m, in \u001b[0;36m<cell line: 1>\u001b[1;34m()\u001b[0m\n\u001b[1;32m----> 1\u001b[0m \u001b[38;5;28;43mnext\u001b[39;49m\u001b[43m(\u001b[49m\u001b[43mval\u001b[49m\u001b[43m)\u001b[49m\n",
      "\u001b[1;31mStopIteration\u001b[0m: "
     ]
    }
   ],
   "source": [
    "next(val)"
   ]
  },
  {
   "cell_type": "code",
   "execution_count": 23,
   "id": "dd81f89d",
   "metadata": {},
   "outputs": [
    {
     "data": {
      "text/plain": [
       "5"
      ]
     },
     "execution_count": 23,
     "metadata": {},
     "output_type": "execute_result"
    }
   ],
   "source": [
    "### Lambda function\n",
    "\n",
    "def add(a,b):\n",
    "    return a+b\n",
    "\n",
    "add(2,3)"
   ]
  },
  {
   "cell_type": "code",
   "execution_count": 24,
   "id": "9459e0f9",
   "metadata": {},
   "outputs": [
    {
     "data": {
      "text/plain": [
       "5"
      ]
     },
     "execution_count": 24,
     "metadata": {},
     "output_type": "execute_result"
    }
   ],
   "source": [
    "addition = lambda a,b:a+b\n",
    "addition(2,3)"
   ]
  },
  {
   "cell_type": "code",
   "execution_count": 26,
   "id": "01f0f223",
   "metadata": {},
   "outputs": [
    {
     "data": {
      "text/plain": [
       "True"
      ]
     },
     "execution_count": 26,
     "metadata": {},
     "output_type": "execute_result"
    }
   ],
   "source": [
    "even = lambda a:a%2==0\n",
    "even(8)"
   ]
  },
  {
   "cell_type": "code",
   "execution_count": 27,
   "id": "ee4ee863",
   "metadata": {},
   "outputs": [
    {
     "data": {
      "text/plain": [
       "True"
      ]
     },
     "execution_count": 27,
     "metadata": {},
     "output_type": "execute_result"
    }
   ],
   "source": [
    "def even(a):\n",
    "    return a%2 == 0\n",
    "even(8)"
   ]
  },
  {
   "cell_type": "code",
   "execution_count": 29,
   "id": "50df06d0",
   "metadata": {},
   "outputs": [
    {
     "ename": "TypeError",
     "evalue": "'NoneType' object is not callable",
     "output_type": "error",
     "traceback": [
      "\u001b[1;31m---------------------------------------------------------------------------\u001b[0m",
      "\u001b[1;31mTypeError\u001b[0m                                 Traceback (most recent call last)",
      "Input \u001b[1;32mIn [29]\u001b[0m, in \u001b[0;36m<cell line: 16>\u001b[1;34m()\u001b[0m\n\u001b[0;32m     13\u001b[0m my_function \u001b[38;5;241m=\u001b[39m outer_function()\n\u001b[0;32m     15\u001b[0m \u001b[38;5;66;03m# Call the inner function\u001b[39;00m\n\u001b[1;32m---> 16\u001b[0m \u001b[38;5;28mprint\u001b[39m(\u001b[43mmy_function\u001b[49m\u001b[43m(\u001b[49m\u001b[43m)\u001b[49m)\n",
      "\u001b[1;31mTypeError\u001b[0m: 'NoneType' object is not callable"
     ]
    }
   ],
   "source": [
    "### nested Function\n",
    "def outer_function():\n",
    "    x = 10  # Variable in the outer function\n",
    "    \n",
    "    def inner_function():\n",
    "        y = 5  # Variable in the inner function\n",
    "        result = x + y\n",
    "        return result\n",
    "    \n",
    "    return inner_function\n",
    "\n",
    "# Create an instance of the inner function\n",
    "my_function = outer_function()\n",
    "\n",
    "# Call the inner function\n",
    "print(my_function()) "
   ]
  },
  {
   "cell_type": "code",
   "execution_count": 34,
   "id": "05b822ff",
   "metadata": {},
   "outputs": [
    {
     "name": "stdout",
     "output_type": "stream",
     "text": [
      "11\n"
     ]
    }
   ],
   "source": [
    "## closure \n",
    "def outer_function(x):\n",
    "    def inner_function(y):\n",
    "        return x + y\n",
    "    return inner_function\n",
    "\n",
    "result = outer_function(5)\n",
    "print(result(6))"
   ]
  },
  {
   "cell_type": "code",
   "execution_count": 41,
   "id": "6be819c6",
   "metadata": {},
   "outputs": [],
   "source": [
    "### [2,3,4,5,6,7]\n",
    "\n",
    "def even_odd_sum(num):\n",
    "    sum_even = 0\n",
    "    sum_odd = 0\n",
    "    for i in num:\n",
    "        ## check this even or odd\n",
    "        if i%2 ==0:\n",
    "            print('even')\n",
    "            sum_even = sum_even + i\n",
    "        else:\n",
    "            print('odd')\n",
    "            sum_odd = sum_odd +i\n",
    "    return sum_even,sum_odd"
   ]
  },
  {
   "cell_type": "code",
   "execution_count": 42,
   "id": "a73d7875",
   "metadata": {},
   "outputs": [
    {
     "name": "stdout",
     "output_type": "stream",
     "text": [
      "even\n",
      "odd\n",
      "even\n",
      "odd\n",
      "even\n",
      "odd\n"
     ]
    },
    {
     "data": {
      "text/plain": [
       "(12, 15)"
      ]
     },
     "execution_count": 42,
     "metadata": {},
     "output_type": "execute_result"
    }
   ],
   "source": [
    "num = [2,3,4,5,6,7]\n",
    "even_odd_sum(num)"
   ]
  },
  {
   "cell_type": "code",
   "execution_count": 35,
   "id": "7f60a5bc",
   "metadata": {},
   "outputs": [
    {
     "name": "stdout",
     "output_type": "stream",
     "text": [
      "2\n",
      "3\n",
      "4\n",
      "5\n",
      "6\n",
      "7\n"
     ]
    }
   ],
   "source": [
    "num = [2,3,4,5,6,7]\n",
    "for i in num:\n",
    "    print(i)"
   ]
  },
  {
   "cell_type": "code",
   "execution_count": 48,
   "id": "74b5c5c2",
   "metadata": {},
   "outputs": [
    {
     "name": "stdout",
     "output_type": "stream",
     "text": [
      "Execution time: 0.00 seconds\n",
      "Execution time: 0.00 seconds\n",
      "Execution time: 0.00 seconds\n",
      "Execution time: 0.00 seconds\n",
      "Execution time: 0.00 seconds\n",
      "Execution time: 0.00 seconds\n",
      "Execution time: 0.00 seconds\n",
      "Execution time: 0.00 seconds\n",
      "Execution time: 0.00 seconds\n",
      "Execution time: 0.00 seconds\n",
      "Execution time: 0.00 seconds\n"
     ]
    },
    {
     "data": {
      "text/plain": [
       "3628800"
      ]
     },
     "execution_count": 48,
     "metadata": {},
     "output_type": "execute_result"
    }
   ],
   "source": [
    "### recursion \n",
    "@timer_decorator\n",
    "def factorial(n):\n",
    "    if n == 0:\n",
    "        return 1\n",
    "    else:\n",
    "#         print(n)\n",
    "        return n * factorial(n-1)\n",
    "factorial(10)"
   ]
  },
  {
   "cell_type": "code",
   "execution_count": 50,
   "id": "7da7a033",
   "metadata": {},
   "outputs": [
    {
     "data": {
      "text/plain": [
       "55"
      ]
     },
     "execution_count": 50,
     "metadata": {},
     "output_type": "execute_result"
    }
   ],
   "source": [
    "def add(a,b=10):\n",
    "    return a+b\n",
    "\n",
    "add(5,50)"
   ]
  },
  {
   "cell_type": "code",
   "execution_count": null,
   "id": "7b6a30d8",
   "metadata": {},
   "outputs": [],
   "source": []
  }
 ],
 "metadata": {
  "kernelspec": {
   "display_name": "Python 3 (ipykernel)",
   "language": "python",
   "name": "python3"
  },
  "language_info": {
   "codemirror_mode": {
    "name": "ipython",
    "version": 3
   },
   "file_extension": ".py",
   "mimetype": "text/x-python",
   "name": "python",
   "nbconvert_exporter": "python",
   "pygments_lexer": "ipython3",
   "version": "3.9.12"
  }
 },
 "nbformat": 4,
 "nbformat_minor": 5
}
