{
 "cells": [
  {
   "cell_type": "code",
   "execution_count": 9,
   "id": "e2f0cf1f",
   "metadata": {},
   "outputs": [
    {
     "name": "stdout",
     "output_type": "stream",
     "text": [
      "Namste, amit!\n"
     ]
    }
   ],
   "source": [
    "def Hello(name,message='Hello'):\n",
    "    \n",
    "    print(message + \", \" + name + \"!\")\n",
    "    \n",
    "Hello('amit','Namste')"
   ]
  },
  {
   "cell_type": "markdown",
   "id": "3aab6b37",
   "metadata": {},
   "source": [
    "Function Parameters\n",
    "Function Parameters:\n",
    "\n",
    "Functions can accept parameters, which are variables that hold values passed to the function. Parameters are specified within the parentheses during function definition. There are different types of parameters:\n",
    "\n",
    "- Required Parameters: These parameters must be provided during function call.\n",
    "- Default Parameters: These parameters have predefined default values and are optional to provide during function call.\n",
    "- Variable-Length Parameters: Functions can accept a variable number of arguments using args (for positional arguments) and *kwargs (for keyword arguments)."
   ]
  },
  {
   "cell_type": "code",
   "execution_count": 13,
   "id": "e2b0e0fc",
   "metadata": {},
   "outputs": [],
   "source": [
    "def multiply(a, b):\n",
    "    \"\"\"\n",
    "    This function multiplies two numbers and returns the result.\n",
    "    Parameters:\n",
    "        a (int): The first number.\n",
    "        b (int): The second number.\n",
    "    Returns:\n",
    "        int: The product of the two numbers.\n",
    "    \"\"\"\n",
    "    return a * b"
   ]
  },
  {
   "cell_type": "code",
   "execution_count": 14,
   "id": "fa8e6730",
   "metadata": {},
   "outputs": [
    {
     "data": {
      "text/plain": [
       "'\\n    This function multiplies two numbers and returns the result.\\n    Parameters:\\n        a (int): The first number.\\n        b (int): The second number.\\n    Returns:\\n        int: The product of the two numbers.\\n    '"
      ]
     },
     "execution_count": 14,
     "metadata": {},
     "output_type": "execute_result"
    }
   ],
   "source": [
    "multiply.__doc__"
   ]
  },
  {
   "cell_type": "code",
   "execution_count": 18,
   "id": "adf2a504",
   "metadata": {},
   "outputs": [
    {
     "name": "stdout",
     "output_type": "stream",
     "text": [
      "Hello\n",
      "Wellome\n",
      "To\n"
     ]
    }
   ],
   "source": [
    "def myFun(*args):\n",
    "    for arg in args:\n",
    "        print(arg)\n",
    "        \n",
    "myFun('Hello','Wellome','To')"
   ]
  },
  {
   "cell_type": "code",
   "execution_count": 22,
   "id": "eab05f1f",
   "metadata": {},
   "outputs": [
    {
     "name": "stdout",
     "output_type": "stream",
     "text": [
      "first == Amit\n",
      "mid == Aman\n",
      "last == Aman\n"
     ]
    }
   ],
   "source": [
    "def myFun(**kwargs):\n",
    "    for key,value in kwargs.items():\n",
    "        print(\"%s == %s\" % (key, value))\n",
    "        \n",
    "myFun(first='Amit',mid='Aman',last='Aman')"
   ]
  },
  {
   "cell_type": "code",
   "execution_count": 23,
   "id": "3161a3fe",
   "metadata": {},
   "outputs": [],
   "source": [
    "def log_message(*args, **kwargs):\n",
    "    level = kwargs.get('level', 'info')\n",
    "    message = ' '.join(args)\n",
    "    if level == 'info':\n",
    "        print(f'[INFO] {message}')\n",
    "    elif level == 'warning':\n",
    "        print(f'[WARNING] {message}')\n",
    "    elif level == 'error':\n",
    "        print(f'[ERROR] {message}')\n",
    "\n"
   ]
  },
  {
   "cell_type": "code",
   "execution_count": 24,
   "id": "87226bc5",
   "metadata": {},
   "outputs": [
    {
     "name": "stdout",
     "output_type": "stream",
     "text": [
      "[INFO] This is a informational message\n"
     ]
    }
   ],
   "source": [
    "log_message('This is a informational message')"
   ]
  },
  {
   "cell_type": "code",
   "execution_count": 25,
   "id": "3b6dc27d",
   "metadata": {},
   "outputs": [
    {
     "name": "stdout",
     "output_type": "stream",
     "text": [
      "[WARNING] Warning: Invalid input.\n"
     ]
    }
   ],
   "source": [
    "log_message('Warning: Invalid input.', level='warning')"
   ]
  },
  {
   "cell_type": "code",
   "execution_count": 38,
   "id": "ecb6cfc9",
   "metadata": {},
   "outputs": [
    {
     "name": "stdout",
     "output_type": "stream",
     "text": [
      "[ERROR] An error occurred!\n"
     ]
    }
   ],
   "source": [
    "log_message('An error occurred!', level='error')"
   ]
  },
  {
   "cell_type": "code",
   "execution_count": 39,
   "id": "23a805c2",
   "metadata": {},
   "outputs": [
    {
     "name": "stdout",
     "output_type": "stream",
     "text": [
      "[INFO] Custom message 1. Custom message 2.\n"
     ]
    }
   ],
   "source": [
    "log_message('Custom message 1.', 'Custom message 2.', level='info')"
   ]
  },
  {
   "cell_type": "code",
   "execution_count": 37,
   "id": "a10ed565",
   "metadata": {},
   "outputs": [
    {
     "name": "stdout",
     "output_type": "stream",
     "text": [
      "arg1: Hello\n",
      "arg2: World\n",
      "args: ('Python', 'java')\n",
      "kwarg1: Keyword\n",
      "kwargs: {'key1': 'Value', 'key2': 'Another Value'}\n"
     ]
    }
   ],
   "source": [
    "def example_function(arg1,arg2,*args, kwarg1=None, **kwargs):\n",
    "    print(\"arg1:\", arg1)\n",
    "    print(\"arg2:\", arg2)\n",
    "    print(\"args:\", args)\n",
    "    print(\"kwarg1:\", kwarg1)\n",
    "    print(\"kwargs:\", kwargs)\n",
    "\n",
    "# Calling the function with different arguments\n",
    "example_function(\"Hello\", \"World\", \"Python\", \"java\",kwarg1=\"Keyword\", key1=\"Value\", key2=\"Another Value\")\n"
   ]
  },
  {
   "cell_type": "code",
   "execution_count": 26,
   "id": "05ad3907",
   "metadata": {},
   "outputs": [
    {
     "name": "stdout",
     "output_type": "stream",
     "text": [
      "Hello\n"
     ]
    }
   ],
   "source": [
    "def example_function(arg1):\n",
    "    print(arg1)\n",
    "    \n",
    "example_function(\"Hello\")"
   ]
  },
  {
   "cell_type": "code",
   "execution_count": 40,
   "id": "45d2b02f",
   "metadata": {},
   "outputs": [
    {
     "name": "stdout",
     "output_type": "stream",
     "text": [
      "Total Cost: 79.57499999999999\n"
     ]
    }
   ],
   "source": [
    "##example\n",
    "\n",
    "def calculate_total_cost(discount_rate, *args, **kwargs):\n",
    "    total = sum(args)  # Summing up the prices in args\n",
    "    \n",
    "    # Applying discounts from kwargs\n",
    "    for item, price in kwargs.items():\n",
    "        total -= price * (discount_rate / 100)\n",
    "    \n",
    "    return total\n",
    "\n",
    "# Calculating the total cost with discounts\n",
    "total_cost = calculate_total_cost(10, 50, 30, apple=1.5, banana=0.75, orange=2.0)\n",
    "\n",
    "print(\"Total Cost:\", total_cost)"
   ]
  },
  {
   "cell_type": "code",
   "execution_count": 50,
   "id": "4e57aa9d",
   "metadata": {},
   "outputs": [
    {
     "name": "stdout",
     "output_type": "stream",
     "text": [
      "(10, 50, 82, 89, 85)\n",
      "10\n",
      "50\n",
      "82\n",
      "89\n",
      "85\n"
     ]
    },
    {
     "data": {
      "text/plain": [
       "316"
      ]
     },
     "execution_count": 50,
     "metadata": {},
     "output_type": "execute_result"
    }
   ],
   "source": [
    "def caluclate_total_cost(*args):\n",
    "    print(args)\n",
    "    for arg in args:\n",
    "        print(arg)\n",
    "    total = sum(args)\n",
    "    return total\n",
    "\n",
    "caluclate_total_cost(10,50,82,89,85)"
   ]
  },
  {
   "cell_type": "code",
   "execution_count": null,
   "id": "aaa089cf",
   "metadata": {},
   "outputs": [],
   "source": []
  }
 ],
 "metadata": {
  "kernelspec": {
   "display_name": "Python 3 (ipykernel)",
   "language": "python",
   "name": "python3"
  },
  "language_info": {
   "codemirror_mode": {
    "name": "ipython",
    "version": 3
   },
   "file_extension": ".py",
   "mimetype": "text/x-python",
   "name": "python",
   "nbconvert_exporter": "python",
   "pygments_lexer": "ipython3",
   "version": "3.9.12"
  }
 },
 "nbformat": 4,
 "nbformat_minor": 5
}
