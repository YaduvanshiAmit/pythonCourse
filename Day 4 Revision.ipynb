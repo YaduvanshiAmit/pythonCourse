{
 "cells": [
  {
   "cell_type": "markdown",
   "id": "0dc72535",
   "metadata": {},
   "source": [
    "# Function\n",
    "\n",
    "They allow you to organize your code into reusable blocks, improving readability, maintainability, and efficiency\n"
   ]
  },
  {
   "cell_type": "code",
   "execution_count": 1,
   "id": "403c9066",
   "metadata": {},
   "outputs": [
    {
     "name": "stdout",
     "output_type": "stream",
     "text": [
      "even\n"
     ]
    }
   ],
   "source": [
    "num = 24\n",
    "\n",
    "if num%2==0:\n",
    "    print('even')\n",
    "else:\n",
    "    print('odd')\n"
   ]
  },
  {
   "cell_type": "code",
   "execution_count": 8,
   "id": "326ca6ad",
   "metadata": {},
   "outputs": [],
   "source": [
    "def even_odd(number):\n",
    "    if number%2==0:\n",
    "        print('even')\n",
    "    else:\n",
    "        print('odd')\n",
    "      "
   ]
  },
  {
   "cell_type": "code",
   "execution_count": 15,
   "id": "2d70b690",
   "metadata": {},
   "outputs": [
    {
     "data": {
      "text/plain": [
       "'even'"
      ]
     },
     "execution_count": 15,
     "metadata": {},
     "output_type": "execute_result"
    }
   ],
   "source": [
    "even_odd(24)"
   ]
  },
  {
   "cell_type": "code",
   "execution_count": 9,
   "id": "56bbac50",
   "metadata": {},
   "outputs": [
    {
     "name": "stdout",
     "output_type": "stream",
     "text": [
      "even\n"
     ]
    }
   ],
   "source": [
    "even_odd(24)"
   ]
  },
  {
   "cell_type": "code",
   "execution_count": 10,
   "id": "aca70ed0",
   "metadata": {},
   "outputs": [
    {
     "name": "stdout",
     "output_type": "stream",
     "text": [
      "even\n",
      "None\n"
     ]
    }
   ],
   "source": [
    "## Print vs Return \n",
    "numb = even_odd(24)\n",
    "print(numb)"
   ]
  },
  {
   "cell_type": "code",
   "execution_count": 11,
   "id": "0ecdea74",
   "metadata": {},
   "outputs": [
    {
     "name": "stdout",
     "output_type": "stream",
     "text": [
      "even\n"
     ]
    }
   ],
   "source": [
    "def even_odd(num):\n",
    "    if num%2==0:\n",
    "#         print('even')\n",
    "       return 'even'\n",
    "    else:\n",
    "        return 'odd'\n",
    "    \n",
    "number = even_odd(24)\n",
    "print(number)"
   ]
  },
  {
   "cell_type": "code",
   "execution_count": 12,
   "id": "d6bc4c5b",
   "metadata": {},
   "outputs": [],
   "source": [
    "###  Documentation\n",
    "\n",
    "def multiply(a, b):\n",
    "    \"\"\"\n",
    "    This function multiplies two numbers and returns the result.\n",
    "    Parameters:\n",
    "        a (int): The first number.\n",
    "        b (int): The second number.\n",
    "    Returns:\n",
    "        int: The product of the two numbers.\n",
    "    \"\"\"\n",
    "    return a * b"
   ]
  },
  {
   "cell_type": "code",
   "execution_count": 13,
   "id": "5e7af5f8",
   "metadata": {},
   "outputs": [
    {
     "data": {
      "text/plain": [
       "'\\n    This function multiplies two numbers and returns the result.\\n    Parameters:\\n        a (int): The first number.\\n        b (int): The second number.\\n    Returns:\\n        int: The product of the two numbers.\\n    '"
      ]
     },
     "execution_count": 13,
     "metadata": {},
     "output_type": "execute_result"
    }
   ],
   "source": [
    "multiply.__doc__"
   ]
  },
  {
   "cell_type": "code",
   "execution_count": 18,
   "id": "8cce70e3",
   "metadata": {},
   "outputs": [
    {
     "name": "stdout",
     "output_type": "stream",
     "text": [
      "Hi, Amit!\n"
     ]
    }
   ],
   "source": [
    "## Function Parameter\n",
    "# required Parameter == name\n",
    "# Default parameter == message\n",
    "def greet(name, message=\"Hello\"):\n",
    "    print(message + \", \" + name + \"!\")\n",
    "\n",
    "greet('Amit','Hi')  # Output: Hello, Alice!\n",
    "# greet(\"Bob\", \"Hi\")  # Output: Hi, Bob!"
   ]
  },
  {
   "cell_type": "code",
   "execution_count": 20,
   "id": "9fa5a80f",
   "metadata": {},
   "outputs": [
    {
     "data": {
      "text/plain": [
       "6"
      ]
     },
     "execution_count": 20,
     "metadata": {},
     "output_type": "execute_result"
    }
   ],
   "source": [
    "def add(num ,num1 = 1):\n",
    "    return num + num1\n",
    "\n",
    "add(4,num1=2)"
   ]
  },
  {
   "cell_type": "code",
   "execution_count": 26,
   "id": "7b685ab8",
   "metadata": {},
   "outputs": [
    {
     "name": "stdout",
     "output_type": "stream",
     "text": [
      "Amit\n",
      "Hello\n",
      "Welcome\n",
      "Home\n"
     ]
    }
   ],
   "source": [
    "def name(*gth):\n",
    "    for arg in gth:\n",
    "        print(arg)\n",
    "name('Amit','Hello','Welcome','Home')"
   ]
  },
  {
   "cell_type": "code",
   "execution_count": 24,
   "id": "49e42e16",
   "metadata": {},
   "outputs": [
    {
     "ename": "TypeError",
     "evalue": "name() takes 3 positional arguments but 4 were given",
     "output_type": "error",
     "traceback": [
      "\u001b[1;31m---------------------------------------------------------------------------\u001b[0m",
      "\u001b[1;31mTypeError\u001b[0m                                 Traceback (most recent call last)",
      "Input \u001b[1;32mIn [24]\u001b[0m, in \u001b[0;36m<cell line: 5>\u001b[1;34m()\u001b[0m\n\u001b[0;32m      3\u001b[0m     \u001b[38;5;28mprint\u001b[39m(name2)\n\u001b[0;32m      4\u001b[0m     \u001b[38;5;28mprint\u001b[39m(name3)\n\u001b[1;32m----> 5\u001b[0m \u001b[43mname\u001b[49m\u001b[43m(\u001b[49m\u001b[38;5;124;43m'\u001b[39;49m\u001b[38;5;124;43mAmit\u001b[39;49m\u001b[38;5;124;43m'\u001b[39;49m\u001b[43m,\u001b[49m\u001b[38;5;124;43m'\u001b[39;49m\u001b[38;5;124;43mHello\u001b[39;49m\u001b[38;5;124;43m'\u001b[39;49m\u001b[43m,\u001b[49m\u001b[38;5;124;43m'\u001b[39;49m\u001b[38;5;124;43mWelcome\u001b[39;49m\u001b[38;5;124;43m'\u001b[39;49m\u001b[43m,\u001b[49m\u001b[38;5;124;43m'\u001b[39;49m\u001b[38;5;124;43mhome\u001b[39;49m\u001b[38;5;124;43m'\u001b[39;49m\u001b[43m)\u001b[49m\n",
      "\u001b[1;31mTypeError\u001b[0m: name() takes 3 positional arguments but 4 were given"
     ]
    }
   ],
   "source": [
    "def name(name1,name2,name3):\n",
    "    print(name1)\n",
    "    print(name2)\n",
    "    print(name3)\n",
    "name('Amit','Hello','Welcome','home')"
   ]
  },
  {
   "cell_type": "code",
   "execution_count": 27,
   "id": "2358278e",
   "metadata": {},
   "outputs": [
    {
     "name": "stdout",
     "output_type": "stream",
     "text": [
      "first == Amit\n",
      "mid == Aman\n",
      "last == Amir\n"
     ]
    }
   ],
   "source": [
    "def myFun(**kwargs):\n",
    "    for key, value in kwargs.items():\n",
    "        print(\"%s == %s\" % (key, value))\n",
    "\n",
    "# Driver code\n",
    "myFun(first='Amit', mid='Aman', last='Amir')"
   ]
  },
  {
   "cell_type": "code",
   "execution_count": 30,
   "id": "6231bb6b",
   "metadata": {},
   "outputs": [],
   "source": [
    "def hello(*args,**kwargs):\n",
    "    print(args)\n",
    "#     print(kwargs)"
   ]
  },
  {
   "cell_type": "code",
   "execution_count": 31,
   "id": "d08423d8",
   "metadata": {},
   "outputs": [
    {
     "name": "stdout",
     "output_type": "stream",
     "text": [
      "('AMit', 'yadav')\n"
     ]
    }
   ],
   "source": [
    "hello('AMit','yadav',age=24)"
   ]
  },
  {
   "cell_type": "code",
   "execution_count": 32,
   "id": "02208b94",
   "metadata": {},
   "outputs": [],
   "source": [
    "def log_message(*args, **kwargs):\n",
    "    level = kwargs.get('level', 'info')\n",
    "    message = ' '.join(args)\n",
    "    if level == 'info':\n",
    "        print(f'[INFO] {message}')\n",
    "    elif level == 'warning':\n",
    "        print(f'[WARNING] {message}')\n",
    "    elif level == 'error':\n",
    "        print(f'[ERROR] {message}')"
   ]
  },
  {
   "cell_type": "code",
   "execution_count": 33,
   "id": "1b60393d",
   "metadata": {},
   "outputs": [
    {
     "name": "stdout",
     "output_type": "stream",
     "text": [
      "[INFO] This is an informational message.\n"
     ]
    }
   ],
   "source": [
    "log_message('This is an informational message.')"
   ]
  },
  {
   "cell_type": "code",
   "execution_count": 34,
   "id": "9043d230",
   "metadata": {},
   "outputs": [
    {
     "name": "stdout",
     "output_type": "stream",
     "text": [
      "[WARNING] Warning: Invalid input.\n"
     ]
    }
   ],
   "source": [
    "log_message('Warning: Invalid input.', level='warning')"
   ]
  },
  {
   "cell_type": "code",
   "execution_count": 35,
   "id": "a00f025c",
   "metadata": {},
   "outputs": [
    {
     "name": "stdout",
     "output_type": "stream",
     "text": [
      "[ERROR] An error occurred!\n"
     ]
    }
   ],
   "source": [
    "log_message('An error occurred!', level='error')"
   ]
  },
  {
   "cell_type": "code",
   "execution_count": 36,
   "id": "32a2b344",
   "metadata": {},
   "outputs": [
    {
     "name": "stdout",
     "output_type": "stream",
     "text": [
      "[INFO] Custom message 1. Custom message 2.\n"
     ]
    }
   ],
   "source": [
    "log_message('Custom message 1.', 'Custom message 2.', level='info')"
   ]
  },
  {
   "cell_type": "code",
   "execution_count": 38,
   "id": "5cec5554",
   "metadata": {},
   "outputs": [
    {
     "name": "stdout",
     "output_type": "stream",
     "text": [
      "120\n"
     ]
    }
   ],
   "source": [
    "### Recursion\n",
    "\n",
    "def factorial(n):\n",
    "    if n == 0:\n",
    "        return 1\n",
    "    else:\n",
    "        return n * factorial(n - 1)\n",
    "\n",
    "result = factorial(5)\n",
    "print(result"
   ]
  },
  {
   "cell_type": "code",
   "execution_count": 40,
   "id": "bc15a7a7",
   "metadata": {},
   "outputs": [
    {
     "name": "stdout",
     "output_type": "stream",
     "text": [
      "Before function execution\n",
      "Hello\n",
      "After function execution\n"
     ]
    }
   ],
   "source": [
    "## DEcorator\n",
    "\n",
    "\n",
    "def decorator(func):\n",
    "    def wrapper():\n",
    "        print(\"Before function execution\")\n",
    "        func()\n",
    "        print(\"After function execution\")\n",
    "    return wrapper\n",
    "\n",
    "@decorator\n",
    "def hello():\n",
    "    print(\"Hello\")\n",
    "\n",
    "hello()"
   ]
  },
  {
   "cell_type": "code",
   "execution_count": 44,
   "id": "352865bd",
   "metadata": {},
   "outputs": [
    {
     "data": {
      "text/plain": [
       "'HELLO'"
      ]
     },
     "execution_count": 44,
     "metadata": {},
     "output_type": "execute_result"
    }
   ],
   "source": [
    "def uppercase_decorator(function):\n",
    "    def wrapper():\n",
    "        result = function()\n",
    "#         print(result)\n",
    "        return result.upper()\n",
    "    return wrapper\n",
    "\n",
    "@uppercase_decorator\n",
    "def hello():\n",
    "#     print(\"Hello\")\n",
    "    return \"Hello\"\n",
    "    \n",
    "hello()"
   ]
  },
  {
   "cell_type": "code",
   "execution_count": 45,
   "id": "7e626ab7",
   "metadata": {},
   "outputs": [
    {
     "name": "stdout",
     "output_type": "stream",
     "text": [
      "Execution time: 0.00 seconds\n",
      "15\n"
     ]
    }
   ],
   "source": [
    "def timer_decorator(func):\n",
    "    import time\n",
    "\n",
    "    def wrapper(*args, **kwargs):\n",
    "        start_time = time.time()\n",
    "        result = func(*args, **kwargs)\n",
    "        end_time = time.time()\n",
    "        execution_time = end_time - start_time\n",
    "        print(f\"Execution time: {execution_time:.2f} seconds\")\n",
    "        return result\n",
    "\n",
    "    return wrapper\n",
    "\n",
    "@timer_decorator\n",
    "def calculate_sum(numbers):\n",
    "    return sum(numbers)\n",
    "\n",
    "numbers_list = [1, 2, 3, 4, 5]\n",
    "print(calculate_sum(numbers_list))\n"
   ]
  },
  {
   "cell_type": "code",
   "execution_count": 46,
   "id": "1d6b6806",
   "metadata": {},
   "outputs": [
    {
     "data": {
      "text/plain": [
       "6"
      ]
     },
     "execution_count": 46,
     "metadata": {},
     "output_type": "execute_result"
    }
   ],
   "source": [
    "### Lambda Function \n",
    "\n",
    "def add(a,b):\n",
    "    return a+b\n",
    "\n",
    "add(2,4)"
   ]
  },
  {
   "cell_type": "code",
   "execution_count": 47,
   "id": "5d52190b",
   "metadata": {},
   "outputs": [
    {
     "data": {
      "text/plain": [
       "6"
      ]
     },
     "execution_count": 47,
     "metadata": {},
     "output_type": "execute_result"
    }
   ],
   "source": [
    "additional = lambda a,b:a+b\n",
    "additional(2,4)"
   ]
  },
  {
   "cell_type": "code",
   "execution_count": 48,
   "id": "87c43ea0",
   "metadata": {},
   "outputs": [
    {
     "data": {
      "text/plain": [
       "True"
      ]
     },
     "execution_count": 48,
     "metadata": {},
     "output_type": "execute_result"
    }
   ],
   "source": [
    "def even(a):\n",
    "    return a%2==0\n",
    "even(2)"
   ]
  },
  {
   "cell_type": "code",
   "execution_count": 49,
   "id": "44283608",
   "metadata": {},
   "outputs": [
    {
     "data": {
      "text/plain": [
       "True"
      ]
     },
     "execution_count": 49,
     "metadata": {},
     "output_type": "execute_result"
    }
   ],
   "source": [
    "eve = lambda a:a%2==0\n",
    "eve(2)"
   ]
  },
  {
   "cell_type": "code",
   "execution_count": 52,
   "id": "a6a388ac",
   "metadata": {},
   "outputs": [
    {
     "name": "stdout",
     "output_type": "stream",
     "text": [
      "15\n"
     ]
    }
   ],
   "source": [
    "## nested functuon\n",
    "def outer_function():\n",
    "    x = 10  # Variable in the outer function\n",
    "    \n",
    "    def inner_function():\n",
    "        y = 5  # Variable in the inner function\n",
    "        result = x + y\n",
    "        return result\n",
    "    \n",
    "    return inner_function\n",
    "\n",
    "# Create an instance of the inner function\n",
    "my_function = outer_function()\n",
    "print(my_function())\n",
    "# Call the inner function\n",
    "# print(my_function()) "
   ]
  },
  {
   "cell_type": "code",
   "execution_count": 56,
   "id": "e1476146",
   "metadata": {},
   "outputs": [
    {
     "name": "stdout",
     "output_type": "stream",
     "text": [
      "15\n"
     ]
    }
   ],
   "source": [
    "## Closure\n",
    "\n",
    "def outer_function(x):\n",
    "    def inner_function(y):\n",
    "        return x + y\n",
    "    return inner_function\n",
    "\n",
    "result  = outer_function(5)\n",
    "print(result(10))\n"
   ]
  },
  {
   "cell_type": "code",
   "execution_count": 65,
   "id": "5c11aced",
   "metadata": {},
   "outputs": [],
   "source": [
    "## Map Function\n",
    "\n",
    "### Map Function\n",
    "\n",
    "def even_or_odd(num):\n",
    "    if num%2==0:\n",
    "        return \"the number {} is even\".format(num)\n",
    "    else:\n",
    "        return \"the number {} is odd\".format(num)"
   ]
  },
  {
   "cell_type": "code",
   "execution_count": 58,
   "id": "de072989",
   "metadata": {},
   "outputs": [
    {
     "data": {
      "text/plain": [
       "'the number 56 is even'"
      ]
     },
     "execution_count": 58,
     "metadata": {},
     "output_type": "execute_result"
    }
   ],
   "source": [
    "even_or_odd(56)"
   ]
  },
  {
   "cell_type": "code",
   "execution_count": 66,
   "id": "1172d9a3",
   "metadata": {},
   "outputs": [
    {
     "ename": "TypeError",
     "evalue": "unsupported operand type(s) for %: 'list' and 'int'",
     "output_type": "error",
     "traceback": [
      "\u001b[1;31m---------------------------------------------------------------------------\u001b[0m",
      "\u001b[1;31mTypeError\u001b[0m                                 Traceback (most recent call last)",
      "Input \u001b[1;32mIn [66]\u001b[0m, in \u001b[0;36m<cell line: 2>\u001b[1;34m()\u001b[0m\n\u001b[0;32m      1\u001b[0m lst \u001b[38;5;241m=\u001b[39m [\u001b[38;5;241m2\u001b[39m,\u001b[38;5;241m3\u001b[39m,\u001b[38;5;241m4\u001b[39m,\u001b[38;5;241m5\u001b[39m,\u001b[38;5;241m6\u001b[39m,\u001b[38;5;241m7\u001b[39m,\u001b[38;5;241m8\u001b[39m,\u001b[38;5;241m9\u001b[39m,\u001b[38;5;241m90\u001b[39m,\u001b[38;5;241m43\u001b[39m,\u001b[38;5;241m56\u001b[39m]\n\u001b[1;32m----> 2\u001b[0m \u001b[43meven_or_odd\u001b[49m\u001b[43m(\u001b[49m\u001b[43mlst\u001b[49m\u001b[43m)\u001b[49m\n",
      "Input \u001b[1;32mIn [65]\u001b[0m, in \u001b[0;36meven_or_odd\u001b[1;34m(num)\u001b[0m\n\u001b[0;32m      5\u001b[0m \u001b[38;5;28;01mdef\u001b[39;00m \u001b[38;5;21meven_or_odd\u001b[39m(num):\n\u001b[1;32m----> 6\u001b[0m     \u001b[38;5;28;01mif\u001b[39;00m \u001b[43mnum\u001b[49m\u001b[38;5;241;43m%\u001b[39;49m\u001b[38;5;241;43m2\u001b[39;49m\u001b[38;5;241m==\u001b[39m\u001b[38;5;241m0\u001b[39m:\n\u001b[0;32m      7\u001b[0m         \u001b[38;5;28;01mreturn\u001b[39;00m \u001b[38;5;124m\"\u001b[39m\u001b[38;5;124mthe number \u001b[39m\u001b[38;5;132;01m{}\u001b[39;00m\u001b[38;5;124m is even\u001b[39m\u001b[38;5;124m\"\u001b[39m\u001b[38;5;241m.\u001b[39mformat(num)\n\u001b[0;32m      8\u001b[0m     \u001b[38;5;28;01melse\u001b[39;00m:\n",
      "\u001b[1;31mTypeError\u001b[0m: unsupported operand type(s) for %: 'list' and 'int'"
     ]
    }
   ],
   "source": [
    "lst = [2,3,4,5,6,7,8,9,90,43,56]\n",
    "even_or_odd(lst)"
   ]
  },
  {
   "cell_type": "code",
   "execution_count": 67,
   "id": "afb858cb",
   "metadata": {},
   "outputs": [
    {
     "data": {
      "text/plain": [
       "['the number 2 is even',\n",
       " 'the number 3 is odd',\n",
       " 'the number 4 is even',\n",
       " 'the number 5 is odd',\n",
       " 'the number 6 is even',\n",
       " 'the number 7 is odd',\n",
       " 'the number 8 is even',\n",
       " 'the number 9 is odd',\n",
       " 'the number 90 is even',\n",
       " 'the number 43 is odd',\n",
       " 'the number 56 is even']"
      ]
     },
     "execution_count": 67,
     "metadata": {},
     "output_type": "execute_result"
    }
   ],
   "source": [
    "list(map(even_or_odd,lst))"
   ]
  },
  {
   "cell_type": "code",
   "execution_count": 68,
   "id": "8e2b6048",
   "metadata": {},
   "outputs": [
    {
     "data": {
      "text/plain": [
       "'timA'"
      ]
     },
     "execution_count": 68,
     "metadata": {},
     "output_type": "execute_result"
    }
   ],
   "source": [
    "def reverse(string):\n",
    "    return string[::-1]\n",
    "reverse('Amit')"
   ]
  },
  {
   "cell_type": "code",
   "execution_count": null,
   "id": "269594c4",
   "metadata": {},
   "outputs": [],
   "source": []
  }
 ],
 "metadata": {
  "kernelspec": {
   "display_name": "Python 3 (ipykernel)",
   "language": "python",
   "name": "python3"
  },
  "language_info": {
   "codemirror_mode": {
    "name": "ipython",
    "version": 3
   },
   "file_extension": ".py",
   "mimetype": "text/x-python",
   "name": "python",
   "nbconvert_exporter": "python",
   "pygments_lexer": "ipython3",
   "version": "3.9.12"
  }
 },
 "nbformat": 4,
 "nbformat_minor": 5
}
