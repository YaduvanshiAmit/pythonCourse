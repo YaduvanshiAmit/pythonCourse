{
 "cells": [
  {
   "cell_type": "code",
   "execution_count": 1,
   "id": "381c7eb9",
   "metadata": {},
   "outputs": [
    {
     "name": "stdout",
     "output_type": "stream",
     "text": [
      "x is greater than 5\n"
     ]
    }
   ],
   "source": [
    "### Conditional Statements\n",
    "\n",
    "## if ,else, elif\n",
    "\n",
    "x = 10\n",
    "if x>5:\n",
    "    print(\"x is greater than 5\")\n",
    "else:\n",
    "    print(\"x is not greater than 5\")"
   ]
  },
  {
   "cell_type": "code",
   "execution_count": 2,
   "id": "53297994",
   "metadata": {},
   "outputs": [
    {
     "name": "stdout",
     "output_type": "stream",
     "text": [
      "x is a single-digit positive number\n"
     ]
    }
   ],
   "source": [
    "x = 5\n",
    "\n",
    "if x > 0 and x < 10:\n",
    "    print(\"x is a single-digit positive number\")\n",
    "elif x <= 0 or x >= 10:\n",
    "    print(\"x is either non-positive or double-digit or greater\")\n",
    "else:\n",
    "    print(\"x is within the range of 1 to 9\")"
   ]
  },
  {
   "cell_type": "code",
   "execution_count": 8,
   "id": "229dcc34",
   "metadata": {},
   "outputs": [
    {
     "name": "stdout",
     "output_type": "stream",
     "text": [
      "Enter percentage: 94\n",
      "Grade: A\n"
     ]
    }
   ],
   "source": [
    "def grade(percentage):\n",
    "    if percentage >= 90:\n",
    "        if percentage >=95:\n",
    "            return 'A+'\n",
    "        else:\n",
    "            return 'A'\n",
    "    \n",
    "    elif 80<=percentage<90:\n",
    "        return 'B'\n",
    "    elif 70 <=percentage<80:\n",
    "        return 'C'\n",
    "    else:\n",
    "        return 'D'\n",
    "    \n",
    "# Example: Get grade based on percentage\n",
    "percentage = float(input(\"Enter percentage: \"))\n",
    "grade = grade(percentage)\n",
    "print(f\"Grade: {grade}\")"
   ]
  },
  {
   "cell_type": "code",
   "execution_count": 11,
   "id": "3784edc1",
   "metadata": {},
   "outputs": [
    {
     "name": "stdout",
     "output_type": "stream",
     "text": [
      "x is not positive\n"
     ]
    }
   ],
   "source": [
    "## Nested If else\n",
    "\n",
    "x = -5\n",
    "y = -10\n",
    "\n",
    "if x > 0:\n",
    "    if y > 0:\n",
    "        print(\"Both x and y are positive\")\n",
    "    else:\n",
    "        print(\"x is positive, but y is not\")\n",
    "else:\n",
    "    print(\"x is not positive\")"
   ]
  },
  {
   "cell_type": "code",
   "execution_count": 15,
   "id": "a668f3f0",
   "metadata": {},
   "outputs": [
    {
     "name": "stdout",
     "output_type": "stream",
     "text": [
      "1\n",
      "3\n",
      "5\n",
      "67\n"
     ]
    }
   ],
   "source": [
    "## break and continue\n",
    "numbers = [1,3,4,5,67,4,6]\n",
    "for num in numbers:\n",
    "    \n",
    "#     if num == 67:\n",
    "#         break \n",
    "    if num %2 == 0:\n",
    "        continue  ## skipp even number\n",
    "    print(num)"
   ]
  },
  {
   "cell_type": "code",
   "execution_count": 20,
   "id": "46563d59",
   "metadata": {},
   "outputs": [
    {
     "name": "stdout",
     "output_type": "stream",
     "text": [
      "1\n",
      "1 6\n",
      "1 7\n",
      "1 8\n",
      "1 9\n",
      "2\n",
      "2 6\n",
      "2 7\n",
      "2 8\n",
      "2 9\n",
      "3\n",
      "3 6\n",
      "3 7\n",
      "3 8\n",
      "3 9\n"
     ]
    }
   ],
   "source": [
    "for i in range(1, 4):\n",
    "    print(i)\n",
    "    for j in range(6, 10):\n",
    "        print(i, j)"
   ]
  },
  {
   "cell_type": "code",
   "execution_count": 16,
   "id": "9ae401d2",
   "metadata": {},
   "outputs": [
    {
     "name": "stdout",
     "output_type": "stream",
     "text": [
      "1\n",
      "2\n",
      "3\n"
     ]
    }
   ],
   "source": [
    "for i in range(1, 4):\n",
    "    print(i)"
   ]
  },
  {
   "cell_type": "code",
   "execution_count": 17,
   "id": "621815d6",
   "metadata": {},
   "outputs": [
    {
     "name": "stdout",
     "output_type": "stream",
     "text": [
      "1\n",
      "2\n",
      "3\n"
     ]
    }
   ],
   "source": [
    "for j in range(1, 4):\n",
    "    print(j)"
   ]
  },
  {
   "cell_type": "code",
   "execution_count": 29,
   "id": "2037ab3b",
   "metadata": {},
   "outputs": [
    {
     "name": "stdout",
     "output_type": "stream",
     "text": [
      "5.0\n",
      "No error Occures\n",
      "This will always be executed\n"
     ]
    }
   ],
   "source": [
    "#### try except else finally\n",
    "\n",
    "try:\n",
    "    x = 10/2\n",
    "    print(x)\n",
    "except:\n",
    "    print('There is Some Tecnical Issue')\n",
    "else:\n",
    "    print('No error Occures')\n",
    "finally:\n",
    "    print(\"This will always be executed\")"
   ]
  },
  {
   "cell_type": "code",
   "execution_count": 22,
   "id": "db569d6e",
   "metadata": {},
   "outputs": [
    {
     "ename": "ZeroDivisionError",
     "evalue": "division by zero",
     "output_type": "error",
     "traceback": [
      "\u001b[1;31m---------------------------------------------------------------------------\u001b[0m",
      "\u001b[1;31mZeroDivisionError\u001b[0m                         Traceback (most recent call last)",
      "Input \u001b[1;32mIn [22]\u001b[0m, in \u001b[0;36m<cell line: 1>\u001b[1;34m()\u001b[0m\n\u001b[1;32m----> 1\u001b[0m x \u001b[38;5;241m=\u001b[39m \u001b[38;5;241;43m10\u001b[39;49m\u001b[38;5;241;43m/\u001b[39;49m\u001b[38;5;241;43m0\u001b[39;49m\n",
      "\u001b[1;31mZeroDivisionError\u001b[0m: division by zero"
     ]
    }
   ],
   "source": [
    "x = 10/0"
   ]
  },
  {
   "cell_type": "code",
   "execution_count": 48,
   "id": "fbb5ecb1",
   "metadata": {},
   "outputs": [
    {
     "name": "stdout",
     "output_type": "stream",
     "text": [
      "Enter a number: 22\n",
      "False\n",
      "Npt a Prime Nuber\n"
     ]
    }
   ],
   "source": [
    "### check prime number\n",
    "\n",
    "def is_prime():\n",
    "    number = int(input(\"Enter a number: \"))\n",
    "    if number <2:\n",
    "        return False\n",
    "    for i in range(2,int(number**0.5) +1):\n",
    "#         print(i)\n",
    "        if number % i == 0:\n",
    "            return False\n",
    "    return True\n",
    "\n",
    "value = is_prime()\n",
    "print(value)\n",
    "\n",
    "if value:\n",
    "    print('THis is a Prime Number')\n",
    "else:\n",
    "    print('Npt a Prime Nuber')\n",
    "    \n",
    "        "
   ]
  },
  {
   "cell_type": "code",
   "execution_count": null,
   "id": "0c4ae97a",
   "metadata": {},
   "outputs": [],
   "source": []
  },
  {
   "cell_type": "code",
   "execution_count": 34,
   "id": "055d3849",
   "metadata": {},
   "outputs": [
    {
     "name": "stdout",
     "output_type": "stream",
     "text": [
      "2\n",
      "False\n",
      "3\n",
      "4\n",
      "False\n"
     ]
    }
   ],
   "source": [
    "## examplr\n",
    "num = 20\n",
    "for i in range(2,int(num**0.5)+1):\n",
    "    print(i)\n",
    "    if num % i == 0:\n",
    "        print('False')\n",
    "\n",
    "        "
   ]
  },
  {
   "cell_type": "code",
   "execution_count": null,
   "id": "74a08814",
   "metadata": {},
   "outputs": [],
   "source": []
  }
 ],
 "metadata": {
  "kernelspec": {
   "display_name": "Python 3 (ipykernel)",
   "language": "python",
   "name": "python3"
  },
  "language_info": {
   "codemirror_mode": {
    "name": "ipython",
    "version": 3
   },
   "file_extension": ".py",
   "mimetype": "text/x-python",
   "name": "python",
   "nbconvert_exporter": "python",
   "pygments_lexer": "ipython3",
   "version": "3.9.12"
  }
 },
 "nbformat": 4,
 "nbformat_minor": 5
}
