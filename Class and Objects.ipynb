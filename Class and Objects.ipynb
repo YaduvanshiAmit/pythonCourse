{
 "cells": [
  {
   "cell_type": "markdown",
   "id": "208f27a3",
   "metadata": {},
   "source": [
    "In Python, a class is a blueprint for creating objects (instances) that have similar properties and behaviors. It defines a set of attributes (variables) and methods (functions) that the objects created from the class can possess. Classes allow you to encapsulate data and functionality into reusable units, promoting code organization and modularity."
   ]
  },
  {
   "cell_type": "code",
   "execution_count": 1,
   "id": "48722610",
   "metadata": {},
   "outputs": [
    {
     "ename": "SyntaxError",
     "evalue": "invalid syntax (3794116112.py, line 5)",
     "output_type": "error",
     "traceback": [
      "\u001b[1;36m  Input \u001b[1;32mIn [1]\u001b[1;36m\u001b[0m\n\u001b[1;33m    def __init__(self, arg1, arg2, ...):\u001b[0m\n\u001b[1;37m                                   ^\u001b[0m\n\u001b[1;31mSyntaxError\u001b[0m\u001b[1;31m:\u001b[0m invalid syntax\n"
     ]
    }
   ],
   "source": [
    "class ClassName:\n",
    "    # Class attributes\n",
    "    \n",
    "    # Constructor method\n",
    "    def __init__(self, arg1, arg2, ...):\n",
    "        # Initialize instance variables\n",
    "    \n",
    "    # Other methods\n",
    "    def method1(self, ...):\n",
    "        # Method code\n",
    "    \n",
    "    def method2(self, ...):\n",
    "        # Method code"
   ]
  },
  {
   "cell_type": "code",
   "execution_count": 2,
   "id": "84ab0c42",
   "metadata": {},
   "outputs": [],
   "source": [
    "class Car:\n",
    "    # Class attribute # Class Variable\n",
    "    wheels = 4\n",
    "    \n",
    "    # Constructor method\n",
    "    def __init__(self, brand, model, color):\n",
    "        # Instance attributes\n",
    "        self.brand = brand\n",
    "        self.model = model\n",
    "        self.color = color\n",
    "        \n",
    "    # __str__(self)\n",
    "    def __str__(self):\n",
    "        return f\"This is a {self.color} {self.brand} {self.model} with {self.wheels} wheels.\"\n",
    "    \n",
    "    # Method to get the car's full description\n",
    "    def get_description(self):\n",
    "        return f\"This is a {self.color} {self.brand} {self.model} with {self.wheels} wheels.\"\n",
    "    \n",
    "    # Method to change the car's color\n",
    "    def paint(self, new_color):\n",
    "        self.color = new_color\n",
    "        print(f\"The car is now {self.color}.\")"
   ]
  },
  {
   "cell_type": "code",
   "execution_count": 3,
   "id": "2dc4769a",
   "metadata": {},
   "outputs": [
    {
     "data": {
      "text/plain": [
       "'Camry'"
      ]
     },
     "execution_count": 3,
     "metadata": {},
     "output_type": "execute_result"
    }
   ],
   "source": [
    "car1 = Car(\"Toyota\", \"Camry\", \"blue\")\n",
    "car1.model"
   ]
  },
  {
   "cell_type": "code",
   "execution_count": 4,
   "id": "c658d0d3",
   "metadata": {},
   "outputs": [
    {
     "data": {
      "text/plain": [
       "'Model S'"
      ]
     },
     "execution_count": 4,
     "metadata": {},
     "output_type": "execute_result"
    }
   ],
   "source": [
    "car2 = Car(\"Tesla\", \"Model S\", \"red\")\n",
    "car2.model"
   ]
  },
  {
   "cell_type": "code",
   "execution_count": 12,
   "id": "7425910a",
   "metadata": {},
   "outputs": [
    {
     "name": "stdout",
     "output_type": "stream",
     "text": [
      "Golu is eating 24.\n"
     ]
    }
   ],
   "source": [
    "class Animal:\n",
    "    def __init__(self,name,age):\n",
    "        self.name = name\n",
    "        self.age = age\n",
    "    def __str__(self):\n",
    "        return f\"{self.name} is eating {self.age}.\" \n",
    "    def eat(self):\n",
    "        print(f\"{self.name} is eating {self.age}.\")\n",
    "\n",
    "animal = Animal('Golu',24)\n",
    "animal.eat()"
   ]
  },
  {
   "cell_type": "code",
   "execution_count": 16,
   "id": "a6095527",
   "metadata": {},
   "outputs": [
    {
     "ename": "TypeError",
     "evalue": "'Animal' object is not callable",
     "output_type": "error",
     "traceback": [
      "\u001b[1;31m---------------------------------------------------------------------------\u001b[0m",
      "\u001b[1;31mTypeError\u001b[0m                                 Traceback (most recent call last)",
      "Input \u001b[1;32mIn [16]\u001b[0m, in \u001b[0;36m<cell line: 2>\u001b[1;34m()\u001b[0m\n\u001b[0;32m      1\u001b[0m animal \u001b[38;5;241m=\u001b[39m Animal(\u001b[38;5;124m'\u001b[39m\u001b[38;5;124mGolu\u001b[39m\u001b[38;5;124m'\u001b[39m,\u001b[38;5;241m24\u001b[39m)\n\u001b[1;32m----> 2\u001b[0m \u001b[43manimal\u001b[49m\u001b[43m(\u001b[49m\u001b[43m)\u001b[49m\n",
      "\u001b[1;31mTypeError\u001b[0m: 'Animal' object is not callable"
     ]
    }
   ],
   "source": [
    "animal = Animal('Golu',24)\n",
    "animal()"
   ]
  },
  {
   "cell_type": "code",
   "execution_count": 21,
   "id": "01647c85",
   "metadata": {},
   "outputs": [
    {
     "name": "stdout",
     "output_type": "stream",
     "text": [
      "This is a blue Toyota Camry.\n"
     ]
    }
   ],
   "source": [
    "class Car:\n",
    "    \n",
    "    def __init__(self, brand=\"Unknown\", model=\"Unknown\", color=\"Unknown\"):\n",
    "        self.brand = brand\n",
    "        self.model = model\n",
    "        self.color = color\n",
    "\n",
    "    def get_description(self):\n",
    "        return f\"This is a {self.color} {self.brand} {self.model}.\"\n",
    "    \n",
    "car1 = Car(\"Toyota\", \"Camry\", \"blue\")\n",
    "print(car1.get_description())"
   ]
  },
  {
   "cell_type": "code",
   "execution_count": 33,
   "id": "aca29403",
   "metadata": {},
   "outputs": [],
   "source": [
    "# Parent class\n",
    "class Vehicle:\n",
    "    def __init__(self,brand,color):\n",
    "        self.brand = brand\n",
    "        self.color = color\n",
    "    \n",
    "    # Method\n",
    "    def drive(self):\n",
    "        print(f\"{self.brand} is in motion\")\n",
    "\n",
    "# child Class\n",
    "class Car(Vehicle):\n",
    "    def __init__(self,brand,color,model):\n",
    "        self.model = model\n",
    "        super().__init__(brand,color)\n",
    "    \n",
    "    def drive(self):\n",
    "        print(f\"The {self.color} {self.brand} {self.model} is cruising on the road.\")\n",
    "\n",
    "    def stop(self):\n",
    "        print('car Stop')"
   ]
  },
  {
   "cell_type": "code",
   "execution_count": 28,
   "id": "de11595b",
   "metadata": {},
   "outputs": [],
   "source": [
    "# creating a Object\n",
    "\n",
    "car1 = Car('Toyota','Blue','Camry')\n",
    "# print(car.drive())"
   ]
  },
  {
   "cell_type": "markdown",
   "id": "4dab2bc8",
   "metadata": {},
   "source": [
    "# car.brand"
   ]
  },
  {
   "cell_type": "code",
   "execution_count": 29,
   "id": "ec18cabf",
   "metadata": {},
   "outputs": [
    {
     "data": {
      "text/plain": [
       "'Toyota'"
      ]
     },
     "execution_count": 29,
     "metadata": {},
     "output_type": "execute_result"
    }
   ],
   "source": [
    "car1.brand"
   ]
  },
  {
   "cell_type": "code",
   "execution_count": 30,
   "id": "9a3e1d6b",
   "metadata": {},
   "outputs": [
    {
     "data": {
      "text/plain": [
       "'Blue'"
      ]
     },
     "execution_count": 30,
     "metadata": {},
     "output_type": "execute_result"
    }
   ],
   "source": [
    "car1.color"
   ]
  },
  {
   "cell_type": "code",
   "execution_count": 35,
   "id": "0d2bf3b7",
   "metadata": {},
   "outputs": [],
   "source": [
    "car2 = Car('Hundai','black','model')"
   ]
  },
  {
   "cell_type": "code",
   "execution_count": 36,
   "id": "e18d2157",
   "metadata": {},
   "outputs": [
    {
     "data": {
      "text/plain": [
       "'black'"
      ]
     },
     "execution_count": 36,
     "metadata": {},
     "output_type": "execute_result"
    }
   ],
   "source": [
    "car2.color"
   ]
  },
  {
   "cell_type": "code",
   "execution_count": 38,
   "id": "272a464a",
   "metadata": {},
   "outputs": [
    {
     "name": "stdout",
     "output_type": "stream",
     "text": [
      "car Stop\n"
     ]
    }
   ],
   "source": [
    "car2.stop()"
   ]
  },
  {
   "cell_type": "code",
   "execution_count": 46,
   "id": "d5769bfd",
   "metadata": {},
   "outputs": [],
   "source": [
    "# Parent class\n",
    "class Vehicle:\n",
    "    def __init__(self,brand,color):\n",
    "        self.brand = brand\n",
    "        self.color = color\n",
    "    \n",
    "    # Method\n",
    "    def drive(self):\n",
    "        print(f\"{self.brand} is in motion\")\n",
    "\n",
    "# child Class\n",
    "class Car(Vehicle):\n",
    "    def __init__(self,brand,color,model):\n",
    "        self.model = model\n",
    "        super().__init__(brand,color)\n",
    "    \n",
    "    def drive(self):\n",
    "        print(f\"The {self.color} {self.brand} {self.model} is cruising on the road.\")\n",
    "\n",
    "    def stop(self):\n",
    "        print('car Stop')\n",
    "        \n",
    "class Motorcycle(Vehicle):\n",
    "    def __init__(self,brand,color,displacement):\n",
    "        self.displacement = displacement\n",
    "        super().__init__(brand,color)\n",
    "        \n",
    "    def wheelie(self):\n",
    "        print(f\"The {self.color} {self.brand} motorcycle is doing a wheelie.\")\n",
    "\n",
    "class Truck(Vehicle):\n",
    "    def __init__(self,brand,color,load_capacity):\n",
    "        self.load_capacity = load_capacity\n",
    "        super().__init__(brand,color)\n",
    "    \n",
    "    def load(self):\n",
    "        print(f\"The {self.color} {self.brand} truck is being loaded with a capacity of {self.load_capacity} tons.\")\n",
    "\n",
    "        "
   ]
  },
  {
   "cell_type": "code",
   "execution_count": 41,
   "id": "90aab1d0",
   "metadata": {},
   "outputs": [],
   "source": [
    "### object Creat\n",
    "bike = Motorcycle(\"Harley-Davidson\", \"Black\", \"1200cc\")"
   ]
  },
  {
   "cell_type": "code",
   "execution_count": 42,
   "id": "cad2b318",
   "metadata": {},
   "outputs": [],
   "source": [
    "bike2 = Motorcycle(\"Harley\", \"Blue\", \"1800cc\")"
   ]
  },
  {
   "cell_type": "code",
   "execution_count": 43,
   "id": "66249351",
   "metadata": {},
   "outputs": [
    {
     "data": {
      "text/plain": [
       "'Black'"
      ]
     },
     "execution_count": 43,
     "metadata": {},
     "output_type": "execute_result"
    }
   ],
   "source": [
    "bike.color"
   ]
  },
  {
   "cell_type": "code",
   "execution_count": 44,
   "id": "58ff0ada",
   "metadata": {},
   "outputs": [
    {
     "data": {
      "text/plain": [
       "'1800cc'"
      ]
     },
     "execution_count": 44,
     "metadata": {},
     "output_type": "execute_result"
    }
   ],
   "source": [
    "bike2.displacement"
   ]
  },
  {
   "cell_type": "code",
   "execution_count": 45,
   "id": "6cd6e377",
   "metadata": {},
   "outputs": [
    {
     "name": "stdout",
     "output_type": "stream",
     "text": [
      "The Blue Harley motorcycle is doing a wheelie.\n"
     ]
    }
   ],
   "source": [
    "bike2.wheelie()"
   ]
  },
  {
   "cell_type": "code",
   "execution_count": 48,
   "id": "5c4d33a7",
   "metadata": {},
   "outputs": [],
   "source": [
    "### Truck \n",
    "Truck1 = Truck('Ashok','Red',100)\n",
    "Truck2 = Truck('Mahindra','Black',200)"
   ]
  },
  {
   "cell_type": "code",
   "execution_count": 49,
   "id": "83a749b3",
   "metadata": {},
   "outputs": [
    {
     "data": {
      "text/plain": [
       "'Black'"
      ]
     },
     "execution_count": 49,
     "metadata": {},
     "output_type": "execute_result"
    }
   ],
   "source": [
    "Truck2.color"
   ]
  },
  {
   "cell_type": "code",
   "execution_count": 50,
   "id": "5223a51c",
   "metadata": {},
   "outputs": [
    {
     "data": {
      "text/plain": [
       "100"
      ]
     },
     "execution_count": 50,
     "metadata": {},
     "output_type": "execute_result"
    }
   ],
   "source": [
    "Truck1.load_capacity"
   ]
  },
  {
   "cell_type": "code",
   "execution_count": 51,
   "id": "07c1e003",
   "metadata": {},
   "outputs": [
    {
     "name": "stdout",
     "output_type": "stream",
     "text": [
      "The Red Ashok truck is being loaded with a capacity of 100 tons.\n"
     ]
    }
   ],
   "source": [
    "Truck1.load()"
   ]
  },
  {
   "cell_type": "code",
   "execution_count": 68,
   "id": "8bf2152e",
   "metadata": {},
   "outputs": [],
   "source": [
    "#### New Example\n",
    "\n",
    "## Multilevel\n",
    "\n",
    "class Animal:\n",
    "    def __init__(self, name):\n",
    "        self.name = name\n",
    "    \n",
    "    def eat(self):\n",
    "        print(f\"{self.name} is eating.\")\n",
    "\n",
    "    def sleep(self):\n",
    "        print(f\"{self.name} is sleeping.\")\n",
    "\n",
    "class Cat(Animal):\n",
    "    def __init__(self, name, color):\n",
    "        super().__init__(name) #Animal.__init__(self,name)\n",
    "        self.color = color\n",
    "    \n",
    "    def meow(self):\n",
    "        print(\"Meow!\")\n",
    "\n",
    "    def sleep(self):\n",
    "        print(f\"The {self.color} cat named {self.name} is taking a nap.\")\n",
    "\n",
    "class Lion(Cat):\n",
    "    def __init__(self, name, color, age):\n",
    "        super().__init__(name, color)\n",
    "        self.age = age\n",
    "    \n",
    "    def roar(self):\n",
    "        print(\"Roarrr!\")\n",
    "\n",
    "    def sleep(self):\n",
    "        print(f\"The {self.age}-year-old lion named {self.name} is resting.\")\n",
    "\n",
    "# class Lion(Cat):\n",
    "#     def __init__(self,name,color,age):\n",
    "#         self.age = age\n",
    "#         super().__init__(name, color)\n",
    "        \n",
    "#     def \n",
    "        "
   ]
  },
  {
   "cell_type": "code",
   "execution_count": 53,
   "id": "28d9d46e",
   "metadata": {},
   "outputs": [
    {
     "data": {
      "text/plain": [
       "'Generic Animal'"
      ]
     },
     "execution_count": 53,
     "metadata": {},
     "output_type": "execute_result"
    }
   ],
   "source": [
    "animal = Animal('Generic Animal')\n",
    "animal.name"
   ]
  },
  {
   "cell_type": "code",
   "execution_count": 54,
   "id": "ecb34970",
   "metadata": {},
   "outputs": [
    {
     "name": "stdout",
     "output_type": "stream",
     "text": [
      "Generic Animal is eating.\n"
     ]
    }
   ],
   "source": [
    "animal.eat()"
   ]
  },
  {
   "cell_type": "code",
   "execution_count": 55,
   "id": "1366acbd",
   "metadata": {},
   "outputs": [
    {
     "name": "stdout",
     "output_type": "stream",
     "text": [
      "Generic Animal is sleeping.\n"
     ]
    }
   ],
   "source": [
    "animal.sleep()"
   ]
  },
  {
   "cell_type": "code",
   "execution_count": 56,
   "id": "d96c9bc0",
   "metadata": {},
   "outputs": [
    {
     "data": {
      "text/plain": [
       "'White'"
      ]
     },
     "execution_count": 56,
     "metadata": {},
     "output_type": "execute_result"
    }
   ],
   "source": [
    "## Cat\n",
    "cat1 = Cat('Fluffy','White')\n",
    "\n",
    "cat1.color"
   ]
  },
  {
   "cell_type": "code",
   "execution_count": 57,
   "id": "b5671e1d",
   "metadata": {},
   "outputs": [
    {
     "name": "stdout",
     "output_type": "stream",
     "text": [
      "The White cat named Fluffy is taking a nap.\n"
     ]
    }
   ],
   "source": [
    "cat1.sleep()"
   ]
  },
  {
   "cell_type": "code",
   "execution_count": 58,
   "id": "f7d9de08",
   "metadata": {},
   "outputs": [
    {
     "name": "stdout",
     "output_type": "stream",
     "text": [
      "Fluffy is eating.\n"
     ]
    }
   ],
   "source": [
    "cat1.eat()"
   ]
  },
  {
   "cell_type": "code",
   "execution_count": 69,
   "id": "105dcc30",
   "metadata": {},
   "outputs": [
    {
     "ename": "TypeError",
     "evalue": "__init__() takes 3 positional arguments but 4 were given",
     "output_type": "error",
     "traceback": [
      "\u001b[1;31m---------------------------------------------------------------------------\u001b[0m",
      "\u001b[1;31mTypeError\u001b[0m                                 Traceback (most recent call last)",
      "Input \u001b[1;32mIn [69]\u001b[0m, in \u001b[0;36m<cell line: 1>\u001b[1;34m()\u001b[0m\n\u001b[1;32m----> 1\u001b[0m lion1 \u001b[38;5;241m=\u001b[39m \u001b[43mLion\u001b[49m\u001b[43m(\u001b[49m\u001b[38;5;124;43m\"\u001b[39;49m\u001b[38;5;124;43mSimba\u001b[39;49m\u001b[38;5;124;43m\"\u001b[39;49m\u001b[43m,\u001b[49m\u001b[43m \u001b[49m\u001b[38;5;124;43m\"\u001b[39;49m\u001b[38;5;124;43mGolden\u001b[39;49m\u001b[38;5;124;43m\"\u001b[39;49m\u001b[43m,\u001b[49m\u001b[43m \u001b[49m\u001b[38;5;241;43m5\u001b[39;49m\u001b[43m)\u001b[49m\n",
      "\u001b[1;31mTypeError\u001b[0m: __init__() takes 3 positional arguments but 4 were given"
     ]
    }
   ],
   "source": [
    "lion1 = Lion(\"Simba\", \"Golden\", 5)"
   ]
  },
  {
   "cell_type": "code",
   "execution_count": 60,
   "id": "48a24e0b",
   "metadata": {},
   "outputs": [
    {
     "data": {
      "text/plain": [
       "'Simba'"
      ]
     },
     "execution_count": 60,
     "metadata": {},
     "output_type": "execute_result"
    }
   ],
   "source": [
    "lion1.name"
   ]
  },
  {
   "cell_type": "code",
   "execution_count": 61,
   "id": "5bce3900",
   "metadata": {},
   "outputs": [
    {
     "name": "stdout",
     "output_type": "stream",
     "text": [
      "Roarrr!\n"
     ]
    }
   ],
   "source": [
    "lion1.roar()"
   ]
  },
  {
   "cell_type": "code",
   "execution_count": 62,
   "id": "be7e273f",
   "metadata": {},
   "outputs": [
    {
     "name": "stdout",
     "output_type": "stream",
     "text": [
      "The 5-year-old lion named Simba is resting.\n"
     ]
    }
   ],
   "source": [
    "lion1.sleep()"
   ]
  },
  {
   "cell_type": "code",
   "execution_count": 63,
   "id": "923d4ba8",
   "metadata": {},
   "outputs": [
    {
     "name": "stdout",
     "output_type": "stream",
     "text": [
      "Meow!\n"
     ]
    }
   ],
   "source": [
    "lion1.meow()"
   ]
  },
  {
   "cell_type": "code",
   "execution_count": 64,
   "id": "60637fd9",
   "metadata": {},
   "outputs": [
    {
     "name": "stdout",
     "output_type": "stream",
     "text": [
      "Simba is eating.\n"
     ]
    }
   ],
   "source": [
    "lion1.eat()"
   ]
  },
  {
   "cell_type": "code",
   "execution_count": 71,
   "id": "58c59aa5",
   "metadata": {},
   "outputs": [],
   "source": [
    "### Type  of Inheritance\n",
    "\n",
    "## single Inheritance == Above\n",
    "\n",
    "## Multiple Ingeritance\n",
    "\n",
    "class Shape:\n",
    "    def __init__(self, color):\n",
    "        self.color = color\n",
    "\n",
    "    def display_color(self):\n",
    "        print(f\"The shape color is {self.color}.\")\n",
    "\n",
    "class Pattern:\n",
    "    def __init__(self, pattern_type):\n",
    "        self.pattern_type = pattern_type\n",
    "\n",
    "    def display_pattern(self):\n",
    "        print(f\"The pattern type is {self.pattern_type}.\")\n",
    "\n",
    "class Fillable:\n",
    "    def __init__(self, fill_type):\n",
    "        self.fill_type = fill_type\n",
    "\n",
    "    def display_fill_type(self):\n",
    "        print(f\"The fill type is {self.fill_type}.\")\n",
    "\n",
    "class ShapePatternFill(Shape, Pattern, Fillable):\n",
    "    def __init__(self, color, pattern_type, fill_type,number):\n",
    "        self.number = number\n",
    "        Shape.__init__(self, color)\n",
    "        Pattern.__init__(self, pattern_type)\n",
    "        Fillable.__init__(self, fill_type)\n",
    "\n",
    "    def display_info(self):\n",
    "        print(self.number)\n",
    "        self.display_color()\n",
    "        self.display_pattern()\n",
    "        self.display_fill_type()\n"
   ]
  },
  {
   "cell_type": "code",
   "execution_count": 72,
   "id": "88105a0f",
   "metadata": {},
   "outputs": [],
   "source": [
    "## Creating a object of ShapePatternFill\n",
    "patter1 = ShapePatternFill('Red','Stripes','Solid',4)"
   ]
  },
  {
   "cell_type": "code",
   "execution_count": 73,
   "id": "22e56517",
   "metadata": {},
   "outputs": [
    {
     "data": {
      "text/plain": [
       "'Red'"
      ]
     },
     "execution_count": 73,
     "metadata": {},
     "output_type": "execute_result"
    }
   ],
   "source": [
    "patter1.color"
   ]
  },
  {
   "cell_type": "code",
   "execution_count": 74,
   "id": "825dd583",
   "metadata": {},
   "outputs": [
    {
     "name": "stdout",
     "output_type": "stream",
     "text": [
      "4\n",
      "The shape color is Red.\n",
      "The pattern type is Stripes.\n",
      "The fill type is Solid.\n"
     ]
    }
   ],
   "source": [
    "patter1.display_info()"
   ]
  },
  {
   "cell_type": "code",
   "execution_count": 75,
   "id": "e10588ac",
   "metadata": {},
   "outputs": [
    {
     "name": "stdout",
     "output_type": "stream",
     "text": [
      "The shape color is Red.\n"
     ]
    }
   ],
   "source": [
    "patter1.display_color()"
   ]
  },
  {
   "cell_type": "code",
   "execution_count": 76,
   "id": "91d3789d",
   "metadata": {},
   "outputs": [],
   "source": [
    "### Hierachical Inheritance\n",
    "\n",
    "\n",
    "class Animal:\n",
    "    def eat(self):\n",
    "        print(\"Eating...\")\n",
    "\n",
    "class Dog(Animal):\n",
    "    def bark(self):\n",
    "        print(\"Barking...\")\n",
    "\n",
    "class Cat(Animal):\n",
    "    def meow(self):\n",
    "        print(\"Meowing...\")\n",
    "        \n"
   ]
  },
  {
   "cell_type": "code",
   "execution_count": 77,
   "id": "dc587010",
   "metadata": {},
   "outputs": [
    {
     "name": "stdout",
     "output_type": "stream",
     "text": [
      "Eating...\n"
     ]
    }
   ],
   "source": [
    "dog = Dog()\n",
    "dog.eat()"
   ]
  },
  {
   "cell_type": "code",
   "execution_count": 78,
   "id": "b12b1778",
   "metadata": {},
   "outputs": [
    {
     "ename": "AttributeError",
     "evalue": "'Cat' object has no attribute 'bark'",
     "output_type": "error",
     "traceback": [
      "\u001b[1;31m---------------------------------------------------------------------------\u001b[0m",
      "\u001b[1;31mAttributeError\u001b[0m                            Traceback (most recent call last)",
      "Input \u001b[1;32mIn [78]\u001b[0m, in \u001b[0;36m<cell line: 2>\u001b[1;34m()\u001b[0m\n\u001b[0;32m      1\u001b[0m cat \u001b[38;5;241m=\u001b[39m Cat()\n\u001b[1;32m----> 2\u001b[0m \u001b[43mcat\u001b[49m\u001b[38;5;241;43m.\u001b[39;49m\u001b[43mbark\u001b[49m()\n",
      "\u001b[1;31mAttributeError\u001b[0m: 'Cat' object has no attribute 'bark'"
     ]
    }
   ],
   "source": [
    "cat = Cat()\n",
    "cat.bark()"
   ]
  },
  {
   "cell_type": "code",
   "execution_count": null,
   "id": "11ddbee5",
   "metadata": {},
   "outputs": [],
   "source": [
    "### Private "
   ]
  }
 ],
 "metadata": {
  "kernelspec": {
   "display_name": "Python 3 (ipykernel)",
   "language": "python",
   "name": "python3"
  },
  "language_info": {
   "codemirror_mode": {
    "name": "ipython",
    "version": 3
   },
   "file_extension": ".py",
   "mimetype": "text/x-python",
   "name": "python",
   "nbconvert_exporter": "python",
   "pygments_lexer": "ipython3",
   "version": "3.9.12"
  }
 },
 "nbformat": 4,
 "nbformat_minor": 5
}
