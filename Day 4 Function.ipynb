{
 "cells": [
  {
   "cell_type": "markdown",
   "id": "288cadd1",
   "metadata": {},
   "source": [
    "### Function\n",
    "\n",
    "- They allow you to organize your code into reusable blocks, improving readability, maintainability, and efficiency"
   ]
  },
  {
   "cell_type": "code",
   "execution_count": 2,
   "id": "a4564a7d",
   "metadata": {},
   "outputs": [
    {
     "name": "stdout",
     "output_type": "stream",
     "text": [
      "even\n"
     ]
    }
   ],
   "source": [
    "num = 24\n",
    "\n",
    "if num%2==0:\n",
    "    print('even')\n",
    "else:\n",
    "    print('odd')\n"
   ]
  },
  {
   "cell_type": "code",
   "execution_count": 3,
   "id": "9bf861e3",
   "metadata": {},
   "outputs": [
    {
     "name": "stdout",
     "output_type": "stream",
     "text": [
      "even\n"
     ]
    }
   ],
   "source": [
    "def even_odd(num):\n",
    "    if num%2==0:\n",
    "        print('even')\n",
    "    else:\n",
    "        print('odd')\n",
    "even_odd(24) "
   ]
  },
  {
   "cell_type": "code",
   "execution_count": 4,
   "id": "b21ff109",
   "metadata": {},
   "outputs": [
    {
     "name": "stdout",
     "output_type": "stream",
     "text": [
      "even\n",
      "None\n"
     ]
    }
   ],
   "source": [
    "number = even_odd(24)\n",
    "print(number)"
   ]
  },
  {
   "cell_type": "code",
   "execution_count": 6,
   "id": "748a8a89",
   "metadata": {},
   "outputs": [
    {
     "name": "stdout",
     "output_type": "stream",
     "text": [
      "even\n"
     ]
    }
   ],
   "source": [
    "## print vs Return\n",
    "def even_odd(num):\n",
    "    if num%2==0:\n",
    "#         print('even')\n",
    "       return 'even'\n",
    "    else:\n",
    "        return 'odd'\n",
    "    \n",
    "number = even_odd(24)\n",
    "print(number)"
   ]
  },
  {
   "cell_type": "code",
   "execution_count": 7,
   "id": "3c210353",
   "metadata": {},
   "outputs": [],
   "source": [
    "###  Documentation\n",
    "\n",
    "def multiply(a, b):\n",
    "    \"\"\"\n",
    "    This function multiplies two numbers and returns the result.\n",
    "    Parameters:\n",
    "        a (int): The first number.\n",
    "        b (int): The second number.\n",
    "    Returns:\n",
    "        int: The product of the two numbers.\n",
    "    \"\"\"\n",
    "    return a * b"
   ]
  },
  {
   "cell_type": "code",
   "execution_count": 9,
   "id": "377ad5b6",
   "metadata": {},
   "outputs": [
    {
     "data": {
      "text/plain": [
       "'\\n    This function multiplies two numbers and returns the result.\\n    Parameters:\\n        a (int): The first number.\\n        b (int): The second number.\\n    Returns:\\n        int: The product of the two numbers.\\n    '"
      ]
     },
     "execution_count": 9,
     "metadata": {},
     "output_type": "execute_result"
    }
   ],
   "source": [
    "multiply.__doc__"
   ]
  },
  {
   "cell_type": "code",
   "execution_count": 11,
   "id": "d7409c97",
   "metadata": {},
   "outputs": [
    {
     "name": "stdout",
     "output_type": "stream",
     "text": [
      "Hello, Amit!\n"
     ]
    }
   ],
   "source": [
    "## Function Parameter\n",
    "# required Parameter == name\n",
    "# Default parameter == message\n",
    "def greet(name, message=\"Hello\"):\n",
    "    print(message + \", \" + name + \"!\")\n",
    "\n",
    "greet('Amit','Hi')  # Output: Hello, Alice!\n",
    "# greet(\"Bob\", \"Hi\")  # Output: Hi, Bob!"
   ]
  },
  {
   "cell_type": "code",
   "execution_count": 16,
   "id": "ac32b4bc",
   "metadata": {},
   "outputs": [
    {
     "name": "stdout",
     "output_type": "stream",
     "text": [
      "Amit!\n"
     ]
    }
   ],
   "source": [
    "def greet(name):\n",
    "    print( name + \"!\")\n",
    "\n",
    "greet('Amit')"
   ]
  },
  {
   "cell_type": "code",
   "execution_count": 15,
   "id": "6beb1882",
   "metadata": {},
   "outputs": [
    {
     "data": {
      "text/plain": [
       "'odd'"
      ]
     },
     "execution_count": 15,
     "metadata": {},
     "output_type": "execute_result"
    }
   ],
   "source": [
    "even_odd(25)"
   ]
  },
  {
   "cell_type": "code",
   "execution_count": 19,
   "id": "8c112be2",
   "metadata": {},
   "outputs": [
    {
     "data": {
      "text/plain": [
       "6"
      ]
     },
     "execution_count": 19,
     "metadata": {},
     "output_type": "execute_result"
    }
   ],
   "source": [
    "def add(num ,num1 = 1):\n",
    "    return num + num1\n",
    "\n",
    "add(4,num1=2)"
   ]
  },
  {
   "cell_type": "markdown",
   "id": "e4663f57",
   "metadata": {},
   "source": [
    " Variable-Length Parameters: Functions can accept a variable number of arguments using args (for positional arguments) and *kwargs (for keyword arguments)."
   ]
  },
  {
   "cell_type": "code",
   "execution_count": 21,
   "id": "b5700693",
   "metadata": {},
   "outputs": [
    {
     "name": "stdout",
     "output_type": "stream",
     "text": [
      "Hello\n",
      "Welcome\n",
      "to\n",
      "PythonClas\n",
      "Amit\n"
     ]
    }
   ],
   "source": [
    "def myFun(*args):\n",
    "    for arg in args:\n",
    "        print(arg)\n",
    "myFun('Hello', 'Welcome', 'to', 'PythonClas','Amit')"
   ]
  },
  {
   "cell_type": "code",
   "execution_count": 22,
   "id": "84e103b3",
   "metadata": {},
   "outputs": [
    {
     "name": "stdout",
     "output_type": "stream",
     "text": [
      "first == Amit\n",
      "mid == Aman\n",
      "last == Amir\n"
     ]
    }
   ],
   "source": [
    "def myFun(**kwargs):\n",
    "    for key, value in kwargs.items():\n",
    "        print(\"%s == %s\" % (key, value))\n",
    " \n",
    " \n",
    "# Driver code\n",
    "myFun(first='Amit', mid='Aman', last='Amir')"
   ]
  },
  {
   "cell_type": "code",
   "execution_count": 26,
   "id": "55e5c989",
   "metadata": {},
   "outputs": [],
   "source": [
    "def hello(*args,**kwargs):\n",
    "#     print(args)\n",
    "    print(kwargs)"
   ]
  },
  {
   "cell_type": "code",
   "execution_count": 27,
   "id": "a1b3d189",
   "metadata": {},
   "outputs": [
    {
     "name": "stdout",
     "output_type": "stream",
     "text": [
      "{'age': 24}\n"
     ]
    }
   ],
   "source": [
    "hello('AMit','yadav',age=24)"
   ]
  },
  {
   "cell_type": "code",
   "execution_count": 28,
   "id": "cbbf0289",
   "metadata": {},
   "outputs": [],
   "source": [
    "def log_message(*args, **kwargs):\n",
    "    level = kwargs.get('level', 'info')\n",
    "    message = ' '.join(args)\n",
    "    if level == 'info':\n",
    "        print(f'[INFO] {message}')\n",
    "    elif level == 'warning':\n",
    "        print(f'[WARNING] {message}')\n",
    "    elif level == 'error':\n",
    "        print(f'[ERROR] {message}')"
   ]
  },
  {
   "cell_type": "code",
   "execution_count": 29,
   "id": "0086ed52",
   "metadata": {},
   "outputs": [
    {
     "name": "stdout",
     "output_type": "stream",
     "text": [
      "[INFO] This is an informational message.\n"
     ]
    }
   ],
   "source": [
    "log_message('This is an informational message.')"
   ]
  },
  {
   "cell_type": "code",
   "execution_count": 30,
   "id": "7ced52d4",
   "metadata": {},
   "outputs": [
    {
     "name": "stdout",
     "output_type": "stream",
     "text": [
      "[WARNING] Warning: Invalid input.\n"
     ]
    }
   ],
   "source": [
    "log_message('Warning: Invalid input.', level='warning')"
   ]
  },
  {
   "cell_type": "code",
   "execution_count": 31,
   "id": "f4a6f72c",
   "metadata": {},
   "outputs": [
    {
     "name": "stdout",
     "output_type": "stream",
     "text": [
      "[ERROR] An error occurred!\n"
     ]
    }
   ],
   "source": [
    "log_message('An error occurred!', level='error')"
   ]
  },
  {
   "cell_type": "code",
   "execution_count": 32,
   "id": "a15a2b5f",
   "metadata": {},
   "outputs": [
    {
     "name": "stdout",
     "output_type": "stream",
     "text": [
      "[INFO] Custom message 1. Custom message 2.\n"
     ]
    }
   ],
   "source": [
    "log_message('Custom message 1.', 'Custom message 2.', level='info')"
   ]
  },
  {
   "cell_type": "code",
   "execution_count": 33,
   "id": "681ac31e",
   "metadata": {},
   "outputs": [
    {
     "name": "stdout",
     "output_type": "stream",
     "text": [
      "[WARNING] Another warning. Please review the data.\n"
     ]
    }
   ],
   "source": [
    "log_message('Another warning.', 'Please review the data.', level='warning')"
   ]
  },
  {
   "cell_type": "code",
   "execution_count": 35,
   "id": "89445965",
   "metadata": {},
   "outputs": [
    {
     "name": "stdout",
     "output_type": "stream",
     "text": [
      "120\n"
     ]
    }
   ],
   "source": [
    "## recursion\n",
    "\n",
    "def factorial(n):\n",
    "    if n == 0:\n",
    "        return 1\n",
    "    else:\n",
    "        return n * factorial(n - 1)\n",
    "\n",
    "result = factorial(5)\n",
    "print(result)  # Output: 120"
   ]
  },
  {
   "cell_type": "code",
   "execution_count": 36,
   "id": "addbb739",
   "metadata": {},
   "outputs": [
    {
     "name": "stdout",
     "output_type": "stream",
     "text": [
      "Before function execution\n",
      "Hello, World!\n",
      "After function execution\n"
     ]
    }
   ],
   "source": [
    "### Decorator\n",
    "\n",
    "def decorator(func):\n",
    "    def wrapper():\n",
    "        print(\"Before function execution\")\n",
    "        func()\n",
    "        print(\"After function execution\")\n",
    "    return wrapper\n",
    "\n",
    "@decorator\n",
    "def hello():\n",
    "    print(\"Hello, World!\")\n",
    "    \n",
    "hello()"
   ]
  },
  {
   "cell_type": "code",
   "execution_count": 40,
   "id": "388b02a3",
   "metadata": {},
   "outputs": [
    {
     "name": "stdout",
     "output_type": "stream",
     "text": [
      "hello, world!\n",
      "HELLO, WORLD!\n"
     ]
    }
   ],
   "source": [
    "def uppercase_decorator(function):\n",
    "    def wrapper():\n",
    "        result = function()\n",
    "        print(result)\n",
    "        return result.upper()\n",
    "    return wrapper\n",
    "\n",
    "@uppercase_decorator\n",
    "def greet():\n",
    "    return \"hello, world!\"\n",
    "\n",
    "print(greet())"
   ]
  },
  {
   "cell_type": "code",
   "execution_count": 43,
   "id": "70c907ff",
   "metadata": {},
   "outputs": [
    {
     "name": "stdout",
     "output_type": "stream",
     "text": [
      "Execution time: 0.00 seconds\n",
      "15\n"
     ]
    }
   ],
   "source": [
    "def timer_decorator(func):\n",
    "    import time\n",
    "\n",
    "    def wrapper(*args, **kwargs):\n",
    "        start_time = time.time()\n",
    "        result = func(*args, **kwargs)\n",
    "        end_time = time.time()\n",
    "        execution_time = end_time - start_time\n",
    "        print(f\"Execution time: {execution_time:.2f} seconds\")\n",
    "        return result\n",
    "\n",
    "    return wrapper\n",
    "\n",
    "@timer_decorator\n",
    "def calculate_sum(numbers):\n",
    "    return sum(numbers)\n",
    "\n",
    "numbers_list = [1, 2, 3, 4, 5]\n",
    "print(calculate_sum(numbers_list))\n"
   ]
  },
  {
   "cell_type": "code",
   "execution_count": 48,
   "id": "57b20562",
   "metadata": {},
   "outputs": [],
   "source": [
    "# Iterables vs Iterators\n",
    "\n",
    "def num(lst):\n",
    "    for i in lst:\n",
    "        return lst\n",
    "\n"
   ]
  },
  {
   "cell_type": "code",
   "execution_count": 49,
   "id": "3230e8ec",
   "metadata": {},
   "outputs": [
    {
     "data": {
      "text/plain": [
       "[1, 2, 3, 4, 5]"
      ]
     },
     "execution_count": 49,
     "metadata": {},
     "output_type": "execute_result"
    }
   ],
   "source": [
    "lst=[1,2,3,4,5]\n",
    "num(lst)"
   ]
  },
  {
   "cell_type": "code",
   "execution_count": 50,
   "id": "5a142718",
   "metadata": {},
   "outputs": [],
   "source": [
    "val = iter(lst)"
   ]
  },
  {
   "cell_type": "code",
   "execution_count": 51,
   "id": "c957af59",
   "metadata": {},
   "outputs": [
    {
     "data": {
      "text/plain": [
       "1"
      ]
     },
     "execution_count": 51,
     "metadata": {},
     "output_type": "execute_result"
    }
   ],
   "source": [
    "next(val)"
   ]
  },
  {
   "cell_type": "code",
   "execution_count": 52,
   "id": "e272f1fd",
   "metadata": {},
   "outputs": [
    {
     "data": {
      "text/plain": [
       "2"
      ]
     },
     "execution_count": 52,
     "metadata": {},
     "output_type": "execute_result"
    }
   ],
   "source": [
    "next(val)"
   ]
  },
  {
   "cell_type": "code",
   "execution_count": 53,
   "id": "f59d7887",
   "metadata": {},
   "outputs": [
    {
     "data": {
      "text/plain": [
       "3"
      ]
     },
     "execution_count": 53,
     "metadata": {},
     "output_type": "execute_result"
    }
   ],
   "source": [
    "next(val)"
   ]
  },
  {
   "cell_type": "code",
   "execution_count": 54,
   "id": "f289ff39",
   "metadata": {},
   "outputs": [
    {
     "data": {
      "text/plain": [
       "4"
      ]
     },
     "execution_count": 54,
     "metadata": {},
     "output_type": "execute_result"
    }
   ],
   "source": [
    "next(val)"
   ]
  },
  {
   "cell_type": "code",
   "execution_count": 55,
   "id": "5052cbff",
   "metadata": {},
   "outputs": [
    {
     "data": {
      "text/plain": [
       "5"
      ]
     },
     "execution_count": 55,
     "metadata": {},
     "output_type": "execute_result"
    }
   ],
   "source": [
    "next(val)"
   ]
  },
  {
   "cell_type": "code",
   "execution_count": 56,
   "id": "25197ee3",
   "metadata": {},
   "outputs": [
    {
     "data": {
      "text/plain": [
       "6"
      ]
     },
     "execution_count": 56,
     "metadata": {},
     "output_type": "execute_result"
    }
   ],
   "source": [
    "### Lambda Function\n",
    "\n",
    "def add(a,b):\n",
    "    return a+b\n",
    "\n",
    "add(2,4)"
   ]
  },
  {
   "cell_type": "code",
   "execution_count": 57,
   "id": "87889810",
   "metadata": {},
   "outputs": [
    {
     "data": {
      "text/plain": [
       "5"
      ]
     },
     "execution_count": 57,
     "metadata": {},
     "output_type": "execute_result"
    }
   ],
   "source": [
    "additional = lambda a,b:a+b\n",
    "\n",
    "additional(2,3)"
   ]
  },
  {
   "cell_type": "code",
   "execution_count": 58,
   "id": "be255143",
   "metadata": {},
   "outputs": [
    {
     "data": {
      "text/plain": [
       "True"
      ]
     },
     "execution_count": 58,
     "metadata": {},
     "output_type": "execute_result"
    }
   ],
   "source": [
    "def even(a):\n",
    "    return a%2==0\n",
    "even(2)"
   ]
  },
  {
   "cell_type": "code",
   "execution_count": 59,
   "id": "c1c70ff0",
   "metadata": {},
   "outputs": [
    {
     "data": {
      "text/plain": [
       "True"
      ]
     },
     "execution_count": 59,
     "metadata": {},
     "output_type": "execute_result"
    }
   ],
   "source": [
    "eve = lambda a:a%2==0\n",
    "eve(8)"
   ]
  },
  {
   "cell_type": "code",
   "execution_count": 60,
   "id": "df10fac2",
   "metadata": {},
   "outputs": [
    {
     "name": "stdout",
     "output_type": "stream",
     "text": [
      "15\n"
     ]
    }
   ],
   "source": [
    "## nested functuon\n",
    "def outer_function():\n",
    "    x = 10  # Variable in the outer function\n",
    "    \n",
    "    def inner_function():\n",
    "        y = 5  # Variable in the inner function\n",
    "        result = x + y\n",
    "        return result\n",
    "    \n",
    "    return inner_function\n",
    "\n",
    "# Create an instance of the inner function\n",
    "my_function = outer_function()\n",
    "\n",
    "# Call the inner function\n",
    "print(my_function()) "
   ]
  },
  {
   "cell_type": "code",
   "execution_count": 65,
   "id": "99935a30",
   "metadata": {},
   "outputs": [
    {
     "name": "stdout",
     "output_type": "stream",
     "text": [
      "15\n"
     ]
    }
   ],
   "source": [
    "## closure\n",
    "def outer_function(x):\n",
    "    def inner_function(y):\n",
    "        return x + y\n",
    "    return inner_function\n",
    "\n",
    "closure = outer_function(10)\n",
    "\n",
    "print(closure(5)) \n",
    "# outer_function(5)"
   ]
  },
  {
   "cell_type": "code",
   "execution_count": 69,
   "id": "819a45cb",
   "metadata": {},
   "outputs": [
    {
     "name": "stdout",
     "output_type": "stream",
     "text": [
      "50\n"
     ]
    }
   ],
   "source": [
    "def outer_function(x):\n",
    "    def inner_function(y):\n",
    "        return x+y\n",
    "    return inner_function\n",
    "\n",
    "value = outer_function(5)\n",
    "rtu = value(45)\n",
    "print(rtu)"
   ]
  },
  {
   "cell_type": "code",
   "execution_count": 70,
   "id": "579964ee",
   "metadata": {},
   "outputs": [],
   "source": [
    "### Map Function\n",
    "\n",
    "def even_or_odd(num):\n",
    "    if num%2==0:\n",
    "        return \"the number {} is even\".format(num)\n",
    "    else:\n",
    "        return \"the number {} is odd\".format(num)"
   ]
  },
  {
   "cell_type": "code",
   "execution_count": 71,
   "id": "98dec5ca",
   "metadata": {},
   "outputs": [
    {
     "data": {
      "text/plain": [
       "'the number 56 is even'"
      ]
     },
     "execution_count": 71,
     "metadata": {},
     "output_type": "execute_result"
    }
   ],
   "source": [
    "even_or_odd(56)"
   ]
  },
  {
   "cell_type": "code",
   "execution_count": 73,
   "id": "3b29a42d",
   "metadata": {},
   "outputs": [
    {
     "data": {
      "text/plain": [
       "['the number 2 is even',\n",
       " 'the number 3 is odd',\n",
       " 'the number 4 is even',\n",
       " 'the number 5 is odd',\n",
       " 'the number 6 is even',\n",
       " 'the number 7 is odd',\n",
       " 'the number 8 is even',\n",
       " 'the number 9 is odd',\n",
       " 'the number 90 is even',\n",
       " 'the number 43 is odd',\n",
       " 'the number 56 is even']"
      ]
     },
     "execution_count": 73,
     "metadata": {},
     "output_type": "execute_result"
    }
   ],
   "source": [
    "lst = [2,3,4,5,6,7,8,9,90,43,56]\n",
    "list(map(even_or_odd,lst))"
   ]
  },
  {
   "cell_type": "code",
   "execution_count": 74,
   "id": "eb596556",
   "metadata": {},
   "outputs": [],
   "source": [
    "def add(num):\n",
    "    sum_even = 0\n",
    "    sum_odd = 0\n",
    "    for i in num:\n",
    "        if i%2==0:\n",
    "            sum_even = sum_even + i\n",
    "        else:\n",
    "            sum_odd = sum_odd +i\n",
    "    return sum_even,sum_odd  "
   ]
  },
  {
   "cell_type": "code",
   "execution_count": 75,
   "id": "e13fef9f",
   "metadata": {},
   "outputs": [
    {
     "data": {
      "text/plain": [
       "(12, 15)"
      ]
     },
     "execution_count": 75,
     "metadata": {},
     "output_type": "execute_result"
    }
   ],
   "source": [
    "add([2,3,4,5,6,7])"
   ]
  },
  {
   "cell_type": "code",
   "execution_count": 79,
   "id": "4bd363c1",
   "metadata": {},
   "outputs": [
    {
     "data": {
      "text/plain": [
       "(12, 15)"
      ]
     },
     "execution_count": 79,
     "metadata": {},
     "output_type": "execute_result"
    }
   ],
   "source": [
    "### \n",
    "def add_even_odd(num):\n",
    "    sum_even = 0\n",
    "    sum_odd = 0\n",
    "    for i in num:\n",
    "        # check if even or odd\n",
    "        if i%2 ==0:\n",
    "            sum_even = sum_even + i\n",
    "        else:\n",
    "            sum_odd = sum_odd +i\n",
    "    return sum_even,sum_odd\n",
    "add([2,3,4,5,6,7])        "
   ]
  },
  {
   "cell_type": "code",
   "execution_count": null,
   "id": "ec81af9a",
   "metadata": {},
   "outputs": [],
   "source": [
    "lst = [2,3,4,5,6,7,8,9,90,43,56]\n",
    "list(map(add,lst))\n"
   ]
  }
 ],
 "metadata": {
  "kernelspec": {
   "display_name": "Python 3 (ipykernel)",
   "language": "python",
   "name": "python3"
  },
  "language_info": {
   "codemirror_mode": {
    "name": "ipython",
    "version": 3
   },
   "file_extension": ".py",
   "mimetype": "text/x-python",
   "name": "python",
   "nbconvert_exporter": "python",
   "pygments_lexer": "ipython3",
   "version": "3.9.12"
  }
 },
 "nbformat": 4,
 "nbformat_minor": 5
}
