{
 "cells": [
  {
   "cell_type": "markdown",
   "id": "3de70703",
   "metadata": {},
   "source": [
    "### Data Types:- List,Tuple,Set,Dictionary\n",
    "\n"
   ]
  },
  {
   "cell_type": "markdown",
   "id": "e6848017",
   "metadata": {},
   "source": [
    "Python Collections (Arrays)\n",
    "\n",
    "There are four collection data types in the Python programming language:\n",
    "\n",
    "List is a collection which is ordered and changeable. Allows duplicate members.\n",
    "\n",
    "Tuple is a collection which is ordered and unchangeable. Allows duplicate members.\n",
    "\n",
    "Set is a collection which is unordered, unchangeable*, and unindexed. No duplicate members.\n",
    "\n",
    "Dictionary is a collection which is ordered** and changeable. No duplicate members.\n",
    "\n"
   ]
  },
  {
   "cell_type": "markdown",
   "id": "0cf43c7a",
   "metadata": {},
   "source": [
    "## example"
   ]
  },
  {
   "cell_type": "code",
   "execution_count": 5,
   "id": "81aabfa4",
   "metadata": {},
   "outputs": [
    {
     "data": {
      "text/plain": [
       "['amit', 1, 'adadad']"
      ]
     },
     "execution_count": 5,
     "metadata": {},
     "output_type": "execute_result"
    }
   ],
   "source": [
    "### List:-\n",
    "fruit = ['amit',1,'adadad']\n",
    "fruit"
   ]
  },
  {
   "cell_type": "code",
   "execution_count": 8,
   "id": "343e1c90",
   "metadata": {},
   "outputs": [
    {
     "data": {
      "text/plain": [
       "tuple"
      ]
     },
     "execution_count": 8,
     "metadata": {},
     "output_type": "execute_result"
    }
   ],
   "source": [
    "## tuple\n",
    "fruit = ('amit',1,'adadad')\n",
    "type(fruit)"
   ]
  },
  {
   "cell_type": "code",
   "execution_count": 9,
   "id": "b4b2bff4",
   "metadata": {},
   "outputs": [
    {
     "data": {
      "text/plain": [
       "list"
      ]
     },
     "execution_count": 9,
     "metadata": {},
     "output_type": "execute_result"
    }
   ],
   "source": [
    "veg = ['potato','tomato','carrot','radish','cabbage']\n",
    "\n",
    "type(veg)"
   ]
  },
  {
   "cell_type": "code",
   "execution_count": 10,
   "id": "3b8609d6",
   "metadata": {},
   "outputs": [
    {
     "data": {
      "text/plain": [
       "['potato', 'tomato', 'carrot', 'radish', 'cabbage']"
      ]
     },
     "execution_count": 10,
     "metadata": {},
     "output_type": "execute_result"
    }
   ],
   "source": [
    "veg"
   ]
  },
  {
   "cell_type": "code",
   "execution_count": 13,
   "id": "2a1afea0",
   "metadata": {},
   "outputs": [
    {
     "data": {
      "text/plain": [
       "['potato',\n",
       " 'tomato',\n",
       " 'carrot',\n",
       " 'radish',\n",
       " 'cabbage',\n",
       " 'spinach',\n",
       " 'spinach',\n",
       " 'spinach']"
      ]
     },
     "execution_count": 13,
     "metadata": {},
     "output_type": "execute_result"
    }
   ],
   "source": [
    "## Adding \n",
    "veg.append('spinach')\n",
    "veg"
   ]
  },
  {
   "cell_type": "code",
   "execution_count": 16,
   "id": "835e7a86",
   "metadata": {},
   "outputs": [
    {
     "data": {
      "text/plain": [
       "8"
      ]
     },
     "execution_count": 16,
     "metadata": {},
     "output_type": "execute_result"
    }
   ],
   "source": [
    "len(veg)\n"
   ]
  },
  {
   "cell_type": "code",
   "execution_count": 19,
   "id": "01ab764c",
   "metadata": {},
   "outputs": [
    {
     "data": {
      "text/plain": [
       "['potato',\n",
       " 'tomato',\n",
       " 'carrot',\n",
       " 'apple',\n",
       " 'apple',\n",
       " 'apple',\n",
       " 'radish',\n",
       " 'cabbage',\n",
       " 'spinach',\n",
       " 'spinach',\n",
       " 'spinach']"
      ]
     },
     "execution_count": 19,
     "metadata": {},
     "output_type": "execute_result"
    }
   ],
   "source": [
    "veg.insert(3,'apple')\n",
    "veg"
   ]
  },
  {
   "cell_type": "code",
   "execution_count": 21,
   "id": "d888b5ca",
   "metadata": {},
   "outputs": [
    {
     "data": {
      "text/plain": [
       "['potato',\n",
       " 'tomato',\n",
       " 'carrot',\n",
       " 'apple',\n",
       " 'apple',\n",
       " 'apple',\n",
       " 'radish',\n",
       " 'cabbage',\n",
       " 'spinach',\n",
       " 'spinach',\n",
       " 'spinach']"
      ]
     },
     "execution_count": 21,
     "metadata": {},
     "output_type": "execute_result"
    }
   ],
   "source": [
    "veg"
   ]
  },
  {
   "cell_type": "code",
   "execution_count": 22,
   "id": "f0e83dea",
   "metadata": {},
   "outputs": [
    {
     "data": {
      "text/plain": [
       "'apple'"
      ]
     },
     "execution_count": 22,
     "metadata": {},
     "output_type": "execute_result"
    }
   ],
   "source": [
    "veg[3]"
   ]
  },
  {
   "cell_type": "code",
   "execution_count": 24,
   "id": "dc4d9997",
   "metadata": {},
   "outputs": [
    {
     "data": {
      "text/plain": [
       "'cabbage'"
      ]
     },
     "execution_count": 24,
     "metadata": {},
     "output_type": "execute_result"
    }
   ],
   "source": [
    "veg[7]"
   ]
  },
  {
   "cell_type": "code",
   "execution_count": 29,
   "id": "1cad9001",
   "metadata": {},
   "outputs": [
    {
     "data": {
      "text/plain": [
       "['tomato', 'carrot', 'apple', 'apple', 'apple', 'radish', 'cabbage']"
      ]
     },
     "execution_count": 29,
     "metadata": {},
     "output_type": "execute_result"
    }
   ],
   "source": [
    "veg[1:8]"
   ]
  },
  {
   "cell_type": "code",
   "execution_count": 31,
   "id": "771e4766",
   "metadata": {},
   "outputs": [
    {
     "data": {
      "text/plain": [
       "'spinach'"
      ]
     },
     "execution_count": 31,
     "metadata": {},
     "output_type": "execute_result"
    }
   ],
   "source": [
    "veg[10]"
   ]
  },
  {
   "cell_type": "code",
   "execution_count": 35,
   "id": "12e868ef",
   "metadata": {},
   "outputs": [
    {
     "data": {
      "text/plain": [
       "'spinach'"
      ]
     },
     "execution_count": 35,
     "metadata": {},
     "output_type": "execute_result"
    }
   ],
   "source": [
    "veg[-3]"
   ]
  },
  {
   "cell_type": "code",
   "execution_count": 37,
   "id": "7e68e211",
   "metadata": {},
   "outputs": [
    {
     "data": {
      "text/plain": [
       "['potato', 'tomato', 'carrot', 'apple', 'apple']"
      ]
     },
     "execution_count": 37,
     "metadata": {},
     "output_type": "execute_result"
    }
   ],
   "source": [
    "veg[:5]"
   ]
  },
  {
   "cell_type": "code",
   "execution_count": 39,
   "id": "1bedd2db",
   "metadata": {},
   "outputs": [
    {
     "data": {
      "text/plain": [
       "['apple', 'radish', 'cabbage', 'spinach', 'spinach', 'spinach']"
      ]
     },
     "execution_count": 39,
     "metadata": {},
     "output_type": "execute_result"
    }
   ],
   "source": [
    "veg[5:]"
   ]
  },
  {
   "cell_type": "code",
   "execution_count": 42,
   "id": "090882b5",
   "metadata": {},
   "outputs": [
    {
     "name": "stdout",
     "output_type": "stream",
     "text": [
      "['orange', 'kiwi', 'melon']\n"
     ]
    }
   ],
   "source": [
    "thislist = [\"apple\", \"banana\", \"cherry\", \"orange\", \"kiwi\", \"melon\", \"mango\"]\n",
    "print(thislist[-4:-1])"
   ]
  },
  {
   "cell_type": "code",
   "execution_count": 45,
   "id": "874b4ecc",
   "metadata": {},
   "outputs": [
    {
     "data": {
      "text/plain": [
       "['banana', 'cherry', 'orange']"
      ]
     },
     "execution_count": 45,
     "metadata": {},
     "output_type": "execute_result"
    }
   ],
   "source": [
    "thislist[1:4]"
   ]
  },
  {
   "cell_type": "code",
   "execution_count": 48,
   "id": "ea1210c2",
   "metadata": {},
   "outputs": [
    {
     "name": "stdout",
     "output_type": "stream",
     "text": [
      "n0\n"
     ]
    }
   ],
   "source": [
    "if 'bana' in thislist:\n",
    "    print('yes')\n",
    "else:\n",
    "    print('n0')"
   ]
  },
  {
   "cell_type": "code",
   "execution_count": 51,
   "id": "56980b66",
   "metadata": {},
   "outputs": [],
   "source": [
    "thislist.insert(4,'amit')"
   ]
  },
  {
   "cell_type": "code",
   "execution_count": 53,
   "id": "da55d12d",
   "metadata": {},
   "outputs": [
    {
     "data": {
      "text/plain": [
       "['apple',\n",
       " 'banana',\n",
       " 'cherry',\n",
       " 'orange',\n",
       " 'amit',\n",
       " 'amit',\n",
       " 'amit',\n",
       " 'kiwi',\n",
       " 'melon',\n",
       " 'mango']"
      ]
     },
     "execution_count": 53,
     "metadata": {},
     "output_type": "execute_result"
    }
   ],
   "source": [
    "thislist"
   ]
  },
  {
   "cell_type": "code",
   "execution_count": 56,
   "id": "a946c73f",
   "metadata": {},
   "outputs": [
    {
     "data": {
      "text/plain": [
       "['apple', 'banana', 'cherry', 'amit', 'kiwi', 'melon', 'mango']"
      ]
     },
     "execution_count": 56,
     "metadata": {},
     "output_type": "execute_result"
    }
   ],
   "source": [
    "### pop\n",
    "thislist.pop(3)\n",
    "thislist"
   ]
  },
  {
   "cell_type": "code",
   "execution_count": 58,
   "id": "e3244efa",
   "metadata": {},
   "outputs": [
    {
     "data": {
      "text/plain": [
       "'banana'"
      ]
     },
     "execution_count": 58,
     "metadata": {},
     "output_type": "execute_result"
    }
   ],
   "source": [
    "thislist.pop(1)"
   ]
  },
  {
   "cell_type": "code",
   "execution_count": 61,
   "id": "abd7fdce",
   "metadata": {},
   "outputs": [
    {
     "data": {
      "text/plain": [
       "['apple', 'cherry', 'amit', 'kiwi', 'melon', 'mango']"
      ]
     },
     "execution_count": 61,
     "metadata": {},
     "output_type": "execute_result"
    }
   ],
   "source": [
    "thislist"
   ]
  },
  {
   "cell_type": "code",
   "execution_count": 64,
   "id": "f43f0425",
   "metadata": {},
   "outputs": [
    {
     "name": "stdout",
     "output_type": "stream",
     "text": [
      "['apple', 'cherry']\n"
     ]
    }
   ],
   "source": [
    "## remove\n",
    "thislist = [\"apple\", \"banana\", \"cherry\"]\n",
    "thislist.remove(\"banana\")\n",
    "print(thislist)"
   ]
  },
  {
   "cell_type": "code",
   "execution_count": 66,
   "id": "bed1a84f",
   "metadata": {},
   "outputs": [],
   "source": [
    "### Adding Two List\n",
    "\n",
    "list1 = [1,2,3]\n",
    "list2= [4,5,6]\n",
    "\n",
    "list3 = list1 +list2"
   ]
  },
  {
   "cell_type": "markdown",
   "id": "a9a61d26",
   "metadata": {},
   "source": [
    "#### print(list3)"
   ]
  },
  {
   "cell_type": "code",
   "execution_count": 71,
   "id": "33ba9592",
   "metadata": {},
   "outputs": [
    {
     "data": {
      "text/plain": [
       "[1, 2, 3, 4, 5, 6, 1, 2, 3, 4, 5, 6, 1, 2, 3, 4, 5, 6]"
      ]
     },
     "execution_count": 71,
     "metadata": {},
     "output_type": "execute_result"
    }
   ],
   "source": [
    "list4 = list3*3\n",
    "list4"
   ]
  },
  {
   "cell_type": "code",
   "execution_count": 75,
   "id": "6f193fa2",
   "metadata": {},
   "outputs": [
    {
     "name": "stdout",
     "output_type": "stream",
     "text": [
      "[1, 2, 4, 5, 7, 9]\n"
     ]
    }
   ],
   "source": [
    "numbers = [4, 2, 7, 1, 9, 5]\n",
    "numbers.sort()\n",
    "print(numbers)"
   ]
  },
  {
   "cell_type": "code",
   "execution_count": 77,
   "id": "2a559eb6",
   "metadata": {},
   "outputs": [
    {
     "name": "stdout",
     "output_type": "stream",
     "text": [
      "[9, 7, 5, 4, 2, 1]\n"
     ]
    }
   ],
   "source": [
    "numbers.sort(reverse=True)\n",
    "print(numbers)"
   ]
  },
  {
   "cell_type": "code",
   "execution_count": 79,
   "id": "2b23fe3e",
   "metadata": {},
   "outputs": [
    {
     "name": "stdout",
     "output_type": "stream",
     "text": [
      "[[1, 2, 3], [4, 5, 6], [7, 8, 9]]\n"
     ]
    }
   ],
   "source": [
    "matrix = [[1, 2, 3], [4, 5, 6], [7, 8, 9]]\n",
    "print(matrix)"
   ]
  },
  {
   "cell_type": "code",
   "execution_count": 83,
   "id": "40ecd587",
   "metadata": {},
   "outputs": [
    {
     "name": "stdout",
     "output_type": "stream",
     "text": [
      "1\n"
     ]
    }
   ],
   "source": [
    "print(matrix[0])"
   ]
  },
  {
   "cell_type": "code",
   "execution_count": 85,
   "id": "0b22eea1",
   "metadata": {},
   "outputs": [
    {
     "name": "stdout",
     "output_type": "stream",
     "text": [
      "6\n"
     ]
    }
   ],
   "source": [
    "print(matrix[1][2])"
   ]
  },
  {
   "cell_type": "code",
   "execution_count": 88,
   "id": "dcf76480",
   "metadata": {},
   "outputs": [
    {
     "name": "stdout",
     "output_type": "stream",
     "text": [
      "9\n"
     ]
    }
   ],
   "source": [
    "print(matrix[2][2])"
   ]
  },
  {
   "cell_type": "code",
   "execution_count": 89,
   "id": "06fcd0c6",
   "metadata": {},
   "outputs": [
    {
     "name": "stdout",
     "output_type": "stream",
     "text": [
      "[8, 9]\n"
     ]
    }
   ],
   "source": [
    "print(matrix[2][1:])"
   ]
  },
  {
   "cell_type": "code",
   "execution_count": 94,
   "id": "1b2865ff",
   "metadata": {},
   "outputs": [],
   "source": [
    "thislist\n",
    "thislist.append('azad')"
   ]
  },
  {
   "cell_type": "code",
   "execution_count": 96,
   "id": "f102b453",
   "metadata": {},
   "outputs": [
    {
     "data": {
      "text/plain": [
       "['apple', 'cherry', 'azad', 'azad', 'azad']"
      ]
     },
     "execution_count": 96,
     "metadata": {},
     "output_type": "execute_result"
    }
   ],
   "source": [
    "thislist"
   ]
  },
  {
   "cell_type": "code",
   "execution_count": 99,
   "id": "d74de803",
   "metadata": {},
   "outputs": [
    {
     "name": "stdout",
     "output_type": "stream",
     "text": [
      "apple\n",
      "cherry\n",
      "azad\n",
      "azad\n",
      "azad\n"
     ]
    }
   ],
   "source": [
    "for i in thislist:\n",
    "    print(i)"
   ]
  },
  {
   "cell_type": "code",
   "execution_count": 101,
   "id": "477f2a57",
   "metadata": {},
   "outputs": [
    {
     "name": "stdout",
     "output_type": "stream",
     "text": [
      "0\n",
      "1\n",
      "2\n",
      "3\n",
      "4\n"
     ]
    }
   ],
   "source": [
    "for fruit in range(len(thislist)):\n",
    "    print(fruit)"
   ]
  },
  {
   "cell_type": "code",
   "execution_count": 105,
   "id": "dd0e6496",
   "metadata": {},
   "outputs": [
    {
     "data": {
      "text/plain": [
       "range(0, 5)"
      ]
     },
     "execution_count": 105,
     "metadata": {},
     "output_type": "execute_result"
    }
   ],
   "source": [
    "range(len(thislist))"
   ]
  },
  {
   "cell_type": "code",
   "execution_count": 106,
   "id": "d8e13d69",
   "metadata": {},
   "outputs": [
    {
     "name": "stdout",
     "output_type": "stream",
     "text": [
      "[1, 2, 3, 4]\n"
     ]
    }
   ],
   "source": [
    "list1 = [1,2,3,4]\n",
    "print(list1)"
   ]
  },
  {
   "cell_type": "code",
   "execution_count": 109,
   "id": "c142b097",
   "metadata": {},
   "outputs": [
    {
     "name": "stdout",
     "output_type": "stream",
     "text": [
      "[5, 2, 3, 4]\n"
     ]
    }
   ],
   "source": [
    "list1[0] = 5\n",
    "print(list1)"
   ]
  },
  {
   "cell_type": "code",
   "execution_count": 111,
   "id": "0db8a7d2",
   "metadata": {},
   "outputs": [],
   "source": [
    "## Tuples\n",
    "\n",
    "fruit = ('apple','orange','grapes')\n"
   ]
  },
  {
   "cell_type": "code",
   "execution_count": 115,
   "id": "2864c8d7",
   "metadata": {},
   "outputs": [
    {
     "ename": "TypeError",
     "evalue": "'tuple' object does not support item assignment",
     "output_type": "error",
     "traceback": [
      "\u001b[1;31m---------------------------------------------------------------------------\u001b[0m",
      "\u001b[1;31mTypeError\u001b[0m                                 Traceback (most recent call last)",
      "Input \u001b[1;32mIn [115]\u001b[0m, in \u001b[0;36m<cell line: 1>\u001b[1;34m()\u001b[0m\n\u001b[1;32m----> 1\u001b[0m fruit[\u001b[38;5;241m1\u001b[39m] \u001b[38;5;241m=\u001b[39m \u001b[38;5;124m'\u001b[39m\u001b[38;5;124mbanana\u001b[39m\u001b[38;5;124m'\u001b[39m\n",
      "\u001b[1;31mTypeError\u001b[0m: 'tuple' object does not support item assignment"
     ]
    }
   ],
   "source": [
    "fruit[1] = 'banana'"
   ]
  },
  {
   "cell_type": "code",
   "execution_count": 117,
   "id": "02619b4b",
   "metadata": {},
   "outputs": [
    {
     "name": "stdout",
     "output_type": "stream",
     "text": [
      "{'apple', 'mango', 'banana', 'grapes'}\n"
     ]
    },
    {
     "data": {
      "text/plain": [
       "set"
      ]
     },
     "execution_count": 117,
     "metadata": {},
     "output_type": "execute_result"
    }
   ],
   "source": [
    "## sets\n",
    "\n",
    "fruit = {'apple','mango','banana','grapes','grapes'}\n",
    "print(fruit)\n",
    "type(fruit)"
   ]
  },
  {
   "cell_type": "code",
   "execution_count": 119,
   "id": "7e5dff2d",
   "metadata": {},
   "outputs": [
    {
     "name": "stdout",
     "output_type": "stream",
     "text": [
      "{'apple', 'mango', 'banana', 'grapes'}\n"
     ]
    },
    {
     "data": {
      "text/plain": [
       "set"
      ]
     },
     "execution_count": 119,
     "metadata": {},
     "output_type": "execute_result"
    }
   ],
   "source": [
    "fruit = {'apple','mango','banana','grapes','grapes'}\n",
    "print(fruit)\n",
    "type(fruit)"
   ]
  },
  {
   "cell_type": "code",
   "execution_count": 121,
   "id": "6fef6146",
   "metadata": {},
   "outputs": [],
   "source": [
    "fruit.add('watermelon')"
   ]
  },
  {
   "cell_type": "code",
   "execution_count": 122,
   "id": "ec8d1e36",
   "metadata": {},
   "outputs": [
    {
     "data": {
      "text/plain": [
       "{'apple', 'banana', 'grapes', 'mango', 'watermelon'}"
      ]
     },
     "execution_count": 122,
     "metadata": {},
     "output_type": "execute_result"
    }
   ],
   "source": [
    "fruit"
   ]
  },
  {
   "cell_type": "code",
   "execution_count": 123,
   "id": "00a3259c",
   "metadata": {},
   "outputs": [],
   "source": [
    "winter_fruits={'apple'}"
   ]
  },
  {
   "cell_type": "code",
   "execution_count": 125,
   "id": "957ee23b",
   "metadata": {},
   "outputs": [
    {
     "data": {
      "text/plain": [
       "{'banana', 'grapes', 'mango', 'watermelon'}"
      ]
     },
     "execution_count": 125,
     "metadata": {},
     "output_type": "execute_result"
    }
   ],
   "source": [
    "fruit.difference(winter_fruits)"
   ]
  },
  {
   "cell_type": "code",
   "execution_count": 127,
   "id": "dd288543",
   "metadata": {},
   "outputs": [
    {
     "ename": "KeyError",
     "evalue": "'banana'",
     "output_type": "error",
     "traceback": [
      "\u001b[1;31m---------------------------------------------------------------------------\u001b[0m",
      "\u001b[1;31mKeyError\u001b[0m                                  Traceback (most recent call last)",
      "Input \u001b[1;32mIn [127]\u001b[0m, in \u001b[0;36m<cell line: 1>\u001b[1;34m()\u001b[0m\n\u001b[1;32m----> 1\u001b[0m \u001b[43mfruit\u001b[49m\u001b[38;5;241;43m.\u001b[39;49m\u001b[43mremove\u001b[49m\u001b[43m(\u001b[49m\u001b[38;5;124;43m'\u001b[39;49m\u001b[38;5;124;43mbanana\u001b[39;49m\u001b[38;5;124;43m'\u001b[39;49m\u001b[43m)\u001b[49m\n",
      "\u001b[1;31mKeyError\u001b[0m: 'banana'"
     ]
    }
   ],
   "source": [
    "fruit.remove('banana')"
   ]
  },
  {
   "cell_type": "code",
   "execution_count": 128,
   "id": "c1fa6424",
   "metadata": {},
   "outputs": [
    {
     "data": {
      "text/plain": [
       "{'apple', 'grapes', 'mango', 'watermelon'}"
      ]
     },
     "execution_count": 128,
     "metadata": {},
     "output_type": "execute_result"
    }
   ],
   "source": [
    "fruit"
   ]
  },
  {
   "cell_type": "code",
   "execution_count": 130,
   "id": "73061985",
   "metadata": {},
   "outputs": [],
   "source": [
    "### dictionaries"
   ]
  },
  {
   "cell_type": "code",
   "execution_count": 133,
   "id": "e0789b11",
   "metadata": {},
   "outputs": [
    {
     "data": {
      "text/plain": [
       "{'vegs': 'potato', 'fruit': 'apple,mango,banana', 'season': 'winter,summer'}"
      ]
     },
     "execution_count": 133,
     "metadata": {},
     "output_type": "execute_result"
    }
   ],
   "source": [
    "my_dict = {\"vegs\":\"potato\",\"fruit\":\"apple,mango,banana\",\"season\":\"winter,summer\"}\n",
    "my_dict"
   ]
  },
  {
   "cell_type": "code",
   "execution_count": 135,
   "id": "80f1a830",
   "metadata": {},
   "outputs": [
    {
     "data": {
      "text/plain": [
       "dict"
      ]
     },
     "execution_count": 135,
     "metadata": {},
     "output_type": "execute_result"
    }
   ],
   "source": [
    "type(my_dict)"
   ]
  },
  {
   "cell_type": "code",
   "execution_count": 138,
   "id": "423e99c1",
   "metadata": {},
   "outputs": [
    {
     "data": {
      "text/plain": [
       "'apple,mango,banana'"
      ]
     },
     "execution_count": 138,
     "metadata": {},
     "output_type": "execute_result"
    }
   ],
   "source": [
    "my_dict['fruit']"
   ]
  },
  {
   "cell_type": "code",
   "execution_count": 141,
   "id": "42612299",
   "metadata": {},
   "outputs": [
    {
     "data": {
      "text/plain": [
       "'winter,summer'"
      ]
     },
     "execution_count": 141,
     "metadata": {},
     "output_type": "execute_result"
    }
   ],
   "source": [
    "my_dict['season']"
   ]
  },
  {
   "cell_type": "code",
   "execution_count": 143,
   "id": "7d69872d",
   "metadata": {},
   "outputs": [
    {
     "name": "stdout",
     "output_type": "stream",
     "text": [
      "vegs\n",
      "fruit\n",
      "season\n"
     ]
    }
   ],
   "source": [
    "for x in my_dict:\n",
    "    print(x)"
   ]
  },
  {
   "cell_type": "code",
   "execution_count": 145,
   "id": "8e804fd3",
   "metadata": {},
   "outputs": [
    {
     "name": "stdout",
     "output_type": "stream",
     "text": [
      "potato\n",
      "apple,mango,banana\n",
      "winter,summer\n"
     ]
    }
   ],
   "source": [
    "for x in my_dict.values():\n",
    "    print(x)"
   ]
  },
  {
   "cell_type": "code",
   "execution_count": 148,
   "id": "7ddd5423",
   "metadata": {},
   "outputs": [
    {
     "name": "stdout",
     "output_type": "stream",
     "text": [
      "('vegs', 'potato')\n",
      "('fruit', 'apple,mango,banana')\n",
      "('season', 'winter,summer')\n"
     ]
    }
   ],
   "source": [
    "for x in my_dict.items():\n",
    "    print(x)"
   ]
  },
  {
   "cell_type": "code",
   "execution_count": 151,
   "id": "6b5caa68",
   "metadata": {},
   "outputs": [
    {
     "data": {
      "text/plain": [
       "{'vegs': 'potato',\n",
       " 'fruit': 'apple,mango,banana',\n",
       " 'season': 'winter,summer',\n",
       " 'country': 'america,china,india'}"
      ]
     },
     "execution_count": 151,
     "metadata": {},
     "output_type": "execute_result"
    }
   ],
   "source": [
    "my_dict['country'] = 'america,china,india'\n",
    "my_dict"
   ]
  },
  {
   "cell_type": "code",
   "execution_count": 152,
   "id": "050721dd",
   "metadata": {},
   "outputs": [],
   "source": [
    "my_dict['vegs'] = 'onion,tomato'"
   ]
  },
  {
   "cell_type": "code",
   "execution_count": 156,
   "id": "f894db94",
   "metadata": {},
   "outputs": [
    {
     "data": {
      "text/plain": [
       "{'vegs': 'onion,tomato',\n",
       " 'fruit': 'apple,mango,banana',\n",
       " 'season': 'winter,summer',\n",
       " 'country': 'america,china,india'}"
      ]
     },
     "execution_count": 156,
     "metadata": {},
     "output_type": "execute_result"
    }
   ],
   "source": [
    "my_dict"
   ]
  },
  {
   "cell_type": "code",
   "execution_count": 159,
   "id": "40f1d1ee",
   "metadata": {},
   "outputs": [
    {
     "data": {
      "text/plain": [
       "{'vegs': 'potato',\n",
       " 'fruit': 'apple,mango,banana',\n",
       " 'season': 'winter,summer',\n",
       " 'country': 'america,china,india'}"
      ]
     },
     "execution_count": 159,
     "metadata": {},
     "output_type": "execute_result"
    }
   ],
   "source": [
    "my_dict.update({'vegs':'potato'})\n",
    "my_dict"
   ]
  },
  {
   "cell_type": "code",
   "execution_count": null,
   "id": "7984dae6",
   "metadata": {},
   "outputs": [],
   "source": []
  }
 ],
 "metadata": {
  "kernelspec": {
   "display_name": "Python 3 (ipykernel)",
   "language": "python",
   "name": "python3"
  },
  "language_info": {
   "codemirror_mode": {
    "name": "ipython",
    "version": 3
   },
   "file_extension": ".py",
   "mimetype": "text/x-python",
   "name": "python",
   "nbconvert_exporter": "python",
   "pygments_lexer": "ipython3",
   "version": "3.9.12"
  }
 },
 "nbformat": 4,
 "nbformat_minor": 5
}
