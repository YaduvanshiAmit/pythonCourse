{
 "cells": [
  {
   "cell_type": "markdown",
   "id": "3c71456b",
   "metadata": {},
   "source": [
    "## Class And Objects "
   ]
  },
  {
   "cell_type": "markdown",
   "id": "ac1d5915",
   "metadata": {},
   "source": [
    "In Python, a class is a blueprint for creating objects (instances) that have similar properties and behaviors. It defines a set of attributes (variables) and methods (functions) that the objects created from the class can possess.\n",
    "\n",
    "Classes allow you to encapsulate data and functionality into reusable units, promoting code organization and modularity."
   ]
  },
  {
   "cell_type": "code",
   "execution_count": null,
   "id": "467ee822",
   "metadata": {},
   "outputs": [],
   "source": []
  },
  {
   "cell_type": "code",
   "execution_count": 6,
   "id": "57132699",
   "metadata": {},
   "outputs": [],
   "source": [
    "class Car:\n",
    "    ## class Attribute and class Variable\n",
    "    wheels = 4\n",
    "    ### Constructer Method\n",
    "    def __init__(self,brand,model,color):\n",
    "        # instance attribute\n",
    "        self.brand = brand\n",
    "        self.model = model\n",
    "        self.color = color\n",
    "    \n",
    "    ##  Method\n",
    "    def get_description(self):\n",
    "        return f\"This is a {self.brand} {self.color} {self.model} with {self.wheels} wheels.\"\n",
    "    ## Method \n",
    "    def paint(self,new_color):\n",
    "        self.color = new_color\n",
    "        print(f\"The car is now {self.color}.\")\n",
    "   #\n"
   ]
  },
  {
   "cell_type": "code",
   "execution_count": 8,
   "id": "e3d1fde3",
   "metadata": {},
   "outputs": [
    {
     "name": "stdout",
     "output_type": "stream",
     "text": [
      "<__main__.Car object at 0x000002070862CCD0>\n"
     ]
    }
   ],
   "source": [
    "## Create an object\n",
    "car1 = Car('Toyota','Camry','blue')\n",
    "print(car1)"
   ]
  },
  {
   "cell_type": "code",
   "execution_count": 9,
   "id": "8866d2ff",
   "metadata": {},
   "outputs": [
    {
     "data": {
      "text/plain": [
       "'This is a Toyota blue Camry with 4 wheels.'"
      ]
     },
     "execution_count": 9,
     "metadata": {},
     "output_type": "execute_result"
    }
   ],
   "source": [
    "car1.get_description()"
   ]
  },
  {
   "cell_type": "code",
   "execution_count": 10,
   "id": "62e1daa3",
   "metadata": {},
   "outputs": [
    {
     "name": "stdout",
     "output_type": "stream",
     "text": [
      "The car is now white.\n"
     ]
    }
   ],
   "source": [
    "car1.paint('white')"
   ]
  },
  {
   "cell_type": "code",
   "execution_count": 11,
   "id": "02e3b0ad",
   "metadata": {},
   "outputs": [
    {
     "data": {
      "text/plain": [
       "'This is a Toyota white Camry with 4 wheels.'"
      ]
     },
     "execution_count": 11,
     "metadata": {},
     "output_type": "execute_result"
    }
   ],
   "source": [
    "car1.get_description()"
   ]
  },
  {
   "cell_type": "code",
   "execution_count": 12,
   "id": "8fec5cfb",
   "metadata": {},
   "outputs": [],
   "source": [
    "## Create second object\n",
    "car2 = Car('Tesla','Model','red')"
   ]
  },
  {
   "cell_type": "code",
   "execution_count": 13,
   "id": "15fe7cba",
   "metadata": {},
   "outputs": [
    {
     "data": {
      "text/plain": [
       "'This is a Tesla red Model with 4 wheels.'"
      ]
     },
     "execution_count": 13,
     "metadata": {},
     "output_type": "execute_result"
    }
   ],
   "source": [
    "car2.get_description()"
   ]
  },
  {
   "cell_type": "code",
   "execution_count": 14,
   "id": "dd35199e",
   "metadata": {},
   "outputs": [
    {
     "name": "stdout",
     "output_type": "stream",
     "text": [
      "The car is now blue.\n"
     ]
    }
   ],
   "source": [
    "car2.paint('blue')"
   ]
  },
  {
   "cell_type": "code",
   "execution_count": 15,
   "id": "fafb3757",
   "metadata": {},
   "outputs": [
    {
     "data": {
      "text/plain": [
       "'This is a Tesla blue Model with 4 wheels.'"
      ]
     },
     "execution_count": 15,
     "metadata": {},
     "output_type": "execute_result"
    }
   ],
   "source": [
    "car2.get_description()"
   ]
  },
  {
   "cell_type": "code",
   "execution_count": 16,
   "id": "6dfa79d3",
   "metadata": {},
   "outputs": [
    {
     "data": {
      "text/plain": [
       "'white'"
      ]
     },
     "execution_count": 16,
     "metadata": {},
     "output_type": "execute_result"
    }
   ],
   "source": [
    "## color of car1\n",
    "car1.color"
   ]
  },
  {
   "cell_type": "code",
   "execution_count": 17,
   "id": "52b587a7",
   "metadata": {},
   "outputs": [
    {
     "data": {
      "text/plain": [
       "'blue'"
      ]
     },
     "execution_count": 17,
     "metadata": {},
     "output_type": "execute_result"
    }
   ],
   "source": [
    "car2.color"
   ]
  },
  {
   "cell_type": "code",
   "execution_count": 41,
   "id": "823fe4d9",
   "metadata": {},
   "outputs": [],
   "source": [
    "### \n",
    "class Vehicle:\n",
    "    def __init__(self,brand,color):\n",
    "        self.brand = brand\n",
    "        self.color = color\n",
    "    ## Method\n",
    "    def drive(self):\n",
    "        print(f\"The {self.color} {self.brand} vehicle is in motion.\")\n",
    "    def stop(self):\n",
    "        print(f\"The {self.color} {self.brand} vehicle has stopped.\")\n",
    "        \n",
    "class Car(Vehicle):\n",
    "    def __init__(self,brand,color,model):\n",
    "        super().__init__(brand, color)\n",
    "        self.model = model\n",
    "        \n",
    "    def div(self):\n",
    "        print(f\"The {self.color} {self.brand} {self.model} is cruising on the road.\")\n",
    "        \n",
    "class Motorcycle(Vehicle):\n",
    "    def __init__(self,brand,color,displacement):\n",
    "        self.displacement = displacement\n",
    "        super().__init__(brand, color)\n",
    "        \n",
    "    def motor(self):\n",
    "        print(f\"The {self.color} {self.brand} motorcycle is doing a wheelie.\")"
   ]
  },
  {
   "cell_type": "code",
   "execution_count": 23,
   "id": "b59075a6",
   "metadata": {},
   "outputs": [],
   "source": [
    "truck = Vehicle('Ashok','red')"
   ]
  },
  {
   "cell_type": "code",
   "execution_count": 24,
   "id": "a3067743",
   "metadata": {},
   "outputs": [
    {
     "name": "stdout",
     "output_type": "stream",
     "text": [
      "The red Ashok vehicle is in motion.\n"
     ]
    }
   ],
   "source": [
    "truck.drive()"
   ]
  },
  {
   "cell_type": "code",
   "execution_count": 25,
   "id": "d4d47414",
   "metadata": {},
   "outputs": [
    {
     "data": {
      "text/plain": [
       "'red'"
      ]
     },
     "execution_count": 25,
     "metadata": {},
     "output_type": "execute_result"
    }
   ],
   "source": [
    "truck.color"
   ]
  },
  {
   "cell_type": "code",
   "execution_count": 26,
   "id": "8b859a33",
   "metadata": {},
   "outputs": [
    {
     "name": "stdout",
     "output_type": "stream",
     "text": [
      "The red Ashok vehicle has stopped.\n"
     ]
    }
   ],
   "source": [
    "truck.stop()"
   ]
  },
  {
   "cell_type": "code",
   "execution_count": 28,
   "id": "05ec28cd",
   "metadata": {},
   "outputs": [],
   "source": [
    "car1 = Car('Tesla','Model s','Blue')"
   ]
  },
  {
   "cell_type": "code",
   "execution_count": 31,
   "id": "40110db6",
   "metadata": {},
   "outputs": [
    {
     "name": "stdout",
     "output_type": "stream",
     "text": [
      "The Model s Tesla Blue is cruising on the road.\n"
     ]
    }
   ],
   "source": [
    "car1.diver()"
   ]
  },
  {
   "cell_type": "code",
   "execution_count": 32,
   "id": "80c42651",
   "metadata": {},
   "outputs": [
    {
     "name": "stdout",
     "output_type": "stream",
     "text": [
      "The Model s Tesla vehicle is in motion.\n"
     ]
    }
   ],
   "source": [
    "car1.drive()"
   ]
  },
  {
   "cell_type": "code",
   "execution_count": 33,
   "id": "e64db2f9",
   "metadata": {},
   "outputs": [
    {
     "name": "stdout",
     "output_type": "stream",
     "text": [
      "The Model s Tesla vehicle has stopped.\n"
     ]
    }
   ],
   "source": [
    "car1.stop()"
   ]
  },
  {
   "cell_type": "code",
   "execution_count": 37,
   "id": "7cecf268",
   "metadata": {},
   "outputs": [],
   "source": [
    "splender = Motorcycle('Hero','red','100 cc')"
   ]
  },
  {
   "cell_type": "code",
   "execution_count": 40,
   "id": "5423b6da",
   "metadata": {},
   "outputs": [
    {
     "name": "stdout",
     "output_type": "stream",
     "text": [
      "The red Hero motorcycle is doing a wheelie.\n"
     ]
    }
   ],
   "source": [
    "splender.motor()"
   ]
  },
  {
   "cell_type": "code",
   "execution_count": 47,
   "id": "8f3a196a",
   "metadata": {},
   "outputs": [],
   "source": [
    "### Example\n",
    "\n",
    "class office:\n",
    "    def __init__(self,name,location,age):\n",
    "        self.name = name\n",
    "        self.age = age\n",
    "        self.location = location\n",
    "        \n",
    "    def __str__(self):\n",
    "        return f\"{self.age} {self.name} {self.location}\"\n",
    "    \n",
    "    def display_info(self):\n",
    "        print(f\"Name: {self.name}\")\n",
    "        print(f\"Age: {self.age}\")\n",
    "        print(f\"Location: {self.location}\")\n",
    "        \n",
    "\n",
    "class ITDepartment(office):\n",
    "    def __init__(self,name,location,age,role,programming):\n",
    "        self.role = role\n",
    "        self.programming = programming\n",
    "        super().__init__(name,location,age)\n",
    "    \n",
    "    def display_info(self):\n",
    "        print(f\"Name: {self.name}\")\n",
    "        print(f\"Age: {self.age}\")\n",
    "        print(f\"Location: {self.location}\")\n",
    "        print(f\"role: {self.role}\")\n",
    "        print(f\"programming: {self.programming}\")\n",
    "        \n",
    "\n",
    "class HrDepartment(office):\n",
    "    def __init__(self,name,location,age,role):\n",
    "        self.role = role\n",
    "        super().__init__(name,location,age)\n",
    "    \n",
    "    def display_info(self):\n",
    "        print(f\"Name: {self.name}\")\n",
    "        print(f\"Age: {self.age}\")\n",
    "        print(f\"Location: {self.location}\")\n",
    "        print(f\"role: {self.role}\")"
   ]
  },
  {
   "cell_type": "code",
   "execution_count": 48,
   "id": "7846a3c2",
   "metadata": {},
   "outputs": [],
   "source": [
    "it_employee = ITDepartment('AMit','Mumbai','25','Backend','Python')"
   ]
  },
  {
   "cell_type": "code",
   "execution_count": 49,
   "id": "baad21aa",
   "metadata": {},
   "outputs": [
    {
     "name": "stdout",
     "output_type": "stream",
     "text": [
      "Name: AMit\n",
      "Age: 25\n",
      "Location: Mumbai\n",
      "role: Backend\n",
      "programming: Python\n"
     ]
    }
   ],
   "source": [
    "it_employee.display_info()"
   ]
  },
  {
   "cell_type": "code",
   "execution_count": 1,
   "id": "b1d7c10d",
   "metadata": {},
   "outputs": [],
   "source": [
    "### inheritance\n",
    "### Polymorphism \n",
    "### Encapsulation\n",
    "\n",
    "\n"
   ]
  },
  {
   "cell_type": "code",
   "execution_count": 2,
   "id": "d24777f9",
   "metadata": {},
   "outputs": [
    {
     "name": "stdout",
     "output_type": "stream",
     "text": [
      "Eating...\n",
      "Barking...\n",
      "Swimming...\n"
     ]
    }
   ],
   "source": [
    "##Multilevel Inheritance\n",
    "\n",
    "class Animal:\n",
    "    def eat(self):\n",
    "        print(\"Eating...\")\n",
    "\n",
    "class Dog(Animal):\n",
    "    def eat(self):\n",
    "        print(\"Barking...\")\n",
    "\n",
    "class Labrador(Dog):\n",
    "    def eat(self):\n",
    "        print(\"Swimming...\")\n",
    "\n",
    "labrador = Labrador()\n",
    "labrador.eat()  # Output: Eating...\n",
    "labrador.()  # Output: Barking...\n",
    "labrador.swim()  # Output: Swimming...\n"
   ]
  },
  {
   "cell_type": "code",
   "execution_count": 3,
   "id": "1f9e30df",
   "metadata": {},
   "outputs": [
    {
     "name": "stdout",
     "output_type": "stream",
     "text": [
      "Woof!\n",
      "Meow!\n"
     ]
    }
   ],
   "source": [
    "class Animal:\n",
    "    def speak(self):\n",
    "        return \"Generic animal sound\"\n",
    "\n",
    "class Dog(Animal):\n",
    "    def speak(self):\n",
    "        return \"Woof!\"\n",
    "\n",
    "class Cat(Animal):\n",
    "    def speak(self):\n",
    "        return \"Meow!\"\n",
    "\n",
    "dog = Dog()\n",
    "cat = Cat()\n",
    "\n",
    "print(dog.speak())\n",
    "print(cat.speak())\n"
   ]
  },
  {
   "cell_type": "code",
   "execution_count": 4,
   "id": "7863280a",
   "metadata": {},
   "outputs": [
    {
     "name": "stdout",
     "output_type": "stream",
     "text": [
      "Private Variable\n",
      "Private Method\n",
      "Protected Variable\n",
      "Protected Method\n"
     ]
    }
   ],
   "source": [
    "#3 Encapsulation\n",
    "\n",
    "\n",
    "### Private Member\n",
    "\n",
    "class Parent:\n",
    "    def __init__(self):\n",
    "        self.__private_var = \"Private Variable\"\n",
    "        self._protected_var = \"Protected Variable\"\n",
    "\n",
    "    def __private_method(self):\n",
    "        print(\"Private Method\")\n",
    "\n",
    "    def _protected_method(self):\n",
    "        print(\"Protected Method\")\n",
    "\n",
    "class Child(Parent):\n",
    "    def access_private_member(self):\n",
    "        print(self._Parent__private_var)  # Name mangling\n",
    "        self._Parent__private_method()  # Name mangling\n",
    "\n",
    "    def access_protected_member(self):\n",
    "        print(self._protected_var)\n",
    "        self._protected_method()\n",
    "\n",
    "child = Child()\n",
    "child.access_private_member()  # Output: Private Variable \\n Private Method\n",
    "child.access_protected_member()  # Output: Protected Variable \\n Protected Method"
   ]
  },
  {
   "cell_type": "code",
   "execution_count": 10,
   "id": "b1e3f802",
   "metadata": {},
   "outputs": [
    {
     "name": "stdout",
     "output_type": "stream",
     "text": [
      "25\n",
      "amit\n",
      "google\n"
     ]
    }
   ],
   "source": [
    "class Parent:\n",
    "    def __init__(self):\n",
    "        self.__age = 25  ## private\n",
    "        self._name = 'amit'  ## protected\n",
    "        self.emp = 'google'  ## public\n",
    "        \n",
    "    \n",
    "class Child(Parent):\n",
    "    \n",
    "    def access_private_member(self):\n",
    "        print(self._Parent__age)\n",
    "        print(self._name)  \n",
    "        print(self.emp)\n",
    "\n",
    "\n",
    "           \n",
    "        \n",
    "child = Child()\n",
    "child.access_private_member()   "
   ]
  },
  {
   "cell_type": "code",
   "execution_count": 30,
   "id": "8be70177",
   "metadata": {},
   "outputs": [
    {
     "name": "stdout",
     "output_type": "stream",
     "text": [
      "parent class: 20\n",
      "Parent class: 20\n"
     ]
    }
   ],
   "source": [
    "\n",
    "class Parent:\n",
    "    def __init__(self):\n",
    "        self._protected_var = 10\n",
    "        self.__private = 20\n",
    "        self.name = 'amit'\n",
    "\n",
    "    def display(self):\n",
    "        print(\"parent class:\", self.__private)\n",
    "        print(\"Parent class:\", self._protected_var)\n",
    "\n",
    "\n",
    "class Child(Parent):\n",
    "    def __init__(self):\n",
    "        super().__init__()\n",
    "        self._protected_var = 20\n",
    "\n",
    "    def displ(self):\n",
    "        print(\"Child class:\", self._Parent__private)\n",
    "        print(\"Child class:\", self._protected_var)\n",
    "\n",
    "\n",
    "obj = Child()\n",
    "obj._Parent__display()"
   ]
  },
  {
   "cell_type": "code",
   "execution_count": 21,
   "id": "9dc4af6e",
   "metadata": {},
   "outputs": [
    {
     "name": "stdout",
     "output_type": "stream",
     "text": [
      "Private variable (Child class): 10\n",
      "Protected variable (Child class): 20\n"
     ]
    }
   ],
   "source": [
    "class Parent:\n",
    "    def __init__(self):\n",
    "        self.__private_var = 10\n",
    "        self._protected_var = 20\n",
    "\n",
    "class Child(Parent):\n",
    "    def display(self):\n",
    "#         print(\"Private variable (Child class):\", self.__private_var)\n",
    "        print(\"Private variable (Child class):\", self._Parent__private_var)\n",
    "        print(\"Protected variable (Child class):\", self._protected_var)\n",
    "\n",
    "obj = Child()\n",
    "obj.display()"
   ]
  },
  {
   "cell_type": "code",
   "execution_count": 31,
   "id": "b627dc7a",
   "metadata": {},
   "outputs": [
    {
     "name": "stdout",
     "output_type": "stream",
     "text": [
      "10\n"
     ]
    }
   ],
   "source": [
    "class MyClass:\n",
    "    def __init__(self):\n",
    "        self.__private_var = 10\n",
    "\n",
    "    def access_private_var(self):\n",
    "        return self.__private_var\n",
    "\n",
    "obj = MyClass()\n",
    "print(obj.access_private_var())"
   ]
  },
  {
   "cell_type": "code",
   "execution_count": 33,
   "id": "08f46168",
   "metadata": {},
   "outputs": [
    {
     "name": "stdout",
     "output_type": "stream",
     "text": [
      "Protected variable: 20\n"
     ]
    }
   ],
   "source": [
    "class MyClass:\n",
    "    def __init__(self):\n",
    "        self._protected_var = 20\n",
    "\n",
    "class ChildClass(MyClass):\n",
    "    def display(self):\n",
    "        print(\"Protected variable:\", self._protected_var)\n",
    "\n",
    "obj = ChildClass()\n",
    "obj.display()"
   ]
  },
  {
   "cell_type": "code",
   "execution_count": null,
   "id": "96320177",
   "metadata": {},
   "outputs": [],
   "source": [
    "class MyClass:\n",
    "    def __init__(self):\n",
    "        self.__private_var = 10\n",
    "\n",
    "    def get_private_var(self):\n",
    "        return self.__private_var\n",
    "\n",
    "class ChildClass(MyClass):\n",
    "    def display(self):\n",
    "        print(\"Private variable:\", self.get_private_var())\n",
    "\n",
    "obj = ChildClass()\n",
    "obj.display()\n"
   ]
  },
  {
   "cell_type": "code",
   "execution_count": 49,
   "id": "44783975",
   "metadata": {},
   "outputs": [
    {
     "name": "stdout",
     "output_type": "stream",
     "text": [
      "Amit\n",
      "25\n",
      "varanasi\n"
     ]
    }
   ],
   "source": [
    "class Myclass:\n",
    "    def __init__(self):\n",
    "        self.__age = 25\n",
    "        self.__name = 'Amit'\n",
    "        self._sex = 'M'\n",
    "        self.location = 'varanasi'\n",
    "        \n",
    "    def __get_display_age(self):\n",
    "        return self.__age\n",
    "    def get_display_name(self):\n",
    "        return self.__name\n",
    "    def _get_display_location(self):\n",
    "        return self.location\n",
    "    \n",
    "class Child(Myclass):\n",
    "    \n",
    "    def get_display_name(self):\n",
    "        return self._Myclass__name\n",
    "    \n",
    "    def display(self):\n",
    "#         print(self._Myclass__name)\n",
    "#         print(self._Myclass__name)\n",
    "#         print(self._sex)\n",
    "#         print(self.location)\n",
    "        print(self.get_display_name())\n",
    "        print(self._Myclass__get_display_age())\n",
    "        print(self._get_display_location())\n",
    "        \n",
    "obj1 = Child()\n",
    "obj1.display()"
   ]
  },
  {
   "cell_type": "code",
   "execution_count": null,
   "id": "dcceccb3",
   "metadata": {},
   "outputs": [],
   "source": []
  }
 ],
 "metadata": {
  "kernelspec": {
   "display_name": "Python 3 (ipykernel)",
   "language": "python",
   "name": "python3"
  },
  "language_info": {
   "codemirror_mode": {
    "name": "ipython",
    "version": 3
   },
   "file_extension": ".py",
   "mimetype": "text/x-python",
   "name": "python",
   "nbconvert_exporter": "python",
   "pygments_lexer": "ipython3",
   "version": "3.9.12"
  }
 },
 "nbformat": 4,
 "nbformat_minor": 5
}
